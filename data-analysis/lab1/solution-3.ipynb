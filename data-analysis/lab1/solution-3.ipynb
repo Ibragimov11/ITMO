{
 "cells": [
  {
   "cell_type": "markdown",
   "source": [
    "## Быстрая гистограмма"
   ],
   "metadata": {
    "collapsed": false
   }
  },
  {
   "cell_type": "code",
   "execution_count": 1,
   "outputs": [],
   "source": [
    "import numpy as np\n",
    "import matplotlib.pyplot as plt\n",
    "import random"
   ],
   "metadata": {
    "collapsed": false
   }
  },
  {
   "cell_type": "code",
   "execution_count": 2,
   "outputs": [],
   "source": [
    "from typing import List, Tuple, Union\n",
    "def fast_hist(array: List[Union[int, float]],\n",
    "              bins: int) -> Tuple[List[int], List[float]]:\n",
    "    \"\"\"\n",
    "    Builds bins' labels and bins' value counts for given array\n",
    "    :param array: array with numeric values\n",
    "    :param bins:  number of bins in result distribution\n",
    "    :return: Two lists:\n",
    "             first contains value counts of each bin,\n",
    "             second contains list of bins' labels\n",
    "    \"\"\"\n",
    "    array.sort()\n",
    "    labels = np.arange(array[0], array[-1], (array[-1] - array[0]) / bins)\n",
    "    regions = [0] * bins\n",
    "    r = 0\n",
    "    for b in range(bins):\n",
    "        next_bin_label = labels[b + 1] if b + 1 < bins else labels[b] + 1000\n",
    "        while r < len(array) and array[r] < next_bin_label:\n",
    "            regions[b] += 1\n",
    "            r += 1\n",
    "\n",
    "    return regions, labels"
   ],
   "metadata": {
    "collapsed": false
   }
  },
  {
   "cell_type": "code",
   "execution_count": 3,
   "outputs": [],
   "source": [
    "import timeit\n",
    "\n",
    "bins = 15\n",
    "data = [random.random() for _ in range(60)]\n",
    "\n",
    "def check_time(f, *args):\n",
    "    return timeit.timeit(lambda: f(*args), number=1)"
   ],
   "metadata": {
    "collapsed": false
   }
  },
  {
   "cell_type": "markdown",
   "source": [
    "#### Проверим время"
   ],
   "metadata": {
    "collapsed": false
   }
  },
  {
   "cell_type": "code",
   "execution_count": 4,
   "outputs": [
    {
     "data": {
      "text/plain": "154.6498230203091"
     },
     "execution_count": 4,
     "metadata": {},
     "output_type": "execute_result"
    },
    {
     "data": {
      "text/plain": "<Figure size 640x480 with 1 Axes>",
      "image/png": "[encoded data removed]"
     },
     "metadata": {},
     "output_type": "display_data"
    }
   ],
   "source": [
    "std = check_time(plt.hist, data, bins)\n",
    "fast = check_time(fast_hist, data, bins)\n",
    "std / fast"
   ],
   "metadata": {
    "collapsed": false
   }
  },
  {
   "cell_type": "markdown",
   "source": [
    "#### Построим графики"
   ],
   "metadata": {
    "collapsed": false
   }
  },
  {
   "cell_type": "code",
   "execution_count": 5,
   "outputs": [
    {
     "data": {
      "text/plain": "(array([9., 2., 3., 4., 5., 2., 4., 3., 5., 4., 3., 3., 4., 4., 5.]),\n array([0.07795273, 0.1391486 , 0.20034447, 0.26154034, 0.32273621,\n        0.38393208, 0.44512795, 0.50632382, 0.56751969, 0.62871556,\n        0.68991143, 0.7511073 , 0.81230317, 0.87349904, 0.93469491,\n        0.99589078]),\n <BarContainer object of 15 artists>)"
     },
     "execution_count": 5,
     "metadata": {},
     "output_type": "execute_result"
    },
    {
     "data": {
      "text/plain": "<Figure size 640x480 with 1 Axes>",
      "image/png": "[encoded data removed]"
     },
     "metadata": {},
     "output_type": "display_data"
    }
   ],
   "source": [
    "plt.hist(data, bins)"
   ],
   "metadata": {
    "collapsed": false
   }
  },
  {
   "cell_type": "code",
   "execution_count": 6,
   "outputs": [
    {
     "name": "stdout",
     "output_type": "stream",
     "text": [
      "([9, 2, 3, 4, 5, 2, 4, 3, 5, 4, 3, 3, 4, 4, 5], array([0.07795273, 0.1391486 , 0.20034447, 0.26154034, 0.32273621,\n",
      "       0.38393208, 0.44512795, 0.50632382, 0.56751969, 0.62871556,\n",
      "       0.68991143, 0.7511073 , 0.81230317, 0.87349904, 0.93469491]))\n"
     ]
    },
    {
     "data": {
      "text/plain": "<Figure size 640x480 with 1 Axes>",
      "image/png": "[encoded data removed]"
     },
     "metadata": {},
     "output_type": "display_data"
    }
   ],
   "source": [
    "width = (data[-1] - data[0]) / bins\n",
    "height, labels = fast_hist(data, bins)\n",
    "plt.bar(labels, height, width)\n",
    "print(fast_hist(data, bins))\n",
    "plt.show()"
   ],
   "metadata": {
    "collapsed": false
   }
  }
 ],
 "metadata": {
  "kernelspec": {
   "display_name": "Python 3",
   "language": "python",
   "name": "python3"
  },
  "language_info": {
   "codemirror_mode": {
    "name": "ipython",
    "version": 2
   },
   "file_extension": ".py",
   "mimetype": "text/x-python",
   "name": "python",
   "nbconvert_exporter": "python",
   "pygments_lexer": "ipython2",
   "version": "2.7.6"
  }
 },
 "nbformat": 4,
 "nbformat_minor": 0
}
