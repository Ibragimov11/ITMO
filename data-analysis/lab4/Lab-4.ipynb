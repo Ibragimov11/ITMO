{
 "cells": [
  {
   "cell_type": "code",
   "execution_count": 1,
   "metadata": {
    "collapsed": true
   },
   "outputs": [],
   "source": [
    "import numpy as np\n",
    "import pandas as pd\n",
    "\n",
    "from sklearn.linear_model import LinearRegression"
   ]
  },
  {
   "cell_type": "code",
   "execution_count": 2,
   "outputs": [
    {
     "name": "stdout",
     "output_type": "stream",
     "text": [
      "(206474, 76)\n"
     ]
    },
    {
     "data": {
      "text/plain": "            city  floor          id        lat        lng  \\\n0     Ставрополь    1.0   COL_65683  45.011356  41.919273   \n1           Омск    1.0  COL_159011  54.984833  73.387344   \n2       Белгород    1.0  COL_205850  50.576805  36.563267   \n3  Большой Исток    1.0  COL_229491  56.714413  60.792454   \n4    Новосибирск    1.0   COL_77283  55.055200  82.895810   \n\n   osm_amenity_points_in_0.001  osm_amenity_points_in_0.005  \\\n0                            7                           71   \n1                            4                           40   \n2                            0                            9   \n3                            0                            0   \n4                            0                           25   \n\n   osm_amenity_points_in_0.0075  osm_amenity_points_in_0.01  \\\n0                           144                         225   \n1                           109                         206   \n2                            22                          44   \n3                             0                           1   \n4                            50                         101   \n\n   osm_building_points_in_0.001  ...  reform_house_population_500  \\\n0                             0  ...                        969.0   \n1                             0  ...                        305.0   \n2                             0  ...                        533.0   \n3                             0  ...                        599.0   \n4                             0  ...                       1188.0   \n\n   reform_mean_floor_count_1000  reform_mean_floor_count_500  \\\n0                      8.439655                     9.250000   \n1                      4.756410                     4.333333   \n2                      6.435897                     6.400000   \n3                      6.386792                     6.418393   \n4                      6.830065                     6.672414   \n\n   reform_mean_year_building_1000  reform_mean_year_building_500  \\\n0                     1990.232759                    1993.500000   \n1                     1960.346154                    1956.291667   \n2                     1980.452991                    1989.633333   \n3                     1970.936170                    1971.709677   \n4                     1974.045752                    1974.637931   \n\n                  region  total_square  street        date  realty_type  \n0    Ставропольский край          31.0   S1842  2020-02-23           10  \n1         Омская область         150.0  S14290  2020-05-24           10  \n2   Белгородская область          73.0  S25733  2020-06-28           10  \n3   Свердловская область         438.0   S6985  2020-07-19          110  \n4  Новосибирская область          62.7   S4778  2020-03-01           10  \n\n[5 rows x 76 columns]",
      "text/html": "<div>\n<style scoped>\n    .dataframe tbody tr th:only-of-type {\n        vertical-align: middle;\n    }\n\n    .dataframe tbody tr th {\n        vertical-align: top;\n    }\n\n    .dataframe thead th {\n        text-align: right;\n    }\n</style>\n<table border=\"1\" class=\"dataframe\">\n  <thead>\n    <tr style=\"text-align: right;\">\n      <th></th>\n      <th>city</th>\n      <th>floor</th>\n      <th>id</th>\n      <th>lat</th>\n      <th>lng</th>\n      <th>osm_amenity_points_in_0.001</th>\n      <th>osm_amenity_points_in_0.005</th>\n      <th>osm_amenity_points_in_0.0075</th>\n      <th>osm_amenity_points_in_0.01</th>\n      <th>osm_building_points_in_0.001</th>\n      <th>...</th>\n      <th>reform_house_population_500</th>\n      <th>reform_mean_floor_count_1000</th>\n      <th>reform_mean_floor_count_500</th>\n      <th>reform_mean_year_building_1000</th>\n      <th>reform_mean_year_building_500</th>\n      <th>region</th>\n      <th>total_square</th>\n      <th>street</th>\n      <th>date</th>\n      <th>realty_type</th>\n    </tr>\n  </thead>\n  <tbody>\n    <tr>\n      <th>0</th>\n      <td>Ставрополь</td>\n      <td>1.0</td>\n      <td>COL_65683</td>\n      <td>45.011356</td>\n      <td>41.919273</td>\n      <td>7</td>\n      <td>71</td>\n      <td>144</td>\n      <td>225</td>\n      <td>0</td>\n      <td>...</td>\n      <td>969.0</td>\n      <td>8.439655</td>\n      <td>9.250000</td>\n      <td>1990.232759</td>\n      <td>1993.500000</td>\n      <td>Ставропольский край</td>\n      <td>31.0</td>\n      <td>S1842</td>\n      <td>2020-02-23</td>\n      <td>10</td>\n    </tr>\n    <tr>\n      <th>1</th>\n      <td>Омск</td>\n      <td>1.0</td>\n      <td>COL_159011</td>\n      <td>54.984833</td>\n      <td>73.387344</td>\n      <td>4</td>\n      <td>40</td>\n      <td>109</td>\n      <td>206</td>\n      <td>0</td>\n      <td>...</td>\n      <td>305.0</td>\n      <td>4.756410</td>\n      <td>4.333333</td>\n      <td>1960.346154</td>\n      <td>1956.291667</td>\n      <td>Омская область</td>\n      <td>150.0</td>\n      <td>S14290</td>\n      <td>2020-05-24</td>\n      <td>10</td>\n    </tr>\n    <tr>\n      <th>2</th>\n      <td>Белгород</td>\n      <td>1.0</td>\n      <td>COL_205850</td>\n      <td>50.576805</td>\n      <td>36.563267</td>\n      <td>0</td>\n      <td>9</td>\n      <td>22</td>\n      <td>44</td>\n      <td>0</td>\n      <td>...</td>\n      <td>533.0</td>\n      <td>6.435897</td>\n      <td>6.400000</td>\n      <td>1980.452991</td>\n      <td>1989.633333</td>\n      <td>Белгородская область</td>\n      <td>73.0</td>\n      <td>S25733</td>\n      <td>2020-06-28</td>\n      <td>10</td>\n    </tr>\n    <tr>\n      <th>3</th>\n      <td>Большой Исток</td>\n      <td>1.0</td>\n      <td>COL_229491</td>\n      <td>56.714413</td>\n      <td>60.792454</td>\n      <td>0</td>\n      <td>0</td>\n      <td>0</td>\n      <td>1</td>\n      <td>0</td>\n      <td>...</td>\n      <td>599.0</td>\n      <td>6.386792</td>\n      <td>6.418393</td>\n      <td>1970.936170</td>\n      <td>1971.709677</td>\n      <td>Свердловская область</td>\n      <td>438.0</td>\n      <td>S6985</td>\n      <td>2020-07-19</td>\n      <td>110</td>\n    </tr>\n    <tr>\n      <th>4</th>\n      <td>Новосибирск</td>\n      <td>1.0</td>\n      <td>COL_77283</td>\n      <td>55.055200</td>\n      <td>82.895810</td>\n      <td>0</td>\n      <td>25</td>\n      <td>50</td>\n      <td>101</td>\n      <td>0</td>\n      <td>...</td>\n      <td>1188.0</td>\n      <td>6.830065</td>\n      <td>6.672414</td>\n      <td>1974.045752</td>\n      <td>1974.637931</td>\n      <td>Новосибирская область</td>\n      <td>62.7</td>\n      <td>S4778</td>\n      <td>2020-03-01</td>\n      <td>10</td>\n    </tr>\n  </tbody>\n</table>\n<p>5 rows × 76 columns</p>\n</div>"
     },
     "execution_count": 2,
     "metadata": {},
     "output_type": "execute_result"
    }
   ],
   "source": [
    "df = pd.read_csv(\"train.csv\")\n",
    "df = df.fillna(df.median(numeric_only=True))\n",
    "print(df.shape)\n",
    "df.head()"
   ],
   "metadata": {
    "collapsed": false
   }
  },
  {
   "cell_type": "code",
   "execution_count": 3,
   "outputs": [
    {
     "name": "stdout",
     "output_type": "stream",
     "text": [
      "<class 'pandas.core.frame.DataFrame'>\n",
      "RangeIndex: 206474 entries, 0 to 206473\n",
      "Data columns (total 76 columns):\n",
      " #   Column                               Non-Null Count   Dtype  \n",
      "---  ------                               --------------   -----  \n",
      " 0   city                                 206474 non-null  object \n",
      " 1   floor                                206474 non-null  float64\n",
      " 2   id                                   206474 non-null  object \n",
      " 3   lat                                  206474 non-null  float64\n",
      " 4   lng                                  206474 non-null  float64\n",
      " 5   osm_amenity_points_in_0.001          206474 non-null  int64  \n",
      " 6   osm_amenity_points_in_0.005          206474 non-null  int64  \n",
      " 7   osm_amenity_points_in_0.0075         206474 non-null  int64  \n",
      " 8   osm_amenity_points_in_0.01           206474 non-null  int64  \n",
      " 9   osm_building_points_in_0.001         206474 non-null  int64  \n",
      " 10  osm_building_points_in_0.005         206474 non-null  int64  \n",
      " 11  osm_building_points_in_0.0075        206474 non-null  int64  \n",
      " 12  osm_building_points_in_0.01          206474 non-null  int64  \n",
      " 13  osm_catering_points_in_0.001         206474 non-null  int64  \n",
      " 14  osm_catering_points_in_0.005         206474 non-null  int64  \n",
      " 15  osm_catering_points_in_0.0075        206474 non-null  int64  \n",
      " 16  osm_catering_points_in_0.01          206474 non-null  int64  \n",
      " 17  osm_city_closest_dist                206474 non-null  float64\n",
      " 18  osm_city_nearest_name                206474 non-null  object \n",
      " 19  osm_city_nearest_population          206474 non-null  float64\n",
      " 20  osm_crossing_closest_dist            206474 non-null  float64\n",
      " 21  osm_crossing_points_in_0.001         206474 non-null  int64  \n",
      " 22  osm_crossing_points_in_0.005         206474 non-null  int64  \n",
      " 23  osm_crossing_points_in_0.0075        206474 non-null  int64  \n",
      " 24  osm_crossing_points_in_0.01          206474 non-null  int64  \n",
      " 25  osm_culture_points_in_0.001          206474 non-null  int64  \n",
      " 26  osm_culture_points_in_0.005          206474 non-null  int64  \n",
      " 27  osm_culture_points_in_0.0075         206474 non-null  int64  \n",
      " 28  osm_culture_points_in_0.01           206474 non-null  int64  \n",
      " 29  osm_finance_points_in_0.001          206474 non-null  int64  \n",
      " 30  osm_finance_points_in_0.005          206474 non-null  int64  \n",
      " 31  osm_finance_points_in_0.0075         206474 non-null  int64  \n",
      " 32  osm_finance_points_in_0.01           206474 non-null  int64  \n",
      " 33  osm_healthcare_points_in_0.005       206474 non-null  int64  \n",
      " 34  osm_healthcare_points_in_0.0075      206474 non-null  int64  \n",
      " 35  osm_healthcare_points_in_0.01        206474 non-null  int64  \n",
      " 36  osm_historic_points_in_0.005         206474 non-null  int64  \n",
      " 37  osm_historic_points_in_0.0075        206474 non-null  int64  \n",
      " 38  osm_historic_points_in_0.01          206474 non-null  int64  \n",
      " 39  osm_hotels_points_in_0.005           206474 non-null  int64  \n",
      " 40  osm_hotels_points_in_0.0075          206474 non-null  int64  \n",
      " 41  osm_hotels_points_in_0.01            206474 non-null  int64  \n",
      " 42  osm_leisure_points_in_0.005          206474 non-null  int64  \n",
      " 43  osm_leisure_points_in_0.0075         206474 non-null  int64  \n",
      " 44  osm_leisure_points_in_0.01           206474 non-null  int64  \n",
      " 45  osm_offices_points_in_0.001          206474 non-null  int64  \n",
      " 46  osm_offices_points_in_0.005          206474 non-null  int64  \n",
      " 47  osm_offices_points_in_0.0075         206474 non-null  int64  \n",
      " 48  osm_offices_points_in_0.01           206474 non-null  int64  \n",
      " 49  osm_shops_points_in_0.001            206474 non-null  int64  \n",
      " 50  osm_shops_points_in_0.005            206474 non-null  int64  \n",
      " 51  osm_shops_points_in_0.0075           206474 non-null  int64  \n",
      " 52  osm_shops_points_in_0.01             206474 non-null  int64  \n",
      " 53  osm_subway_closest_dist              206474 non-null  float64\n",
      " 54  osm_train_stop_closest_dist          206474 non-null  float64\n",
      " 55  osm_train_stop_points_in_0.005       206474 non-null  int64  \n",
      " 56  osm_train_stop_points_in_0.0075      206474 non-null  int64  \n",
      " 57  osm_train_stop_points_in_0.01        206474 non-null  int64  \n",
      " 58  osm_transport_stop_closest_dist      206474 non-null  float64\n",
      " 59  osm_transport_stop_points_in_0.005   206474 non-null  int64  \n",
      " 60  osm_transport_stop_points_in_0.0075  206474 non-null  int64  \n",
      " 61  osm_transport_stop_points_in_0.01    206474 non-null  int64  \n",
      " 62  per_square_meter_price               206474 non-null  float64\n",
      " 63  reform_count_of_houses_1000          206474 non-null  int64  \n",
      " 64  reform_count_of_houses_500           206474 non-null  int64  \n",
      " 65  reform_house_population_1000         206474 non-null  float64\n",
      " 66  reform_house_population_500          206474 non-null  float64\n",
      " 67  reform_mean_floor_count_1000         206474 non-null  float64\n",
      " 68  reform_mean_floor_count_500          206474 non-null  float64\n",
      " 69  reform_mean_year_building_1000       206474 non-null  float64\n",
      " 70  reform_mean_year_building_500        206474 non-null  float64\n",
      " 71  region                               206474 non-null  object \n",
      " 72  total_square                         206474 non-null  float64\n",
      " 73  street                               205271 non-null  object \n",
      " 74  date                                 206474 non-null  object \n",
      " 75  realty_type                          206474 non-null  int64  \n",
      "dtypes: float64(17), int64(53), object(6)\n",
      "memory usage: 119.7+ MB\n"
     ]
    }
   ],
   "source": [
    "df.info()"
   ],
   "metadata": {
    "collapsed": false
   }
  },
  {
   "cell_type": "code",
   "execution_count": 4,
   "outputs": [
    {
     "data": {
      "text/plain": "   per_square_meter_price  floor                 region  total_square  \\\n0            17645.161290    1.0    Ставропольский край          31.0   \n1            33166.666667    1.0         Омская область         150.0   \n2            22493.150685    1.0   Белгородская область          73.0   \n3            79509.132420    1.0   Свердловская область         438.0   \n4           126937.799043    1.0  Новосибирская область          62.7   \n\n   realty_type  \n0           10  \n1           10  \n2           10  \n3          110  \n4           10  ",
      "text/html": "<div>\n<style scoped>\n    .dataframe tbody tr th:only-of-type {\n        vertical-align: middle;\n    }\n\n    .dataframe tbody tr th {\n        vertical-align: top;\n    }\n\n    .dataframe thead th {\n        text-align: right;\n    }\n</style>\n<table border=\"1\" class=\"dataframe\">\n  <thead>\n    <tr style=\"text-align: right;\">\n      <th></th>\n      <th>per_square_meter_price</th>\n      <th>floor</th>\n      <th>region</th>\n      <th>total_square</th>\n      <th>realty_type</th>\n    </tr>\n  </thead>\n  <tbody>\n    <tr>\n      <th>0</th>\n      <td>17645.161290</td>\n      <td>1.0</td>\n      <td>Ставропольский край</td>\n      <td>31.0</td>\n      <td>10</td>\n    </tr>\n    <tr>\n      <th>1</th>\n      <td>33166.666667</td>\n      <td>1.0</td>\n      <td>Омская область</td>\n      <td>150.0</td>\n      <td>10</td>\n    </tr>\n    <tr>\n      <th>2</th>\n      <td>22493.150685</td>\n      <td>1.0</td>\n      <td>Белгородская область</td>\n      <td>73.0</td>\n      <td>10</td>\n    </tr>\n    <tr>\n      <th>3</th>\n      <td>79509.132420</td>\n      <td>1.0</td>\n      <td>Свердловская область</td>\n      <td>438.0</td>\n      <td>110</td>\n    </tr>\n    <tr>\n      <th>4</th>\n      <td>126937.799043</td>\n      <td>1.0</td>\n      <td>Новосибирская область</td>\n      <td>62.7</td>\n      <td>10</td>\n    </tr>\n  </tbody>\n</table>\n</div>"
     },
     "execution_count": 4,
     "metadata": {},
     "output_type": "execute_result"
    }
   ],
   "source": [
    "corr_columns = ['per_square_meter_price', 'floor', 'region', 'total_square', 'realty_type']\n",
    "corr_columns_without_per_price = ['floor', 'region', 'total_square', 'realty_type']\n",
    "numeric_columns = ['total_square', 'floor', 'realty_type']\n",
    "category_columns = ['region']\n",
    "df = df[corr_columns]\n",
    "df.head()"
   ],
   "metadata": {
    "collapsed": false
   }
  },
  {
   "cell_type": "code",
   "execution_count": 5,
   "outputs": [
    {
     "data": {
      "text/plain": "        per_square_meter_price  floor                 region  total_square  \\\n0                     9.778217    1.0    Ставропольский край         31.00   \n1                    10.409301    1.0         Омская область        150.00   \n2                    10.020966    1.0   Белгородская область         73.00   \n3                    11.283627    1.0   Свердловская область        438.00   \n4                    11.751452    1.0  Новосибирская область         62.70   \n...                        ...    ...                    ...           ...   \n206469               11.013418    1.0   Свердловская область         41.00   \n206470               11.222595    1.0  Новосибирская область         98.30   \n206471                9.745967    1.0    Ставропольский край        921.50   \n206472               11.839819    5.0        Санкт-Петербург         40.01   \n206473               12.048225    1.0   Свердловская область         40.20   \n\n        realty_type  \n0                10  \n1                10  \n2                10  \n3               110  \n4                10  \n...             ...  \n206469          100  \n206470          110  \n206471          100  \n206472           10  \n206473          110  \n\n[206474 rows x 5 columns]",
      "text/html": "<div>\n<style scoped>\n    .dataframe tbody tr th:only-of-type {\n        vertical-align: middle;\n    }\n\n    .dataframe tbody tr th {\n        vertical-align: top;\n    }\n\n    .dataframe thead th {\n        text-align: right;\n    }\n</style>\n<table border=\"1\" class=\"dataframe\">\n  <thead>\n    <tr style=\"text-align: right;\">\n      <th></th>\n      <th>per_square_meter_price</th>\n      <th>floor</th>\n      <th>region</th>\n      <th>total_square</th>\n      <th>realty_type</th>\n    </tr>\n  </thead>\n  <tbody>\n    <tr>\n      <th>0</th>\n      <td>9.778217</td>\n      <td>1.0</td>\n      <td>Ставропольский край</td>\n      <td>31.00</td>\n      <td>10</td>\n    </tr>\n    <tr>\n      <th>1</th>\n      <td>10.409301</td>\n      <td>1.0</td>\n      <td>Омская область</td>\n      <td>150.00</td>\n      <td>10</td>\n    </tr>\n    <tr>\n      <th>2</th>\n      <td>10.020966</td>\n      <td>1.0</td>\n      <td>Белгородская область</td>\n      <td>73.00</td>\n      <td>10</td>\n    </tr>\n    <tr>\n      <th>3</th>\n      <td>11.283627</td>\n      <td>1.0</td>\n      <td>Свердловская область</td>\n      <td>438.00</td>\n      <td>110</td>\n    </tr>\n    <tr>\n      <th>4</th>\n      <td>11.751452</td>\n      <td>1.0</td>\n      <td>Новосибирская область</td>\n      <td>62.70</td>\n      <td>10</td>\n    </tr>\n    <tr>\n      <th>...</th>\n      <td>...</td>\n      <td>...</td>\n      <td>...</td>\n      <td>...</td>\n      <td>...</td>\n    </tr>\n    <tr>\n      <th>206469</th>\n      <td>11.013418</td>\n      <td>1.0</td>\n      <td>Свердловская область</td>\n      <td>41.00</td>\n      <td>100</td>\n    </tr>\n    <tr>\n      <th>206470</th>\n      <td>11.222595</td>\n      <td>1.0</td>\n      <td>Новосибирская область</td>\n      <td>98.30</td>\n      <td>110</td>\n    </tr>\n    <tr>\n      <th>206471</th>\n      <td>9.745967</td>\n      <td>1.0</td>\n      <td>Ставропольский край</td>\n      <td>921.50</td>\n      <td>100</td>\n    </tr>\n    <tr>\n      <th>206472</th>\n      <td>11.839819</td>\n      <td>5.0</td>\n      <td>Санкт-Петербург</td>\n      <td>40.01</td>\n      <td>10</td>\n    </tr>\n    <tr>\n      <th>206473</th>\n      <td>12.048225</td>\n      <td>1.0</td>\n      <td>Свердловская область</td>\n      <td>40.20</td>\n      <td>110</td>\n    </tr>\n  </tbody>\n</table>\n<p>206474 rows × 5 columns</p>\n</div>"
     },
     "execution_count": 5,
     "metadata": {},
     "output_type": "execute_result"
    }
   ],
   "source": [
    "df['per_square_meter_price'] = np.log(df['per_square_meter_price'])\n",
    "df"
   ],
   "metadata": {
    "collapsed": false
   }
  },
  {
   "cell_type": "code",
   "execution_count": 6,
   "outputs": [
    {
     "data": {
      "text/plain": "        region_Адыгея  region_Алтай  region_Алтайский край  \\\n0                   0             0                      0   \n1                   0             0                      0   \n2                   0             0                      0   \n3                   0             0                      0   \n4                   0             0                      0   \n...               ...           ...                    ...   \n206469              0             0                      0   \n206470              0             0                      0   \n206471              0             0                      0   \n206472              0             0                      0   \n206473              0             0                      0   \n\n        region_Башкортостан  region_Белгородская область  \\\n0                         0                            0   \n1                         0                            0   \n2                         0                            1   \n3                         0                            0   \n4                         0                            0   \n...                     ...                          ...   \n206469                    0                            0   \n206470                    0                            0   \n206471                    0                            0   \n206472                    0                            0   \n206473                    0                            0   \n\n        region_Брянская область  region_Волгоградская область  \\\n0                             0                             0   \n1                             0                             0   \n2                             0                             0   \n3                             0                             0   \n4                             0                             0   \n...                         ...                           ...   \n206469                        0                             0   \n206470                        0                             0   \n206471                        0                             0   \n206472                        0                             0   \n206473                        0                             0   \n\n        region_Вологодская область  region_Воронежская область  \\\n0                                0                           0   \n1                                0                           0   \n2                                0                           0   \n3                                0                           0   \n4                                0                           0   \n...                            ...                         ...   \n206469                           0                           0   \n206470                           0                           0   \n206471                           0                           0   \n206472                           0                           0   \n206473                           0                           0   \n\n        region_Ивановская область  ...  region_Ставропольский край  \\\n0                               0  ...                           1   \n1                               0  ...                           0   \n2                               0  ...                           0   \n3                               0  ...                           0   \n4                               0  ...                           0   \n...                           ...  ...                         ...   \n206469                          0  ...                           0   \n206470                          0  ...                           0   \n206471                          0  ...                           1   \n206472                          0  ...                           0   \n206473                          0  ...                           0   \n\n        region_Татарстан  region_Томская область  region_Тульская область  \\\n0                      0                       0                        0   \n1                      0                       0                        0   \n2                      0                       0                        0   \n3                      0                       0                        0   \n4                      0                       0                        0   \n...                  ...                     ...                      ...   \n206469                 0                       0                        0   \n206470                 0                       0                        0   \n206471                 0                       0                        0   \n206472                 0                       0                        0   \n206473                 0                       0                        0   \n\n        region_Тюменская область  region_Удмуртия  region_Ульяновская область  \\\n0                              0                0                           0   \n1                              0                0                           0   \n2                              0                0                           0   \n3                              0                0                           0   \n4                              0                0                           0   \n...                          ...              ...                         ...   \n206469                         0                0                           0   \n206470                         0                0                           0   \n206471                         0                0                           0   \n206472                         0                0                           0   \n206473                         0                0                           0   \n\n        region_Ханты-Мансийский АО  region_Челябинская область  \\\n0                                0                           0   \n1                                0                           0   \n2                                0                           0   \n3                                0                           0   \n4                                0                           0   \n...                            ...                         ...   \n206469                           0                           0   \n206470                           0                           0   \n206471                           0                           0   \n206472                           0                           0   \n206473                           0                           0   \n\n        region_Ярославская область  \n0                                0  \n1                                0  \n2                                0  \n3                                0  \n4                                0  \n...                            ...  \n206469                           0  \n206470                           0  \n206471                           0  \n206472                           0  \n206473                           0  \n\n[206474 rows x 49 columns]",
      "text/html": "<div>\n<style scoped>\n    .dataframe tbody tr th:only-of-type {\n        vertical-align: middle;\n    }\n\n    .dataframe tbody tr th {\n        vertical-align: top;\n    }\n\n    .dataframe thead th {\n        text-align: right;\n    }\n</style>\n<table border=\"1\" class=\"dataframe\">\n  <thead>\n    <tr style=\"text-align: right;\">\n      <th></th>\n      <th>region_Адыгея</th>\n      <th>region_Алтай</th>\n      <th>region_Алтайский край</th>\n      <th>region_Башкортостан</th>\n      <th>region_Белгородская область</th>\n      <th>region_Брянская область</th>\n      <th>region_Волгоградская область</th>\n      <th>region_Вологодская область</th>\n      <th>region_Воронежская область</th>\n      <th>region_Ивановская область</th>\n      <th>...</th>\n      <th>region_Ставропольский край</th>\n      <th>region_Татарстан</th>\n      <th>region_Томская область</th>\n      <th>region_Тульская область</th>\n      <th>region_Тюменская область</th>\n      <th>region_Удмуртия</th>\n      <th>region_Ульяновская область</th>\n      <th>region_Ханты-Мансийский АО</th>\n      <th>region_Челябинская область</th>\n      <th>region_Ярославская область</th>\n    </tr>\n  </thead>\n  <tbody>\n    <tr>\n      <th>0</th>\n      <td>0</td>\n      <td>0</td>\n      <td>0</td>\n      <td>0</td>\n      <td>0</td>\n      <td>0</td>\n      <td>0</td>\n      <td>0</td>\n      <td>0</td>\n      <td>0</td>\n      <td>...</td>\n      <td>1</td>\n      <td>0</td>\n      <td>0</td>\n      <td>0</td>\n      <td>0</td>\n      <td>0</td>\n      <td>0</td>\n      <td>0</td>\n      <td>0</td>\n      <td>0</td>\n    </tr>\n    <tr>\n      <th>1</th>\n      <td>0</td>\n      <td>0</td>\n      <td>0</td>\n      <td>0</td>\n      <td>0</td>\n      <td>0</td>\n      <td>0</td>\n      <td>0</td>\n      <td>0</td>\n      <td>0</td>\n      <td>...</td>\n      <td>0</td>\n      <td>0</td>\n      <td>0</td>\n      <td>0</td>\n      <td>0</td>\n      <td>0</td>\n      <td>0</td>\n      <td>0</td>\n      <td>0</td>\n      <td>0</td>\n    </tr>\n    <tr>\n      <th>2</th>\n      <td>0</td>\n      <td>0</td>\n      <td>0</td>\n      <td>0</td>\n      <td>1</td>\n      <td>0</td>\n      <td>0</td>\n      <td>0</td>\n      <td>0</td>\n      <td>0</td>\n      <td>...</td>\n      <td>0</td>\n      <td>0</td>\n      <td>0</td>\n      <td>0</td>\n      <td>0</td>\n      <td>0</td>\n      <td>0</td>\n      <td>0</td>\n      <td>0</td>\n      <td>0</td>\n    </tr>\n    <tr>\n      <th>3</th>\n      <td>0</td>\n      <td>0</td>\n      <td>0</td>\n      <td>0</td>\n      <td>0</td>\n      <td>0</td>\n      <td>0</td>\n      <td>0</td>\n      <td>0</td>\n      <td>0</td>\n      <td>...</td>\n      <td>0</td>\n      <td>0</td>\n      <td>0</td>\n      <td>0</td>\n      <td>0</td>\n      <td>0</td>\n      <td>0</td>\n      <td>0</td>\n      <td>0</td>\n      <td>0</td>\n    </tr>\n    <tr>\n      <th>4</th>\n      <td>0</td>\n      <td>0</td>\n      <td>0</td>\n      <td>0</td>\n      <td>0</td>\n      <td>0</td>\n      <td>0</td>\n      <td>0</td>\n      <td>0</td>\n      <td>0</td>\n      <td>...</td>\n      <td>0</td>\n      <td>0</td>\n      <td>0</td>\n      <td>0</td>\n      <td>0</td>\n      <td>0</td>\n      <td>0</td>\n      <td>0</td>\n      <td>0</td>\n      <td>0</td>\n    </tr>\n    <tr>\n      <th>...</th>\n      <td>...</td>\n      <td>...</td>\n      <td>...</td>\n      <td>...</td>\n      <td>...</td>\n      <td>...</td>\n      <td>...</td>\n      <td>...</td>\n      <td>...</td>\n      <td>...</td>\n      <td>...</td>\n      <td>...</td>\n      <td>...</td>\n      <td>...</td>\n      <td>...</td>\n      <td>...</td>\n      <td>...</td>\n      <td>...</td>\n      <td>...</td>\n      <td>...</td>\n      <td>...</td>\n    </tr>\n    <tr>\n      <th>206469</th>\n      <td>0</td>\n      <td>0</td>\n      <td>0</td>\n      <td>0</td>\n      <td>0</td>\n      <td>0</td>\n      <td>0</td>\n      <td>0</td>\n      <td>0</td>\n      <td>0</td>\n      <td>...</td>\n      <td>0</td>\n      <td>0</td>\n      <td>0</td>\n      <td>0</td>\n      <td>0</td>\n      <td>0</td>\n      <td>0</td>\n      <td>0</td>\n      <td>0</td>\n      <td>0</td>\n    </tr>\n    <tr>\n      <th>206470</th>\n      <td>0</td>\n      <td>0</td>\n      <td>0</td>\n      <td>0</td>\n      <td>0</td>\n      <td>0</td>\n      <td>0</td>\n      <td>0</td>\n      <td>0</td>\n      <td>0</td>\n      <td>...</td>\n      <td>0</td>\n      <td>0</td>\n      <td>0</td>\n      <td>0</td>\n      <td>0</td>\n      <td>0</td>\n      <td>0</td>\n      <td>0</td>\n      <td>0</td>\n      <td>0</td>\n    </tr>\n    <tr>\n      <th>206471</th>\n      <td>0</td>\n      <td>0</td>\n      <td>0</td>\n      <td>0</td>\n      <td>0</td>\n      <td>0</td>\n      <td>0</td>\n      <td>0</td>\n      <td>0</td>\n      <td>0</td>\n      <td>...</td>\n      <td>1</td>\n      <td>0</td>\n      <td>0</td>\n      <td>0</td>\n      <td>0</td>\n      <td>0</td>\n      <td>0</td>\n      <td>0</td>\n      <td>0</td>\n      <td>0</td>\n    </tr>\n    <tr>\n      <th>206472</th>\n      <td>0</td>\n      <td>0</td>\n      <td>0</td>\n      <td>0</td>\n      <td>0</td>\n      <td>0</td>\n      <td>0</td>\n      <td>0</td>\n      <td>0</td>\n      <td>0</td>\n      <td>...</td>\n      <td>0</td>\n      <td>0</td>\n      <td>0</td>\n      <td>0</td>\n      <td>0</td>\n      <td>0</td>\n      <td>0</td>\n      <td>0</td>\n      <td>0</td>\n      <td>0</td>\n    </tr>\n    <tr>\n      <th>206473</th>\n      <td>0</td>\n      <td>0</td>\n      <td>0</td>\n      <td>0</td>\n      <td>0</td>\n      <td>0</td>\n      <td>0</td>\n      <td>0</td>\n      <td>0</td>\n      <td>0</td>\n      <td>...</td>\n      <td>0</td>\n      <td>0</td>\n      <td>0</td>\n      <td>0</td>\n      <td>0</td>\n      <td>0</td>\n      <td>0</td>\n      <td>0</td>\n      <td>0</td>\n      <td>0</td>\n    </tr>\n  </tbody>\n</table>\n<p>206474 rows × 49 columns</p>\n</div>"
     },
     "execution_count": 6,
     "metadata": {},
     "output_type": "execute_result"
    }
   ],
   "source": [
    "train_category = pd.get_dummies(df[category_columns])\n",
    "train_category"
   ],
   "metadata": {
    "collapsed": false
   }
  },
  {
   "cell_type": "code",
   "execution_count": 7,
   "outputs": [],
   "source": [
    "X_train = np.hstack([df[numeric_columns], train_category])\n",
    "Y_train = np.array(df['per_square_meter_price'])\n",
    "reg = LinearRegression().fit(X_train, Y_train)"
   ],
   "metadata": {
    "collapsed": false
   }
  },
  {
   "cell_type": "code",
   "execution_count": 8,
   "outputs": [],
   "source": [
    "df_test = pd.read_csv(\"test_x.csv\")\n",
    "df_test = df_test.fillna(df_test.median(numeric_only=True))\n",
    "df_test = df_test[corr_columns_without_per_price]"
   ],
   "metadata": {
    "collapsed": false
   }
  },
  {
   "cell_type": "code",
   "execution_count": 9,
   "outputs": [
    {
     "data": {
      "text/plain": "    per_square_meter_price\nid                        \n0            135534.701283\n1             41545.845548\n2             35438.724394\n3             56290.728713\n4             68070.112697",
      "text/html": "<div>\n<style scoped>\n    .dataframe tbody tr th:only-of-type {\n        vertical-align: middle;\n    }\n\n    .dataframe tbody tr th {\n        vertical-align: top;\n    }\n\n    .dataframe thead th {\n        text-align: right;\n    }\n</style>\n<table border=\"1\" class=\"dataframe\">\n  <thead>\n    <tr style=\"text-align: right;\">\n      <th></th>\n      <th>per_square_meter_price</th>\n    </tr>\n    <tr>\n      <th>id</th>\n      <th></th>\n    </tr>\n  </thead>\n  <tbody>\n    <tr>\n      <th>0</th>\n      <td>135534.701283</td>\n    </tr>\n    <tr>\n      <th>1</th>\n      <td>41545.845548</td>\n    </tr>\n    <tr>\n      <th>2</th>\n      <td>35438.724394</td>\n    </tr>\n    <tr>\n      <th>3</th>\n      <td>56290.728713</td>\n    </tr>\n    <tr>\n      <th>4</th>\n      <td>68070.112697</td>\n    </tr>\n  </tbody>\n</table>\n</div>"
     },
     "execution_count": 9,
     "metadata": {},
     "output_type": "execute_result"
    }
   ],
   "source": [
    "test_category = pd.get_dummies(df_test[category_columns])\n",
    "X_test = np.hstack([df_test[numeric_columns], test_category])\n",
    "res = reg.predict(X_test)\n",
    "res = pd.DataFrame(res, columns=['per_square_meter_price'])\n",
    "res.index.name = 'id'\n",
    "res['per_square_meter_price'] = np.exp(res['per_square_meter_price'])\n",
    "res.head()"
   ],
   "metadata": {
    "collapsed": false
   }
  },
  {
   "cell_type": "code",
   "execution_count": 10,
   "outputs": [],
   "source": [
    "res.to_csv(\"prediction.csv\")"
   ],
   "metadata": {
    "collapsed": false
   }
  },
  {
   "cell_type": "code",
   "execution_count": 10,
   "outputs": [],
   "source": [],
   "metadata": {
    "collapsed": false
   }
  }
 ],
 "metadata": {
  "kernelspec": {
   "display_name": "Python 3",
   "language": "python",
   "name": "python3"
  },
  "language_info": {
   "codemirror_mode": {
    "name": "ipython",
    "version": 2
   },
   "file_extension": ".py",
   "mimetype": "text/x-python",
   "name": "python",
   "nbconvert_exporter": "python",
   "pygments_lexer": "ipython2",
   "version": "2.7.6"
  }
 },
 "nbformat": 4,
 "nbformat_minor": 0
}
