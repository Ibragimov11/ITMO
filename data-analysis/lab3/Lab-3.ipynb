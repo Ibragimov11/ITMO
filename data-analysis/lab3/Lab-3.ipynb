{
 "cells": [
  {
   "cell_type": "code",
   "execution_count": 30,
   "metadata": {
    "collapsed": true
   },
   "outputs": [],
   "source": [
    "import numpy as np\n",
    "import pandas as pd\n",
    "\n",
    "from sklearn.neighbors import KNeighborsRegressor"
   ]
  },
  {
   "cell_type": "code",
   "execution_count": 31,
   "outputs": [
    {
     "name": "stdout",
     "output_type": "stream",
     "text": [
      "(73995, 72)\n"
     ]
    },
    {
     "data": {
      "text/plain": "                user_id                org_id  rating   ts user_city org_city  \\\n0  12182789761588196310  11946401375069641937     4.0  677       msk      msk   \n1   2796544982129273287   5545859981678495568     5.0  577       msk      msk   \n2  10546824832088319728   3451485117888180206     4.0  716       msk      msk   \n3   9967742981458207920   9490041040735762889     3.0  639       spb      spb   \n4  11046819495825038093   5234254278902729372     5.0  669       msk      msk   \n\n   average_bill  rating_org   rubrics  food_delivery  ...  call_button  \\\n0        1500.0    3.883212  Ресторан              1  ...            0   \n1        1000.0    4.495379  Ресторан              1  ...            0   \n2         500.0    4.576063      Кафе              1  ...            0   \n3        1000.0    3.775701      Кафе              1  ...            0   \n4         500.0    4.187500  Пиццерия              1  ...            0   \n\n   wheelchair_accessible  table_games  vinotheque  \\\n0                      0            0           0   \n1                      0            0           0   \n2                      0            0           0   \n3                      0            0           0   \n4                      1            0           0   \n\n   cakes_for_different_occasions  accepted_credit_cards  kalyan  teahouse  \\\n0                              0                      0       0         0   \n1                              0                      0       0         0   \n2                              0                      0       0         0   \n3                              0                      0       0         0   \n4                              0                      0       0         0   \n\n   bread_from_tandoor  handmade_goods  \n0                   0               0  \n1                   0               0  \n2                   0               0  \n3                   0               0  \n4                   0               0  \n\n[5 rows x 72 columns]",
      "text/html": "<div>\n<style scoped>\n    .dataframe tbody tr th:only-of-type {\n        vertical-align: middle;\n    }\n\n    .dataframe tbody tr th {\n        vertical-align: top;\n    }\n\n    .dataframe thead th {\n        text-align: right;\n    }\n</style>\n<table border=\"1\" class=\"dataframe\">\n  <thead>\n    <tr style=\"text-align: right;\">\n      <th></th>\n      <th>user_id</th>\n      <th>org_id</th>\n      <th>rating</th>\n      <th>ts</th>\n      <th>user_city</th>\n      <th>org_city</th>\n      <th>average_bill</th>\n      <th>rating_org</th>\n      <th>rubrics</th>\n      <th>food_delivery</th>\n      <th>...</th>\n      <th>call_button</th>\n      <th>wheelchair_accessible</th>\n      <th>table_games</th>\n      <th>vinotheque</th>\n      <th>cakes_for_different_occasions</th>\n      <th>accepted_credit_cards</th>\n      <th>kalyan</th>\n      <th>teahouse</th>\n      <th>bread_from_tandoor</th>\n      <th>handmade_goods</th>\n    </tr>\n  </thead>\n  <tbody>\n    <tr>\n      <th>0</th>\n      <td>12182789761588196310</td>\n      <td>11946401375069641937</td>\n      <td>4.0</td>\n      <td>677</td>\n      <td>msk</td>\n      <td>msk</td>\n      <td>1500.0</td>\n      <td>3.883212</td>\n      <td>Ресторан</td>\n      <td>1</td>\n      <td>...</td>\n      <td>0</td>\n      <td>0</td>\n      <td>0</td>\n      <td>0</td>\n      <td>0</td>\n      <td>0</td>\n      <td>0</td>\n      <td>0</td>\n      <td>0</td>\n      <td>0</td>\n    </tr>\n    <tr>\n      <th>1</th>\n      <td>2796544982129273287</td>\n      <td>5545859981678495568</td>\n      <td>5.0</td>\n      <td>577</td>\n      <td>msk</td>\n      <td>msk</td>\n      <td>1000.0</td>\n      <td>4.495379</td>\n      <td>Ресторан</td>\n      <td>1</td>\n      <td>...</td>\n      <td>0</td>\n      <td>0</td>\n      <td>0</td>\n      <td>0</td>\n      <td>0</td>\n      <td>0</td>\n      <td>0</td>\n      <td>0</td>\n      <td>0</td>\n      <td>0</td>\n    </tr>\n    <tr>\n      <th>2</th>\n      <td>10546824832088319728</td>\n      <td>3451485117888180206</td>\n      <td>4.0</td>\n      <td>716</td>\n      <td>msk</td>\n      <td>msk</td>\n      <td>500.0</td>\n      <td>4.576063</td>\n      <td>Кафе</td>\n      <td>1</td>\n      <td>...</td>\n      <td>0</td>\n      <td>0</td>\n      <td>0</td>\n      <td>0</td>\n      <td>0</td>\n      <td>0</td>\n      <td>0</td>\n      <td>0</td>\n      <td>0</td>\n      <td>0</td>\n    </tr>\n    <tr>\n      <th>3</th>\n      <td>9967742981458207920</td>\n      <td>9490041040735762889</td>\n      <td>3.0</td>\n      <td>639</td>\n      <td>spb</td>\n      <td>spb</td>\n      <td>1000.0</td>\n      <td>3.775701</td>\n      <td>Кафе</td>\n      <td>1</td>\n      <td>...</td>\n      <td>0</td>\n      <td>0</td>\n      <td>0</td>\n      <td>0</td>\n      <td>0</td>\n      <td>0</td>\n      <td>0</td>\n      <td>0</td>\n      <td>0</td>\n      <td>0</td>\n    </tr>\n    <tr>\n      <th>4</th>\n      <td>11046819495825038093</td>\n      <td>5234254278902729372</td>\n      <td>5.0</td>\n      <td>669</td>\n      <td>msk</td>\n      <td>msk</td>\n      <td>500.0</td>\n      <td>4.187500</td>\n      <td>Пиццерия</td>\n      <td>1</td>\n      <td>...</td>\n      <td>0</td>\n      <td>1</td>\n      <td>0</td>\n      <td>0</td>\n      <td>0</td>\n      <td>0</td>\n      <td>0</td>\n      <td>0</td>\n      <td>0</td>\n      <td>0</td>\n    </tr>\n  </tbody>\n</table>\n<p>5 rows × 72 columns</p>\n</div>"
     },
     "execution_count": 31,
     "metadata": {},
     "output_type": "execute_result"
    }
   ],
   "source": [
    "df = pd.read_csv(\"train.csv\")\n",
    "df = df.fillna(df.median(numeric_only=True))\n",
    "print(df.shape)\n",
    "df.head()"
   ],
   "metadata": {
    "collapsed": false
   }
  },
  {
   "cell_type": "code",
   "execution_count": 32,
   "outputs": [
    {
     "name": "stdout",
     "output_type": "stream",
     "text": [
      "<class 'pandas.core.frame.DataFrame'>\n",
      "RangeIndex: 73995 entries, 0 to 73994\n",
      "Data columns (total 72 columns):\n",
      " #   Column                          Non-Null Count  Dtype  \n",
      "---  ------                          --------------  -----  \n",
      " 0   user_id                         73995 non-null  uint64 \n",
      " 1   org_id                          73995 non-null  uint64 \n",
      " 2   rating                          73995 non-null  float64\n",
      " 3   ts                              73995 non-null  int64  \n",
      " 4   user_city                       73995 non-null  object \n",
      " 5   org_city                        73995 non-null  object \n",
      " 6   average_bill                    73995 non-null  float64\n",
      " 7   rating_org                      73995 non-null  float64\n",
      " 8   rubrics                         73995 non-null  object \n",
      " 9   food_delivery                   73995 non-null  int64  \n",
      " 10  breakfast                       73995 non-null  int64  \n",
      " 11  takeaway                        73995 non-null  int64  \n",
      " 12  summer_terrace                  73995 non-null  int64  \n",
      " 13  wi_fi                           73995 non-null  int64  \n",
      " 14  business_lunch                  73995 non-null  int64  \n",
      " 15  payment_by_credit_card          73995 non-null  int64  \n",
      " 16  coffee_to_go                    73995 non-null  int64  \n",
      " 17  closed_for_quarantine           73995 non-null  int64  \n",
      " 18  online_takeaway                 73995 non-null  int64  \n",
      " 19  karaoke                         73995 non-null  int64  \n",
      " 20  special_menu                    73995 non-null  int64  \n",
      " 21  sports_broadcasts               73995 non-null  int64  \n",
      " 22  food_court1                     73995 non-null  int64  \n",
      " 23  craft_beer                      73995 non-null  int64  \n",
      " 24  projector                       73995 non-null  int64  \n",
      " 25  gift_certificate                73995 non-null  int64  \n",
      " 26  wheelchair_access               73995 non-null  int64  \n",
      " 27  automatic_door                  73995 non-null  int64  \n",
      " 28  food_product_delivery           73995 non-null  int64  \n",
      " 29  car_park                        73995 non-null  int64  \n",
      " 30  parking_disabled                73995 non-null  int64  \n",
      " 31  toilet_for_disabled             73995 non-null  int64  \n",
      " 32  promotions                      73995 non-null  int64  \n",
      " 33  cafe                            73995 non-null  int64  \n",
      " 34  minimum_order                   73995 non-null  int64  \n",
      " 35  free_delivery                   73995 non-null  int64  \n",
      " 36  self_service_kiosks             73995 non-null  int64  \n",
      " 37  has_restaurant                  73995 non-null  int64  \n",
      " 38  air_conditioning                73995 non-null  int64  \n",
      " 39  pets                            73995 non-null  int64  \n",
      " 40  elevator                        73995 non-null  int64  \n",
      " 41  has_bar                         73995 non-null  int64  \n",
      " 42  internet access                 73995 non-null  int64  \n",
      " 43  privilege_tickets               73995 non-null  int64  \n",
      " 44  organic_food                    73995 non-null  int64  \n",
      " 45  vip_zone                        73995 non-null  int64  \n",
      " 46  hall_capacity                   73995 non-null  int64  \n",
      " 47  face_control                    73995 non-null  int64  \n",
      " 48  show_program                    73995 non-null  int64  \n",
      " 49  music                           73995 non-null  int64  \n",
      " 50  chillout                        73995 non-null  int64  \n",
      " 51  dancefloor                      73995 non-null  int64  \n",
      " 52  dress_code                      73995 non-null  int64  \n",
      " 53  billiards                       73995 non-null  int64  \n",
      " 54  strip                           73995 non-null  int64  \n",
      " 55  elevator_wheelchair_accessible  73995 non-null  int64  \n",
      " 56  ramp                            73995 non-null  int64  \n",
      " 57  around_the_clock_work1          73995 non-null  int64  \n",
      " 58  pickup                          73995 non-null  int64  \n",
      " 59  farm_products                   73995 non-null  int64  \n",
      " 60  delivery                        73995 non-null  int64  \n",
      " 61  coffee_shop                     73995 non-null  int64  \n",
      " 62  call_button                     73995 non-null  int64  \n",
      " 63  wheelchair_accessible           73995 non-null  int64  \n",
      " 64  table_games                     73995 non-null  int64  \n",
      " 65  vinotheque                      73995 non-null  int64  \n",
      " 66  cakes_for_different_occasions   73995 non-null  int64  \n",
      " 67  accepted_credit_cards           73995 non-null  int64  \n",
      " 68  kalyan                          73995 non-null  int64  \n",
      " 69  teahouse                        73995 non-null  int64  \n",
      " 70  bread_from_tandoor              73995 non-null  int64  \n",
      " 71  handmade_goods                  73995 non-null  int64  \n",
      "dtypes: float64(3), int64(64), object(3), uint64(2)\n",
      "memory usage: 40.6+ MB\n"
     ]
    }
   ],
   "source": [
    "df.info()"
   ],
   "metadata": {
    "collapsed": false
   }
  },
  {
   "cell_type": "code",
   "execution_count": 33,
   "outputs": [
    {
     "data": {
      "text/plain": "       rubrics_Бар безалкогольных напитков  rubrics_Бар, паб  \\\n0                                        0                 0   \n1                                        0                 0   \n2                                        0                 0   \n3                                        0                 0   \n4                                        0                 0   \n...                                    ...               ...   \n73990                                    0                 0   \n73991                                    0                 0   \n73992                                    0                 1   \n73993                                    0                 0   \n73994                                    0                 0   \n\n       rubrics_Булочная, пекарня  rubrics_Быстрое питание  rubrics_Кальян-бар  \\\n0                              0                        0                   0   \n1                              0                        0                   0   \n2                              0                        0                   0   \n3                              0                        0                   0   \n4                              0                        0                   0   \n...                          ...                      ...                 ...   \n73990                          1                        0                   0   \n73991                          0                        0                   0   \n73992                          0                        0                   0   \n73993                          0                        0                   0   \n73994                          0                        0                   0   \n\n       rubrics_Кафе  rubrics_Кондитерская  rubrics_Кофе с собой  \\\n0                 0                     0                     0   \n1                 0                     0                     0   \n2                 1                     0                     0   \n3                 1                     0                     0   \n4                 0                     0                     0   \n...             ...                   ...                   ...   \n73990             0                     0                     0   \n73991             0                     0                     0   \n73992             0                     0                     0   \n73993             1                     0                     0   \n73994             1                     0                     0   \n\n       rubrics_Кофейня  rubrics_Пиццерия  rubrics_Ресторан  rubrics_Спортбар  \\\n0                    0                 0                 1                 0   \n1                    0                 0                 1                 0   \n2                    0                 0                 0                 0   \n3                    0                 0                 0                 0   \n4                    0                 1                 0                 0   \n...                ...               ...               ...               ...   \n73990                0                 0                 0                 0   \n73991                0                 0                 1                 0   \n73992                0                 0                 0                 0   \n73993                0                 0                 0                 0   \n73994                0                 0                 0                 0   \n\n       rubrics_Столовая  rubrics_Суши-бар  user_city_msk  user_city_spb  \\\n0                     0                 0              1              0   \n1                     0                 0              1              0   \n2                     0                 0              1              0   \n3                     0                 0              0              1   \n4                     0                 0              1              0   \n...                 ...               ...            ...            ...   \n73990                 0                 0              1              0   \n73991                 0                 0              1              0   \n73992                 0                 0              1              0   \n73993                 0                 0              1              0   \n73994                 0                 0              0              1   \n\n       org_city_msk  org_city_spb  \n0                 1             0  \n1                 1             0  \n2                 1             0  \n3                 0             1  \n4                 1             0  \n...             ...           ...  \n73990             1             0  \n73991             1             0  \n73992             1             0  \n73993             1             0  \n73994             0             1  \n\n[73995 rows x 18 columns]",
      "text/html": "<div>\n<style scoped>\n    .dataframe tbody tr th:only-of-type {\n        vertical-align: middle;\n    }\n\n    .dataframe tbody tr th {\n        vertical-align: top;\n    }\n\n    .dataframe thead th {\n        text-align: right;\n    }\n</style>\n<table border=\"1\" class=\"dataframe\">\n  <thead>\n    <tr style=\"text-align: right;\">\n      <th></th>\n      <th>rubrics_Бар безалкогольных напитков</th>\n      <th>rubrics_Бар, паб</th>\n      <th>rubrics_Булочная, пекарня</th>\n      <th>rubrics_Быстрое питание</th>\n      <th>rubrics_Кальян-бар</th>\n      <th>rubrics_Кафе</th>\n      <th>rubrics_Кондитерская</th>\n      <th>rubrics_Кофе с собой</th>\n      <th>rubrics_Кофейня</th>\n      <th>rubrics_Пиццерия</th>\n      <th>rubrics_Ресторан</th>\n      <th>rubrics_Спортбар</th>\n      <th>rubrics_Столовая</th>\n      <th>rubrics_Суши-бар</th>\n      <th>user_city_msk</th>\n      <th>user_city_spb</th>\n      <th>org_city_msk</th>\n      <th>org_city_spb</th>\n    </tr>\n  </thead>\n  <tbody>\n    <tr>\n      <th>0</th>\n      <td>0</td>\n      <td>0</td>\n      <td>0</td>\n      <td>0</td>\n      <td>0</td>\n      <td>0</td>\n      <td>0</td>\n      <td>0</td>\n      <td>0</td>\n      <td>0</td>\n      <td>1</td>\n      <td>0</td>\n      <td>0</td>\n      <td>0</td>\n      <td>1</td>\n      <td>0</td>\n      <td>1</td>\n      <td>0</td>\n    </tr>\n    <tr>\n      <th>1</th>\n      <td>0</td>\n      <td>0</td>\n      <td>0</td>\n      <td>0</td>\n      <td>0</td>\n      <td>0</td>\n      <td>0</td>\n      <td>0</td>\n      <td>0</td>\n      <td>0</td>\n      <td>1</td>\n      <td>0</td>\n      <td>0</td>\n      <td>0</td>\n      <td>1</td>\n      <td>0</td>\n      <td>1</td>\n      <td>0</td>\n    </tr>\n    <tr>\n      <th>2</th>\n      <td>0</td>\n      <td>0</td>\n      <td>0</td>\n      <td>0</td>\n      <td>0</td>\n      <td>1</td>\n      <td>0</td>\n      <td>0</td>\n      <td>0</td>\n      <td>0</td>\n      <td>0</td>\n      <td>0</td>\n      <td>0</td>\n      <td>0</td>\n      <td>1</td>\n      <td>0</td>\n      <td>1</td>\n      <td>0</td>\n    </tr>\n    <tr>\n      <th>3</th>\n      <td>0</td>\n      <td>0</td>\n      <td>0</td>\n      <td>0</td>\n      <td>0</td>\n      <td>1</td>\n      <td>0</td>\n      <td>0</td>\n      <td>0</td>\n      <td>0</td>\n      <td>0</td>\n      <td>0</td>\n      <td>0</td>\n      <td>0</td>\n      <td>0</td>\n      <td>1</td>\n      <td>0</td>\n      <td>1</td>\n    </tr>\n    <tr>\n      <th>4</th>\n      <td>0</td>\n      <td>0</td>\n      <td>0</td>\n      <td>0</td>\n      <td>0</td>\n      <td>0</td>\n      <td>0</td>\n      <td>0</td>\n      <td>0</td>\n      <td>1</td>\n      <td>0</td>\n      <td>0</td>\n      <td>0</td>\n      <td>0</td>\n      <td>1</td>\n      <td>0</td>\n      <td>1</td>\n      <td>0</td>\n    </tr>\n    <tr>\n      <th>...</th>\n      <td>...</td>\n      <td>...</td>\n      <td>...</td>\n      <td>...</td>\n      <td>...</td>\n      <td>...</td>\n      <td>...</td>\n      <td>...</td>\n      <td>...</td>\n      <td>...</td>\n      <td>...</td>\n      <td>...</td>\n      <td>...</td>\n      <td>...</td>\n      <td>...</td>\n      <td>...</td>\n      <td>...</td>\n      <td>...</td>\n    </tr>\n    <tr>\n      <th>73990</th>\n      <td>0</td>\n      <td>0</td>\n      <td>1</td>\n      <td>0</td>\n      <td>0</td>\n      <td>0</td>\n      <td>0</td>\n      <td>0</td>\n      <td>0</td>\n      <td>0</td>\n      <td>0</td>\n      <td>0</td>\n      <td>0</td>\n      <td>0</td>\n      <td>1</td>\n      <td>0</td>\n      <td>1</td>\n      <td>0</td>\n    </tr>\n    <tr>\n      <th>73991</th>\n      <td>0</td>\n      <td>0</td>\n      <td>0</td>\n      <td>0</td>\n      <td>0</td>\n      <td>0</td>\n      <td>0</td>\n      <td>0</td>\n      <td>0</td>\n      <td>0</td>\n      <td>1</td>\n      <td>0</td>\n      <td>0</td>\n      <td>0</td>\n      <td>1</td>\n      <td>0</td>\n      <td>1</td>\n      <td>0</td>\n    </tr>\n    <tr>\n      <th>73992</th>\n      <td>0</td>\n      <td>1</td>\n      <td>0</td>\n      <td>0</td>\n      <td>0</td>\n      <td>0</td>\n      <td>0</td>\n      <td>0</td>\n      <td>0</td>\n      <td>0</td>\n      <td>0</td>\n      <td>0</td>\n      <td>0</td>\n      <td>0</td>\n      <td>1</td>\n      <td>0</td>\n      <td>1</td>\n      <td>0</td>\n    </tr>\n    <tr>\n      <th>73993</th>\n      <td>0</td>\n      <td>0</td>\n      <td>0</td>\n      <td>0</td>\n      <td>0</td>\n      <td>1</td>\n      <td>0</td>\n      <td>0</td>\n      <td>0</td>\n      <td>0</td>\n      <td>0</td>\n      <td>0</td>\n      <td>0</td>\n      <td>0</td>\n      <td>1</td>\n      <td>0</td>\n      <td>1</td>\n      <td>0</td>\n    </tr>\n    <tr>\n      <th>73994</th>\n      <td>0</td>\n      <td>0</td>\n      <td>0</td>\n      <td>0</td>\n      <td>0</td>\n      <td>1</td>\n      <td>0</td>\n      <td>0</td>\n      <td>0</td>\n      <td>0</td>\n      <td>0</td>\n      <td>0</td>\n      <td>0</td>\n      <td>0</td>\n      <td>0</td>\n      <td>1</td>\n      <td>0</td>\n      <td>1</td>\n    </tr>\n  </tbody>\n</table>\n<p>73995 rows × 18 columns</p>\n</div>"
     },
     "execution_count": 33,
     "metadata": {},
     "output_type": "execute_result"
    }
   ],
   "source": [
    "category_columns = ['rubrics', 'user_city', 'org_city']\n",
    "train_category = pd.get_dummies(df[category_columns])\n",
    "train_category"
   ],
   "metadata": {
    "collapsed": false
   }
  },
  {
   "cell_type": "code",
   "execution_count": 34,
   "outputs": [
    {
     "data": {
      "text/plain": "                        user_id    org_id    rating        ts  average_bill  \\\nuser_id                1.000000  0.000468  0.009638  0.000955      0.002589   \norg_id                 0.000468  1.000000  0.002896  0.006500      0.006741   \nrating                 0.009638  0.002896  1.000000  0.008202      0.015849   \nts                     0.000955  0.006500  0.008202  1.000000      0.010419   \naverage_bill           0.002589  0.006741  0.015849  0.010419      1.000000   \n...                         ...       ...       ...       ...           ...   \naccepted_credit_cards  0.003231  0.015557  0.005050  0.004507      0.003736   \nkalyan                 0.006458  0.015758  0.008119  0.005170      0.002746   \nteahouse               0.000313  0.003586  0.008401  0.008811      0.004851   \nbread_from_tandoor     0.000944  0.002129  0.008872  0.026419      0.005118   \nhandmade_goods         0.005174  0.003089  0.011646  0.012300      0.005443   \n\n                       rating_org  food_delivery  breakfast  takeaway  \\\nuser_id                  0.004119       0.000532   0.001360  0.001144   \norg_id                   0.021809       0.002430   0.004482  0.008181   \nrating                   0.269386       0.022417   0.000492  0.020302   \nts                       0.040647       0.000293   0.012898  0.084032   \naverage_bill             0.044416       0.010670   0.022809  0.017473   \n...                           ...            ...        ...       ...   \naccepted_credit_cards    0.015476       0.051693   0.034858  0.040969   \nkalyan                   0.019148       0.033290   0.032068  0.024861   \nteahouse                 0.022627       0.002606   0.001974  0.007209   \nbread_from_tandoor       0.014323       0.012294   0.022015  0.024931   \nhandmade_goods           0.028334       0.049858   0.032877  0.036911   \n\n                       summer_terrace  ...  call_button  \\\nuser_id                      0.000847  ...     0.000267   \norg_id                       0.005189  ...     0.005358   \nrating                       0.004803  ...     0.006382   \nts                           0.042755  ...     0.008886   \naverage_bill                 0.054256  ...     0.009249   \n...                               ...  ...          ...   \naccepted_credit_cards        0.036895  ...     0.002882   \nkalyan                       0.030379  ...     0.012152   \nteahouse                     0.006436  ...     0.014145   \nbread_from_tandoor           0.021372  ...     0.011844   \nhandmade_goods               0.033460  ...     0.003137   \n\n                       wheelchair_accessible  table_games  vinotheque  \\\nuser_id                             0.001250     0.004630    0.001086   \norg_id                              0.016988     0.008666    0.008409   \nrating                              0.005176     0.015679    0.000083   \nts                                  0.012276     0.009588    0.001499   \naverage_bill                        0.009685     0.004273    0.004624   \n...                                      ...          ...         ...   \naccepted_credit_cards               0.002770     0.002102    0.001488   \nkalyan                              0.012854     0.022782    0.027268   \nteahouse                            0.059934     0.001145    0.001628   \nbread_from_tandoor                  0.006900     0.007309    0.002528   \nhandmade_goods                      0.003014     0.004681    0.001619   \n\n                       cakes_for_different_occasions  accepted_credit_cards  \\\nuser_id                                     0.001100               0.003231   \norg_id                                      0.016282               0.015557   \nrating                                      0.002001               0.005050   \nts                                          0.018234               0.004507   \naverage_bill                                0.006851               0.003736   \n...                                              ...                    ...   \naccepted_credit_cards                       0.024186               1.000000   \nkalyan                                      0.001504               0.068134   \nteahouse                                    0.001728               0.022951   \nbread_from_tandoor                          0.007446               0.001747   \nhandmade_goods                              0.001718               0.083615   \n\n                         kalyan  teahouse  bread_from_tandoor  handmade_goods  \nuser_id                0.006458  0.000313            0.000944        0.005174  \norg_id                 0.015758  0.003586            0.002129        0.003089  \nrating                 0.008119  0.008401            0.008872        0.011646  \nts                     0.005170  0.008811            0.026419        0.012300  \naverage_bill           0.002746  0.004851            0.005118        0.005443  \n...                         ...       ...                 ...             ...  \naccepted_credit_cards  0.068134  0.022951            0.001747        0.083615  \nkalyan                 1.000000  0.024195            0.001665        0.113265  \nteahouse               0.024195  1.000000            0.001912        0.031966  \nbread_from_tandoor     0.001665  0.001912            1.000000        0.001901  \nhandmade_goods         0.113265  0.031966            0.001901        1.000000  \n\n[69 rows x 69 columns]",
      "text/html": "<div>\n<style scoped>\n    .dataframe tbody tr th:only-of-type {\n        vertical-align: middle;\n    }\n\n    .dataframe tbody tr th {\n        vertical-align: top;\n    }\n\n    .dataframe thead th {\n        text-align: right;\n    }\n</style>\n<table border=\"1\" class=\"dataframe\">\n  <thead>\n    <tr style=\"text-align: right;\">\n      <th></th>\n      <th>user_id</th>\n      <th>org_id</th>\n      <th>rating</th>\n      <th>ts</th>\n      <th>average_bill</th>\n      <th>rating_org</th>\n      <th>food_delivery</th>\n      <th>breakfast</th>\n      <th>takeaway</th>\n      <th>summer_terrace</th>\n      <th>...</th>\n      <th>call_button</th>\n      <th>wheelchair_accessible</th>\n      <th>table_games</th>\n      <th>vinotheque</th>\n      <th>cakes_for_different_occasions</th>\n      <th>accepted_credit_cards</th>\n      <th>kalyan</th>\n      <th>teahouse</th>\n      <th>bread_from_tandoor</th>\n      <th>handmade_goods</th>\n    </tr>\n  </thead>\n  <tbody>\n    <tr>\n      <th>user_id</th>\n      <td>1.000000</td>\n      <td>0.000468</td>\n      <td>0.009638</td>\n      <td>0.000955</td>\n      <td>0.002589</td>\n      <td>0.004119</td>\n      <td>0.000532</td>\n      <td>0.001360</td>\n      <td>0.001144</td>\n      <td>0.000847</td>\n      <td>...</td>\n      <td>0.000267</td>\n      <td>0.001250</td>\n      <td>0.004630</td>\n      <td>0.001086</td>\n      <td>0.001100</td>\n      <td>0.003231</td>\n      <td>0.006458</td>\n      <td>0.000313</td>\n      <td>0.000944</td>\n      <td>0.005174</td>\n    </tr>\n    <tr>\n      <th>org_id</th>\n      <td>0.000468</td>\n      <td>1.000000</td>\n      <td>0.002896</td>\n      <td>0.006500</td>\n      <td>0.006741</td>\n      <td>0.021809</td>\n      <td>0.002430</td>\n      <td>0.004482</td>\n      <td>0.008181</td>\n      <td>0.005189</td>\n      <td>...</td>\n      <td>0.005358</td>\n      <td>0.016988</td>\n      <td>0.008666</td>\n      <td>0.008409</td>\n      <td>0.016282</td>\n      <td>0.015557</td>\n      <td>0.015758</td>\n      <td>0.003586</td>\n      <td>0.002129</td>\n      <td>0.003089</td>\n    </tr>\n    <tr>\n      <th>rating</th>\n      <td>0.009638</td>\n      <td>0.002896</td>\n      <td>1.000000</td>\n      <td>0.008202</td>\n      <td>0.015849</td>\n      <td>0.269386</td>\n      <td>0.022417</td>\n      <td>0.000492</td>\n      <td>0.020302</td>\n      <td>0.004803</td>\n      <td>...</td>\n      <td>0.006382</td>\n      <td>0.005176</td>\n      <td>0.015679</td>\n      <td>0.000083</td>\n      <td>0.002001</td>\n      <td>0.005050</td>\n      <td>0.008119</td>\n      <td>0.008401</td>\n      <td>0.008872</td>\n      <td>0.011646</td>\n    </tr>\n    <tr>\n      <th>ts</th>\n      <td>0.000955</td>\n      <td>0.006500</td>\n      <td>0.008202</td>\n      <td>1.000000</td>\n      <td>0.010419</td>\n      <td>0.040647</td>\n      <td>0.000293</td>\n      <td>0.012898</td>\n      <td>0.084032</td>\n      <td>0.042755</td>\n      <td>...</td>\n      <td>0.008886</td>\n      <td>0.012276</td>\n      <td>0.009588</td>\n      <td>0.001499</td>\n      <td>0.018234</td>\n      <td>0.004507</td>\n      <td>0.005170</td>\n      <td>0.008811</td>\n      <td>0.026419</td>\n      <td>0.012300</td>\n    </tr>\n    <tr>\n      <th>average_bill</th>\n      <td>0.002589</td>\n      <td>0.006741</td>\n      <td>0.015849</td>\n      <td>0.010419</td>\n      <td>1.000000</td>\n      <td>0.044416</td>\n      <td>0.010670</td>\n      <td>0.022809</td>\n      <td>0.017473</td>\n      <td>0.054256</td>\n      <td>...</td>\n      <td>0.009249</td>\n      <td>0.009685</td>\n      <td>0.004273</td>\n      <td>0.004624</td>\n      <td>0.006851</td>\n      <td>0.003736</td>\n      <td>0.002746</td>\n      <td>0.004851</td>\n      <td>0.005118</td>\n      <td>0.005443</td>\n    </tr>\n    <tr>\n      <th>...</th>\n      <td>...</td>\n      <td>...</td>\n      <td>...</td>\n      <td>...</td>\n      <td>...</td>\n      <td>...</td>\n      <td>...</td>\n      <td>...</td>\n      <td>...</td>\n      <td>...</td>\n      <td>...</td>\n      <td>...</td>\n      <td>...</td>\n      <td>...</td>\n      <td>...</td>\n      <td>...</td>\n      <td>...</td>\n      <td>...</td>\n      <td>...</td>\n      <td>...</td>\n      <td>...</td>\n    </tr>\n    <tr>\n      <th>accepted_credit_cards</th>\n      <td>0.003231</td>\n      <td>0.015557</td>\n      <td>0.005050</td>\n      <td>0.004507</td>\n      <td>0.003736</td>\n      <td>0.015476</td>\n      <td>0.051693</td>\n      <td>0.034858</td>\n      <td>0.040969</td>\n      <td>0.036895</td>\n      <td>...</td>\n      <td>0.002882</td>\n      <td>0.002770</td>\n      <td>0.002102</td>\n      <td>0.001488</td>\n      <td>0.024186</td>\n      <td>1.000000</td>\n      <td>0.068134</td>\n      <td>0.022951</td>\n      <td>0.001747</td>\n      <td>0.083615</td>\n    </tr>\n    <tr>\n      <th>kalyan</th>\n      <td>0.006458</td>\n      <td>0.015758</td>\n      <td>0.008119</td>\n      <td>0.005170</td>\n      <td>0.002746</td>\n      <td>0.019148</td>\n      <td>0.033290</td>\n      <td>0.032068</td>\n      <td>0.024861</td>\n      <td>0.030379</td>\n      <td>...</td>\n      <td>0.012152</td>\n      <td>0.012854</td>\n      <td>0.022782</td>\n      <td>0.027268</td>\n      <td>0.001504</td>\n      <td>0.068134</td>\n      <td>1.000000</td>\n      <td>0.024195</td>\n      <td>0.001665</td>\n      <td>0.113265</td>\n    </tr>\n    <tr>\n      <th>teahouse</th>\n      <td>0.000313</td>\n      <td>0.003586</td>\n      <td>0.008401</td>\n      <td>0.008811</td>\n      <td>0.004851</td>\n      <td>0.022627</td>\n      <td>0.002606</td>\n      <td>0.001974</td>\n      <td>0.007209</td>\n      <td>0.006436</td>\n      <td>...</td>\n      <td>0.014145</td>\n      <td>0.059934</td>\n      <td>0.001145</td>\n      <td>0.001628</td>\n      <td>0.001728</td>\n      <td>0.022951</td>\n      <td>0.024195</td>\n      <td>1.000000</td>\n      <td>0.001912</td>\n      <td>0.031966</td>\n    </tr>\n    <tr>\n      <th>bread_from_tandoor</th>\n      <td>0.000944</td>\n      <td>0.002129</td>\n      <td>0.008872</td>\n      <td>0.026419</td>\n      <td>0.005118</td>\n      <td>0.014323</td>\n      <td>0.012294</td>\n      <td>0.022015</td>\n      <td>0.024931</td>\n      <td>0.021372</td>\n      <td>...</td>\n      <td>0.011844</td>\n      <td>0.006900</td>\n      <td>0.007309</td>\n      <td>0.002528</td>\n      <td>0.007446</td>\n      <td>0.001747</td>\n      <td>0.001665</td>\n      <td>0.001912</td>\n      <td>1.000000</td>\n      <td>0.001901</td>\n    </tr>\n    <tr>\n      <th>handmade_goods</th>\n      <td>0.005174</td>\n      <td>0.003089</td>\n      <td>0.011646</td>\n      <td>0.012300</td>\n      <td>0.005443</td>\n      <td>0.028334</td>\n      <td>0.049858</td>\n      <td>0.032877</td>\n      <td>0.036911</td>\n      <td>0.033460</td>\n      <td>...</td>\n      <td>0.003137</td>\n      <td>0.003014</td>\n      <td>0.004681</td>\n      <td>0.001619</td>\n      <td>0.001718</td>\n      <td>0.083615</td>\n      <td>0.113265</td>\n      <td>0.031966</td>\n      <td>0.001901</td>\n      <td>1.000000</td>\n    </tr>\n  </tbody>\n</table>\n<p>69 rows × 69 columns</p>\n</div>"
     },
     "execution_count": 34,
     "metadata": {},
     "output_type": "execute_result"
    }
   ],
   "source": [
    "df_corr = df.corr(numeric_only = True).abs()\n",
    "df_corr"
   ],
   "metadata": {
    "collapsed": false
   }
  },
  {
   "cell_type": "code",
   "execution_count": 35,
   "outputs": [
    {
     "data": {
      "text/plain": "rating                    0.269386\ncafe                      0.181062\ntoilet_for_disabled       0.173958\nparking_disabled          0.167170\npayment_by_credit_card    0.154419\n                            ...   \nvinotheque                0.007477\nspecial_menu              0.006585\nuser_id                   0.004119\nclosed_for_quarantine     0.002378\nbreakfast                 0.001349\nName: rating_org, Length: 68, dtype: float64"
     },
     "execution_count": 35,
     "metadata": {},
     "output_type": "execute_result"
    }
   ],
   "source": [
    "rating_corr: pd.Series = df_corr.get(\"rating_org\").sort_values(ascending=False)\n",
    "rating_corr = rating_corr.drop(labels=(['rating_org']))\n",
    "rating_corr = rating_corr[rating_corr >= 0.001]\n",
    "rating_corr"
   ],
   "metadata": {
    "collapsed": false
   }
  },
  {
   "cell_type": "code",
   "execution_count": 36,
   "outputs": [],
   "source": [
    "from sklearn.model_selection import train_test_split\n",
    "\n",
    "df1 = np.hstack([df[rating_corr.keys()], train_category])\n",
    "X_train, X_test = train_test_split(df1, test_size=0.6)\n",
    "Y_train, Y_test = train_test_split(df['rating_org'], test_size=0.6)"
   ],
   "metadata": {
    "collapsed": false
   }
  },
  {
   "cell_type": "code",
   "execution_count": 37,
   "outputs": [
    {
     "name": "stdout",
     "output_type": "stream",
     "text": [
      "0.05514752740757852\n"
     ]
    },
    {
     "data": {
      "text/plain": "KNeighborsRegressor(n_neighbors=1000, weights='distance')",
      "text/html": "<style>#sk-container-id-3 {color: black;background-color: white;}#sk-container-id-3 pre{padding: 0;}#sk-container-id-3 div.sk-toggleable {background-color: white;}#sk-container-id-3 label.sk-toggleable__label {cursor: pointer;display: block;width: 100%;margin-bottom: 0;padding: 0.3em;box-sizing: border-box;text-align: center;}#sk-container-id-3 label.sk-toggleable__label-arrow:before {content: \"▸\";float: left;margin-right: 0.25em;color: #696969;}#sk-container-id-3 label.sk-toggleable__label-arrow:hover:before {color: black;}#sk-container-id-3 div.sk-estimator:hover label.sk-toggleable__label-arrow:before {color: black;}#sk-container-id-3 div.sk-toggleable__content {max-height: 0;max-width: 0;overflow: hidden;text-align: left;background-color: #f0f8ff;}#sk-container-id-3 div.sk-toggleable__content pre {margin: 0.2em;color: black;border-radius: 0.25em;background-color: #f0f8ff;}#sk-container-id-3 input.sk-toggleable__control:checked~div.sk-toggleable__content {max-height: 200px;max-width: 100%;overflow: auto;}#sk-container-id-3 input.sk-toggleable__control:checked~label.sk-toggleable__label-arrow:before {content: \"▾\";}#sk-container-id-3 div.sk-estimator input.sk-toggleable__control:checked~label.sk-toggleable__label {background-color: #d4ebff;}#sk-container-id-3 div.sk-label input.sk-toggleable__control:checked~label.sk-toggleable__label {background-color: #d4ebff;}#sk-container-id-3 input.sk-hidden--visually {border: 0;clip: rect(1px 1px 1px 1px);clip: rect(1px, 1px, 1px, 1px);height: 1px;margin: -1px;overflow: hidden;padding: 0;position: absolute;width: 1px;}#sk-container-id-3 div.sk-estimator {font-family: monospace;background-color: #f0f8ff;border: 1px dotted black;border-radius: 0.25em;box-sizing: border-box;margin-bottom: 0.5em;}#sk-container-id-3 div.sk-estimator:hover {background-color: #d4ebff;}#sk-container-id-3 div.sk-parallel-item::after {content: \"\";width: 100%;border-bottom: 1px solid gray;flex-grow: 1;}#sk-container-id-3 div.sk-label:hover label.sk-toggleable__label {background-color: #d4ebff;}#sk-container-id-3 div.sk-serial::before {content: \"\";position: absolute;border-left: 1px solid gray;box-sizing: border-box;top: 0;bottom: 0;left: 50%;z-index: 0;}#sk-container-id-3 div.sk-serial {display: flex;flex-direction: column;align-items: center;background-color: white;padding-right: 0.2em;padding-left: 0.2em;position: relative;}#sk-container-id-3 div.sk-item {position: relative;z-index: 1;}#sk-container-id-3 div.sk-parallel {display: flex;align-items: stretch;justify-content: center;background-color: white;position: relative;}#sk-container-id-3 div.sk-item::before, #sk-container-id-3 div.sk-parallel-item::before {content: \"\";position: absolute;border-left: 1px solid gray;box-sizing: border-box;top: 0;bottom: 0;left: 50%;z-index: -1;}#sk-container-id-3 div.sk-parallel-item {display: flex;flex-direction: column;z-index: 1;position: relative;background-color: white;}#sk-container-id-3 div.sk-parallel-item:first-child::after {align-self: flex-end;width: 50%;}#sk-container-id-3 div.sk-parallel-item:last-child::after {align-self: flex-start;width: 50%;}#sk-container-id-3 div.sk-parallel-item:only-child::after {width: 0;}#sk-container-id-3 div.sk-dashed-wrapped {border: 1px dashed gray;margin: 0 0.4em 0.5em 0.4em;box-sizing: border-box;padding-bottom: 0.4em;background-color: white;}#sk-container-id-3 div.sk-label label {font-family: monospace;font-weight: bold;display: inline-block;line-height: 1.2em;}#sk-container-id-3 div.sk-label-container {text-align: center;}#sk-container-id-3 div.sk-container {/* jupyter's `normalize.less` sets `[hidden] { display: none; }` but bootstrap.min.css set `[hidden] { display: none !important; }` so we also need the `!important` here to be able to override the default hidden behavior on the sphinx rendered scikit-learn.org. See: https://github.com/scikit-learn/scikit-learn/issues/21755 */display: inline-block !important;position: relative;}#sk-container-id-3 div.sk-text-repr-fallback {display: none;}</style><div id=\"sk-container-id-3\" class=\"sk-top-container\"><div class=\"sk-text-repr-fallback\"><pre>KNeighborsRegressor(n_neighbors=1000, weights=&#x27;distance&#x27;)</pre><b>In a Jupyter environment, please rerun this cell to show the HTML representation or trust the notebook. <br />On GitHub, the HTML representation is unable to render, please try loading this page with nbviewer.org.</b></div><div class=\"sk-container\" hidden><div class=\"sk-item\"><div class=\"sk-estimator sk-toggleable\"><input class=\"sk-toggleable__control sk-hidden--visually\" id=\"sk-estimator-id-3\" type=\"checkbox\" checked><label for=\"sk-estimator-id-3\" class=\"sk-toggleable__label sk-toggleable__label-arrow\">KNeighborsRegressor</label><div class=\"sk-toggleable__content\"><pre>KNeighborsRegressor(n_neighbors=1000, weights=&#x27;distance&#x27;)</pre></div></div></div></div></div>"
     },
     "execution_count": 37,
     "metadata": {},
     "output_type": "execute_result"
    }
   ],
   "source": [
    "from sklearn.metrics import mean_absolute_percentage_error\n",
    "\n",
    "p = 10\n",
    "min_error = float('inf')\n",
    "\n",
    "for n in (10, 1000, 100):\n",
    "    reg = KNeighborsRegressor(n_neighbors=n, weights=\"distance\")\n",
    "    reg.fit(X_train, Y_train)\n",
    "\n",
    "    pred = reg.predict(X_test)\n",
    "    error = mean_absolute_percentage_error(Y_test, pred)\n",
    "\n",
    "    if error < min_error:\n",
    "        p = n\n",
    "        min_error = error\n",
    "\n",
    "print(min_error)\n",
    "\n",
    "reg = KNeighborsRegressor(n_neighbors=p, weights=\"distance\")\n",
    "reg.fit(X_train, Y_train)"
   ],
   "metadata": {
    "collapsed": false
   }
  },
  {
   "cell_type": "code",
   "execution_count": 38,
   "outputs": [
    {
     "data": {
      "text/plain": "    rating_org\nid            \n0     4.311033\n1     4.337688\n2     4.346611\n3     4.320653\n4     4.333461",
      "text/html": "<div>\n<style scoped>\n    .dataframe tbody tr th:only-of-type {\n        vertical-align: middle;\n    }\n\n    .dataframe tbody tr th {\n        vertical-align: top;\n    }\n\n    .dataframe thead th {\n        text-align: right;\n    }\n</style>\n<table border=\"1\" class=\"dataframe\">\n  <thead>\n    <tr style=\"text-align: right;\">\n      <th></th>\n      <th>rating_org</th>\n    </tr>\n    <tr>\n      <th>id</th>\n      <th></th>\n    </tr>\n  </thead>\n  <tbody>\n    <tr>\n      <th>0</th>\n      <td>4.311033</td>\n    </tr>\n    <tr>\n      <th>1</th>\n      <td>4.337688</td>\n    </tr>\n    <tr>\n      <th>2</th>\n      <td>4.346611</td>\n    </tr>\n    <tr>\n      <th>3</th>\n      <td>4.320653</td>\n    </tr>\n    <tr>\n      <th>4</th>\n      <td>4.333461</td>\n    </tr>\n  </tbody>\n</table>\n</div>"
     },
     "execution_count": 38,
     "metadata": {},
     "output_type": "execute_result"
    }
   ],
   "source": [
    "df_test = pd.read_csv(\"test_x.csv\")\n",
    "df_test = df_test.fillna(df_test.median(numeric_only=True))\n",
    "test_category = pd.get_dummies(df_test[category_columns])\n",
    "X_test = np.hstack([df_test[rating_corr.keys()], test_category])\n",
    "\n",
    "res = reg.predict(X_test)\n",
    "res = pd.DataFrame(res, columns=['rating_org'])\n",
    "res.index.name = 'id'\n",
    "res.head()"
   ],
   "metadata": {
    "collapsed": false
   }
  },
  {
   "cell_type": "code",
   "execution_count": 39,
   "outputs": [],
   "source": [
    "res.to_csv(\"prediction.csv\")"
   ],
   "metadata": {
    "collapsed": false
   }
  }
 ],
 "metadata": {
  "kernelspec": {
   "display_name": "Python 3",
   "language": "python",
   "name": "python3"
  },
  "language_info": {
   "codemirror_mode": {
    "name": "ipython",
    "version": 2
   },
   "file_extension": ".py",
   "mimetype": "text/x-python",
   "name": "python",
   "nbconvert_exporter": "python",
   "pygments_lexer": "ipython2",
   "version": "2.7.6"
  }
 },
 "nbformat": 4,
 "nbformat_minor": 0
}
