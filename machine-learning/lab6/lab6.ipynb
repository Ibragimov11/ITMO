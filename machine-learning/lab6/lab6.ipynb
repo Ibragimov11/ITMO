{
 "cells": [
  {
   "cell_type": "code",
   "execution_count": 119,
   "outputs": [
    {
     "data": {
      "text/plain": "     class                                               text\n0      ham  Go until jurong point, crazy.. Available only ...\n1      ham                      Ok lar... Joking wif u oni...\n2     spam  Free entry in 2 a wkly comp to win FA Cup fina...\n3      ham  U dun say so early hor... U c already then say...\n4      ham  Nah I don't think he goes to usf, he lives aro...\n...    ...                                                ...\n5567  spam  This is the 2nd time we have tried 2 contact u...\n5568   ham               Will ü b going to esplanade fr home?\n5569   ham  Pity, * was in mood for that. So...any other s...\n5570   ham  The guy did some bitching but I acted like i'd...\n5571   ham                         Rofl. Its true to its name\n\n[5572 rows x 2 columns]",
      "text/html": "<div>\n<style scoped>\n    .dataframe tbody tr th:only-of-type {\n        vertical-align: middle;\n    }\n\n    .dataframe tbody tr th {\n        vertical-align: top;\n    }\n\n    .dataframe thead th {\n        text-align: right;\n    }\n</style>\n<table border=\"1\" class=\"dataframe\">\n  <thead>\n    <tr style=\"text-align: right;\">\n      <th></th>\n      <th>class</th>\n      <th>text</th>\n    </tr>\n  </thead>\n  <tbody>\n    <tr>\n      <th>0</th>\n      <td>ham</td>\n      <td>Go until jurong point, crazy.. Available only ...</td>\n    </tr>\n    <tr>\n      <th>1</th>\n      <td>ham</td>\n      <td>Ok lar... Joking wif u oni...</td>\n    </tr>\n    <tr>\n      <th>2</th>\n      <td>spam</td>\n      <td>Free entry in 2 a wkly comp to win FA Cup fina...</td>\n    </tr>\n    <tr>\n      <th>3</th>\n      <td>ham</td>\n      <td>U dun say so early hor... U c already then say...</td>\n    </tr>\n    <tr>\n      <th>4</th>\n      <td>ham</td>\n      <td>Nah I don't think he goes to usf, he lives aro...</td>\n    </tr>\n    <tr>\n      <th>...</th>\n      <td>...</td>\n      <td>...</td>\n    </tr>\n    <tr>\n      <th>5567</th>\n      <td>spam</td>\n      <td>This is the 2nd time we have tried 2 contact u...</td>\n    </tr>\n    <tr>\n      <th>5568</th>\n      <td>ham</td>\n      <td>Will ü b going to esplanade fr home?</td>\n    </tr>\n    <tr>\n      <th>5569</th>\n      <td>ham</td>\n      <td>Pity, * was in mood for that. So...any other s...</td>\n    </tr>\n    <tr>\n      <th>5570</th>\n      <td>ham</td>\n      <td>The guy did some bitching but I acted like i'd...</td>\n    </tr>\n    <tr>\n      <th>5571</th>\n      <td>ham</td>\n      <td>Rofl. Its true to its name</td>\n    </tr>\n  </tbody>\n</table>\n<p>5572 rows × 2 columns</p>\n</div>"
     },
     "execution_count": 119,
     "metadata": {},
     "output_type": "execute_result"
    }
   ],
   "source": [
    "import pandas as pd\n",
    "\n",
    "# Чтение данных\n",
    "sms = pd.read_csv('data/SMS.tsv', delimiter='\\t')\n",
    "sms"
   ],
   "metadata": {
    "collapsed": false,
    "ExecuteTime": {
     "start_time": "2023-06-08T15:38:52.846311Z",
     "end_time": "2023-06-08T15:38:52.859053Z"
    }
   }
  },
  {
   "cell_type": "code",
   "execution_count": 120,
   "outputs": [],
   "source": [
    "# there was a problem with nltk\n",
    "#\n",
    "# import nltk\n",
    "# import ssl\n",
    "#\n",
    "# try:\n",
    "#     _create_unverified_https_context = ssl._create_unverified_context\n",
    "# except AttributeError:\n",
    "#     pass\n",
    "# else:\n",
    "#     ssl._create_default_https_context = _create_unverified_https_context\n",
    "#\n",
    "# nltk.download()"
   ],
   "metadata": {
    "collapsed": false,
    "ExecuteTime": {
     "start_time": "2023-06-08T15:38:52.860766Z",
     "end_time": "2023-06-08T15:38:52.870133Z"
    }
   }
  },
  {
   "cell_type": "code",
   "execution_count": 121,
   "outputs": [
    {
     "name": "stdout",
     "output_type": "stream",
     "text": [
      "stop words len =  179\n",
      "first 10 stop words:  ['i', 'me', 'my', 'myself', 'we', 'our', 'ours', 'ourselves', 'you', \"you're\"], "
     ]
    },
    {
     "data": {
      "text/plain": "     class                                               text\n0      ham  go jurong point crazy available bugis n great ...\n1      ham                            ok lar joking wif u oni\n2     spam  free entry  wkly comp win fa cup final tkts st...\n3      ham                u dun say early hor u c already say\n4      ham        nah dont think goes usf lives around though\n...    ...                                                ...\n5567  spam  nd time tried  contact u u  pound prize  claim...\n5568   ham                          b going esplanade fr home\n5569   ham                       pity  mood soany suggestions\n5570   ham  guy bitching acted like id interested buying s...\n5571   ham                                     rofl true name\n\n[5572 rows x 2 columns]",
      "text/html": "<div>\n<style scoped>\n    .dataframe tbody tr th:only-of-type {\n        vertical-align: middle;\n    }\n\n    .dataframe tbody tr th {\n        vertical-align: top;\n    }\n\n    .dataframe thead th {\n        text-align: right;\n    }\n</style>\n<table border=\"1\" class=\"dataframe\">\n  <thead>\n    <tr style=\"text-align: right;\">\n      <th></th>\n      <th>class</th>\n      <th>text</th>\n    </tr>\n  </thead>\n  <tbody>\n    <tr>\n      <th>0</th>\n      <td>ham</td>\n      <td>go jurong point crazy available bugis n great ...</td>\n    </tr>\n    <tr>\n      <th>1</th>\n      <td>ham</td>\n      <td>ok lar joking wif u oni</td>\n    </tr>\n    <tr>\n      <th>2</th>\n      <td>spam</td>\n      <td>free entry  wkly comp win fa cup final tkts st...</td>\n    </tr>\n    <tr>\n      <th>3</th>\n      <td>ham</td>\n      <td>u dun say early hor u c already say</td>\n    </tr>\n    <tr>\n      <th>4</th>\n      <td>ham</td>\n      <td>nah dont think goes usf lives around though</td>\n    </tr>\n    <tr>\n      <th>...</th>\n      <td>...</td>\n      <td>...</td>\n    </tr>\n    <tr>\n      <th>5567</th>\n      <td>spam</td>\n      <td>nd time tried  contact u u  pound prize  claim...</td>\n    </tr>\n    <tr>\n      <th>5568</th>\n      <td>ham</td>\n      <td>b going esplanade fr home</td>\n    </tr>\n    <tr>\n      <th>5569</th>\n      <td>ham</td>\n      <td>pity  mood soany suggestions</td>\n    </tr>\n    <tr>\n      <th>5570</th>\n      <td>ham</td>\n      <td>guy bitching acted like id interested buying s...</td>\n    </tr>\n    <tr>\n      <th>5571</th>\n      <td>ham</td>\n      <td>rofl true name</td>\n    </tr>\n  </tbody>\n</table>\n<p>5572 rows × 2 columns</p>\n</div>"
     },
     "execution_count": 121,
     "metadata": {},
     "output_type": "execute_result"
    }
   ],
   "source": [
    "import re\n",
    "from nltk.corpus import stopwords\n",
    "\n",
    "# import nltk\n",
    "# nltk.download('stopwords')\n",
    "\n",
    "# Предобработка данных\n",
    "good_chars = set([' '] + list(map(chr, range(ord('a'), ord('z') + 1))))\n",
    "stopwords = stopwords.words(\"english\")\n",
    "print(\"stop words len = \", len(stopwords))\n",
    "print(\"first 10 stop words: \", stopwords[:10], end=', ')\n",
    "\n",
    "sms.text = sms.text.apply(lambda row: row.lower())\n",
    "sms.text = sms.text.apply(lambda row: re.sub(\"\\s+\", \" \", row).strip())\n",
    "sms.text = sms.text.apply(lambda row: ''.join(ch for ch in row if ch in good_chars))\n",
    "sms.text = sms.text.apply(lambda row: ' '.join(filter(lambda word: word not in stopwords, row.split(\" \"))))\n",
    "sms"
   ],
   "metadata": {
    "collapsed": false,
    "ExecuteTime": {
     "start_time": "2023-06-08T15:38:52.865795Z",
     "end_time": "2023-06-08T15:38:53.077304Z"
    }
   }
  },
  {
   "cell_type": "code",
   "execution_count": 122,
   "outputs": [],
   "source": [
    "texts = sms['text']\n",
    "classes = sms['class'].apply(lambda c: 1 if c == 'spam' else 0)"
   ],
   "metadata": {
    "collapsed": false,
    "ExecuteTime": {
     "start_time": "2023-06-08T15:38:53.080690Z",
     "end_time": "2023-06-08T15:38:53.082518Z"
    }
   }
  },
  {
   "cell_type": "code",
   "execution_count": 123,
   "outputs": [
    {
     "data": {
      "text/plain": "   abiola  able  abt  accept  access  account  across  actually  add  address   \n0     0.0   0.0  0.0     0.0     0.0      0.0     0.0       0.0  0.0      0.0  \\\n1     0.0   0.0  0.0     0.0     0.0      0.0     0.0       0.0  0.0      0.0   \n2     0.0   0.0  0.0     0.0     0.0      0.0     0.0       0.0  0.0      0.0   \n3     0.0   0.0  0.0     0.0     0.0      0.0     0.0       0.0  0.0      0.0   \n4     0.0   0.0  0.0     0.0     0.0      0.0     0.0       0.0  0.0      0.0   \n\n   ...  yet   yo  yoga  youd  youll  youre  youve   yr  yrs  yup  \n0  ...  0.0  0.0   0.0   0.0    0.0    0.0    0.0  0.0  0.0  0.0  \n1  ...  0.0  0.0   0.0   0.0    0.0    0.0    0.0  0.0  0.0  0.0  \n2  ...  0.0  0.0   0.0   0.0    0.0    0.0    0.0  0.0  0.0  0.0  \n3  ...  0.0  0.0   0.0   0.0    0.0    0.0    0.0  0.0  0.0  0.0  \n4  ...  0.0  0.0   0.0   0.0    0.0    0.0    0.0  0.0  0.0  0.0  \n\n[5 rows x 1200 columns]",
      "text/html": "<div>\n<style scoped>\n    .dataframe tbody tr th:only-of-type {\n        vertical-align: middle;\n    }\n\n    .dataframe tbody tr th {\n        vertical-align: top;\n    }\n\n    .dataframe thead th {\n        text-align: right;\n    }\n</style>\n<table border=\"1\" class=\"dataframe\">\n  <thead>\n    <tr style=\"text-align: right;\">\n      <th></th>\n      <th>abiola</th>\n      <th>able</th>\n      <th>abt</th>\n      <th>accept</th>\n      <th>access</th>\n      <th>account</th>\n      <th>across</th>\n      <th>actually</th>\n      <th>add</th>\n      <th>address</th>\n      <th>...</th>\n      <th>yet</th>\n      <th>yo</th>\n      <th>yoga</th>\n      <th>youd</th>\n      <th>youll</th>\n      <th>youre</th>\n      <th>youve</th>\n      <th>yr</th>\n      <th>yrs</th>\n      <th>yup</th>\n    </tr>\n  </thead>\n  <tbody>\n    <tr>\n      <th>0</th>\n      <td>0.0</td>\n      <td>0.0</td>\n      <td>0.0</td>\n      <td>0.0</td>\n      <td>0.0</td>\n      <td>0.0</td>\n      <td>0.0</td>\n      <td>0.0</td>\n      <td>0.0</td>\n      <td>0.0</td>\n      <td>...</td>\n      <td>0.0</td>\n      <td>0.0</td>\n      <td>0.0</td>\n      <td>0.0</td>\n      <td>0.0</td>\n      <td>0.0</td>\n      <td>0.0</td>\n      <td>0.0</td>\n      <td>0.0</td>\n      <td>0.0</td>\n    </tr>\n    <tr>\n      <th>1</th>\n      <td>0.0</td>\n      <td>0.0</td>\n      <td>0.0</td>\n      <td>0.0</td>\n      <td>0.0</td>\n      <td>0.0</td>\n      <td>0.0</td>\n      <td>0.0</td>\n      <td>0.0</td>\n      <td>0.0</td>\n      <td>...</td>\n      <td>0.0</td>\n      <td>0.0</td>\n      <td>0.0</td>\n      <td>0.0</td>\n      <td>0.0</td>\n      <td>0.0</td>\n      <td>0.0</td>\n      <td>0.0</td>\n      <td>0.0</td>\n      <td>0.0</td>\n    </tr>\n    <tr>\n      <th>2</th>\n      <td>0.0</td>\n      <td>0.0</td>\n      <td>0.0</td>\n      <td>0.0</td>\n      <td>0.0</td>\n      <td>0.0</td>\n      <td>0.0</td>\n      <td>0.0</td>\n      <td>0.0</td>\n      <td>0.0</td>\n      <td>...</td>\n      <td>0.0</td>\n      <td>0.0</td>\n      <td>0.0</td>\n      <td>0.0</td>\n      <td>0.0</td>\n      <td>0.0</td>\n      <td>0.0</td>\n      <td>0.0</td>\n      <td>0.0</td>\n      <td>0.0</td>\n    </tr>\n    <tr>\n      <th>3</th>\n      <td>0.0</td>\n      <td>0.0</td>\n      <td>0.0</td>\n      <td>0.0</td>\n      <td>0.0</td>\n      <td>0.0</td>\n      <td>0.0</td>\n      <td>0.0</td>\n      <td>0.0</td>\n      <td>0.0</td>\n      <td>...</td>\n      <td>0.0</td>\n      <td>0.0</td>\n      <td>0.0</td>\n      <td>0.0</td>\n      <td>0.0</td>\n      <td>0.0</td>\n      <td>0.0</td>\n      <td>0.0</td>\n      <td>0.0</td>\n      <td>0.0</td>\n    </tr>\n    <tr>\n      <th>4</th>\n      <td>0.0</td>\n      <td>0.0</td>\n      <td>0.0</td>\n      <td>0.0</td>\n      <td>0.0</td>\n      <td>0.0</td>\n      <td>0.0</td>\n      <td>0.0</td>\n      <td>0.0</td>\n      <td>0.0</td>\n      <td>...</td>\n      <td>0.0</td>\n      <td>0.0</td>\n      <td>0.0</td>\n      <td>0.0</td>\n      <td>0.0</td>\n      <td>0.0</td>\n      <td>0.0</td>\n      <td>0.0</td>\n      <td>0.0</td>\n      <td>0.0</td>\n    </tr>\n  </tbody>\n</table>\n<p>5 rows × 1200 columns</p>\n</div>"
     },
     "execution_count": 123,
     "metadata": {},
     "output_type": "execute_result"
    }
   ],
   "source": [
    "from sklearn.feature_extraction.text import TfidfVectorizer\n",
    "\n",
    "tfidf = TfidfVectorizer(max_features=1200)\n",
    "X = tfidf.fit_transform(texts)\n",
    "X = pd.DataFrame(data=X.toarray(), columns=tfidf.get_feature_names_out())\n",
    "X.head()"
   ],
   "metadata": {
    "collapsed": false,
    "ExecuteTime": {
     "start_time": "2023-06-08T15:38:53.119712Z",
     "end_time": "2023-06-08T15:38:53.153585Z"
    }
   }
  },
  {
   "cell_type": "code",
   "execution_count": 163,
   "outputs": [],
   "source": [
    "from sklearn.model_selection import train_test_split\n",
    "\n",
    "X_train, X_test, Y_train, Y_test = train_test_split(X, classes, test_size=0.2)\n",
    "feat_names = X_train.columns"
   ],
   "metadata": {
    "collapsed": false,
    "ExecuteTime": {
     "start_time": "2023-06-08T16:22:10.637413Z",
     "end_time": "2023-06-08T16:22:10.640130Z"
    }
   }
  },
  {
   "cell_type": "code",
   "execution_count": 125,
   "outputs": [],
   "source": [
    "from sklearn.ensemble import RandomForestClassifier\n",
    "\n",
    "rfc = RandomForestClassifier()\n",
    "rfc.fit(X_train, Y_train)\n",
    "feat_importances = rfc.feature_importances_\n",
    "feat_importances_sorted = sorted(zip(feat_names, feat_importances), key=lambda x: x[1], reverse=True)\n",
    "top_feats_rfc = [x[0] for x in feat_importances_sorted[:30]]"
   ],
   "metadata": {
    "collapsed": false,
    "ExecuteTime": {
     "start_time": "2023-06-08T15:38:53.177466Z",
     "end_time": "2023-06-08T15:38:55.481356Z"
    }
   }
  },
  {
   "cell_type": "code",
   "execution_count": 134,
   "outputs": [],
   "source": [
    "from sklearn.feature_selection import RFE\n",
    "from sklearn.linear_model import LogisticRegression\n",
    "\n",
    "logreg = LogisticRegression()\n",
    "rfe = RFE(logreg, n_features_to_select=30)\n",
    "rfe.fit(X_train, Y_train)\n",
    "top_feats_rfe = pd.Series(dict(zip(feat_names, rfe.support_)))\n",
    "top_feats_rfe = list(top_feats_rfe[top_feats_rfe == True].index)"
   ],
   "metadata": {
    "collapsed": false,
    "ExecuteTime": {
     "start_time": "2023-06-08T15:45:31.876182Z",
     "end_time": "2023-06-08T15:49:52.887510Z"
    }
   }
  },
  {
   "cell_type": "code",
   "execution_count": 127,
   "outputs": [],
   "source": [
    "correlations = X_train.corrwith(Y_train)\n",
    "top_features = correlations.abs().sort_values(ascending=False)[:30].index\n",
    "top_feats_corr = list(X_train[top_features].columns)"
   ],
   "metadata": {
    "collapsed": false,
    "ExecuteTime": {
     "start_time": "2023-06-08T15:43:38.126276Z",
     "end_time": "2023-06-08T15:43:38.330312Z"
    }
   }
  },
  {
   "cell_type": "code",
   "execution_count": 155,
   "outputs": [
    {
     "data": {
      "text/plain": "   Random Forest Classifier   SVM-RFE Pearson correlation\n0                      call     apply                 txt\n1                       txt   awarded               claim\n2                      free       box                free\n3                     claim      call              mobile\n4                    mobile    camera               prize\n5                      stop      cash                call\n6                     prize      chat              urgent\n7                     reply     claim          guaranteed\n8                       win      code                stop\n9                      text   contact               reply\n10                    nokia      free               nokia\n11                   urgent       ill                 ppm\n12                  service        im                 win\n13                 ringtone    mobile             service\n14                     tone       new             awarded\n15                  contact     nokia                text\n16                      new       per                tone\n17                      per      pmin             contact\n18               guaranteed     pobox                cash\n19                     chat     prize                 box\n20                    apply     reply                draw\n21                   latest  ringtone                 tcs\n22                     pmin   service              latest\n23                  awarded      stop                 per\n24                      box      text                code\n25                 customer      tone          collection\n26                     draw     tones               shows\n27                    tones       txt                 mob\n28                      ppm    urgent               pobox\n29                    video       win            landline",
      "text/html": "<div>\n<style scoped>\n    .dataframe tbody tr th:only-of-type {\n        vertical-align: middle;\n    }\n\n    .dataframe tbody tr th {\n        vertical-align: top;\n    }\n\n    .dataframe thead th {\n        text-align: right;\n    }\n</style>\n<table border=\"1\" class=\"dataframe\">\n  <thead>\n    <tr style=\"text-align: right;\">\n      <th></th>\n      <th>Random Forest Classifier</th>\n      <th>SVM-RFE</th>\n      <th>Pearson correlation</th>\n    </tr>\n  </thead>\n  <tbody>\n    <tr>\n      <th>0</th>\n      <td>call</td>\n      <td>apply</td>\n      <td>txt</td>\n    </tr>\n    <tr>\n      <th>1</th>\n      <td>txt</td>\n      <td>awarded</td>\n      <td>claim</td>\n    </tr>\n    <tr>\n      <th>2</th>\n      <td>free</td>\n      <td>box</td>\n      <td>free</td>\n    </tr>\n    <tr>\n      <th>3</th>\n      <td>claim</td>\n      <td>call</td>\n      <td>mobile</td>\n    </tr>\n    <tr>\n      <th>4</th>\n      <td>mobile</td>\n      <td>camera</td>\n      <td>prize</td>\n    </tr>\n    <tr>\n      <th>5</th>\n      <td>stop</td>\n      <td>cash</td>\n      <td>call</td>\n    </tr>\n    <tr>\n      <th>6</th>\n      <td>prize</td>\n      <td>chat</td>\n      <td>urgent</td>\n    </tr>\n    <tr>\n      <th>7</th>\n      <td>reply</td>\n      <td>claim</td>\n      <td>guaranteed</td>\n    </tr>\n    <tr>\n      <th>8</th>\n      <td>win</td>\n      <td>code</td>\n      <td>stop</td>\n    </tr>\n    <tr>\n      <th>9</th>\n      <td>text</td>\n      <td>contact</td>\n      <td>reply</td>\n    </tr>\n    <tr>\n      <th>10</th>\n      <td>nokia</td>\n      <td>free</td>\n      <td>nokia</td>\n    </tr>\n    <tr>\n      <th>11</th>\n      <td>urgent</td>\n      <td>ill</td>\n      <td>ppm</td>\n    </tr>\n    <tr>\n      <th>12</th>\n      <td>service</td>\n      <td>im</td>\n      <td>win</td>\n    </tr>\n    <tr>\n      <th>13</th>\n      <td>ringtone</td>\n      <td>mobile</td>\n      <td>service</td>\n    </tr>\n    <tr>\n      <th>14</th>\n      <td>tone</td>\n      <td>new</td>\n      <td>awarded</td>\n    </tr>\n    <tr>\n      <th>15</th>\n      <td>contact</td>\n      <td>nokia</td>\n      <td>text</td>\n    </tr>\n    <tr>\n      <th>16</th>\n      <td>new</td>\n      <td>per</td>\n      <td>tone</td>\n    </tr>\n    <tr>\n      <th>17</th>\n      <td>per</td>\n      <td>pmin</td>\n      <td>contact</td>\n    </tr>\n    <tr>\n      <th>18</th>\n      <td>guaranteed</td>\n      <td>pobox</td>\n      <td>cash</td>\n    </tr>\n    <tr>\n      <th>19</th>\n      <td>chat</td>\n      <td>prize</td>\n      <td>box</td>\n    </tr>\n    <tr>\n      <th>20</th>\n      <td>apply</td>\n      <td>reply</td>\n      <td>draw</td>\n    </tr>\n    <tr>\n      <th>21</th>\n      <td>latest</td>\n      <td>ringtone</td>\n      <td>tcs</td>\n    </tr>\n    <tr>\n      <th>22</th>\n      <td>pmin</td>\n      <td>service</td>\n      <td>latest</td>\n    </tr>\n    <tr>\n      <th>23</th>\n      <td>awarded</td>\n      <td>stop</td>\n      <td>per</td>\n    </tr>\n    <tr>\n      <th>24</th>\n      <td>box</td>\n      <td>text</td>\n      <td>code</td>\n    </tr>\n    <tr>\n      <th>25</th>\n      <td>customer</td>\n      <td>tone</td>\n      <td>collection</td>\n    </tr>\n    <tr>\n      <th>26</th>\n      <td>draw</td>\n      <td>tones</td>\n      <td>shows</td>\n    </tr>\n    <tr>\n      <th>27</th>\n      <td>tones</td>\n      <td>txt</td>\n      <td>mob</td>\n    </tr>\n    <tr>\n      <th>28</th>\n      <td>ppm</td>\n      <td>urgent</td>\n      <td>pobox</td>\n    </tr>\n    <tr>\n      <th>29</th>\n      <td>video</td>\n      <td>win</td>\n      <td>landline</td>\n    </tr>\n  </tbody>\n</table>\n</div>"
     },
     "execution_count": 155,
     "metadata": {},
     "output_type": "execute_result"
    }
   ],
   "source": [
    "pd.DataFrame(data={\n",
    "    \"Random Forest Classifier\": top_feats_rfc,\n",
    "    \"SVM-RFE\": top_feats_rfe,\n",
    "    \"Pearson correlation\": top_feats_corr,\n",
    "})"
   ],
   "metadata": {
    "collapsed": false,
    "ExecuteTime": {
     "start_time": "2023-06-08T15:53:37.240539Z",
     "end_time": "2023-06-08T15:53:37.244106Z"
    }
   }
  },
  {
   "cell_type": "code",
   "execution_count": 158,
   "outputs": [],
   "source": [
    "from sklearn.linear_model import LogisticRegression\n",
    "from sklearn.feature_selection import SelectKBest, chi2, mutual_info_classif\n",
    "\n",
    "selector_chi2 = SelectKBest(score_func=chi2, k=30)\n",
    "selector_chi2.fit(X_train, Y_train)\n",
    "feat_cols_chi2 = selector_chi2.get_support(indices=True)\n",
    "top_feats_chi2 = [feat_names[i] for i in feat_cols_chi2[:30]]\n",
    "\n",
    "selector_mic = SelectKBest(score_func=mutual_info_classif, k=30)\n",
    "selector_mic.fit(X_train, Y_train)\n",
    "feat_cols_mic = selector_mic.get_support(indices=True)\n",
    "top_feats_mic = [feat_names[i] for i in feat_cols_mic[:30]]\n",
    "\n",
    "lr = LogisticRegression(solver='liblinear')\n",
    "lr.fit(X_train, Y_train)\n",
    "top_feats_lr = list(pd.Series(lr.coef_[0], feat_names).sort_values(ascending=False)[:30].index)"
   ],
   "metadata": {
    "collapsed": false,
    "ExecuteTime": {
     "start_time": "2023-06-08T16:03:27.628783Z",
     "end_time": "2023-06-08T16:03:37.428713Z"
    }
   }
  },
  {
   "cell_type": "code",
   "execution_count": 159,
   "outputs": [
    {
     "data": {
      "text/plain": "   my: Random Forest Classifier my: SVM-RFE my: Pearson correlation   \n0                          call       apply                     txt  \\\n1                           txt     awarded                   claim   \n2                          free         box                    free   \n3                         claim        call                  mobile   \n4                        mobile      camera                   prize   \n5                          stop        cash                    call   \n6                         prize        chat                  urgent   \n7                         reply       claim              guaranteed   \n8                           win        code                    stop   \n9                          text     contact                   reply   \n10                        nokia        free                   nokia   \n11                       urgent         ill                     ppm   \n12                      service          im                     win   \n13                     ringtone      mobile                 service   \n14                         tone         new                 awarded   \n15                      contact       nokia                    text   \n16                          new         per                    tone   \n17                          per        pmin                 contact   \n18                   guaranteed       pobox                    cash   \n19                         chat       prize                     box   \n20                        apply       reply                    draw   \n21                       latest    ringtone                     tcs   \n22                         pmin     service                  latest   \n23                      awarded        stop                     per   \n24                          box        text                    code   \n25                     customer        tone              collection   \n26                         draw       tones                   shows   \n27                        tones         txt                     mob   \n28                          ppm      urgent                   pobox   \n29                        video         win                landline   \n\n   lib: SelectKBest with chi2 lib: SelectKBest with mutual_info_classif   \n0                     awarded                                       box  \\\n1                         box                                      call   \n2                        call                                      cash   \n3                      camera                                     claim   \n4                        cash                                   contact   \n5                       claim                                      draw   \n6                        code                                      free   \n7                  collection                                      land   \n8                     contact                                  landline   \n9                        draw                                    mobile   \n10                       free                                   network   \n11                 guaranteed                                     nokia   \n12                     latest                                  operator   \n13                     mobile                                       ppm   \n14                      nokia                                     prize   \n15                        per                                     reply   \n16                       pmin                                  ringtone   \n17                        ppm                                  shopping   \n18                      prize                                      stop   \n19                      reply                                     study   \n20                   ringtone                                      take   \n21                    service                                      tell   \n22                       stop                                      text   \n23                        tcs                                    todays   \n24                       text                                      tone   \n25                       tone                                       txt   \n26                      tones                                        ur   \n27                        txt                                    urgent   \n28                     urgent                                  whatever   \n29                        win                                       win   \n\n   lib: Logistic Regression  \n0                       txt  \n1                      text  \n2                     claim  \n3                      free  \n4                    mobile  \n5                      call  \n6                      stop  \n7                     reply  \n8                     prize  \n9                       win  \n10                     chat  \n11                  service  \n12                 ringtone  \n13                      new  \n14                   urgent  \n15                     pmin  \n16                    nokia  \n17                      per  \n18                    tones  \n19                  contact  \n20                    apply  \n21                     tone  \n22                     cash  \n23                     sexy  \n24                      box  \n25                    pobox  \n26                   latest  \n27                    video  \n28                 services  \n29                   camera  ",
      "text/html": "<div>\n<style scoped>\n    .dataframe tbody tr th:only-of-type {\n        vertical-align: middle;\n    }\n\n    .dataframe tbody tr th {\n        vertical-align: top;\n    }\n\n    .dataframe thead th {\n        text-align: right;\n    }\n</style>\n<table border=\"1\" class=\"dataframe\">\n  <thead>\n    <tr style=\"text-align: right;\">\n      <th></th>\n      <th>my: Random Forest Classifier</th>\n      <th>my: SVM-RFE</th>\n      <th>my: Pearson correlation</th>\n      <th>lib: SelectKBest with chi2</th>\n      <th>lib: SelectKBest with mutual_info_classif</th>\n      <th>lib: Logistic Regression</th>\n    </tr>\n  </thead>\n  <tbody>\n    <tr>\n      <th>0</th>\n      <td>call</td>\n      <td>apply</td>\n      <td>txt</td>\n      <td>awarded</td>\n      <td>box</td>\n      <td>txt</td>\n    </tr>\n    <tr>\n      <th>1</th>\n      <td>txt</td>\n      <td>awarded</td>\n      <td>claim</td>\n      <td>box</td>\n      <td>call</td>\n      <td>text</td>\n    </tr>\n    <tr>\n      <th>2</th>\n      <td>free</td>\n      <td>box</td>\n      <td>free</td>\n      <td>call</td>\n      <td>cash</td>\n      <td>claim</td>\n    </tr>\n    <tr>\n      <th>3</th>\n      <td>claim</td>\n      <td>call</td>\n      <td>mobile</td>\n      <td>camera</td>\n      <td>claim</td>\n      <td>free</td>\n    </tr>\n    <tr>\n      <th>4</th>\n      <td>mobile</td>\n      <td>camera</td>\n      <td>prize</td>\n      <td>cash</td>\n      <td>contact</td>\n      <td>mobile</td>\n    </tr>\n    <tr>\n      <th>5</th>\n      <td>stop</td>\n      <td>cash</td>\n      <td>call</td>\n      <td>claim</td>\n      <td>draw</td>\n      <td>call</td>\n    </tr>\n    <tr>\n      <th>6</th>\n      <td>prize</td>\n      <td>chat</td>\n      <td>urgent</td>\n      <td>code</td>\n      <td>free</td>\n      <td>stop</td>\n    </tr>\n    <tr>\n      <th>7</th>\n      <td>reply</td>\n      <td>claim</td>\n      <td>guaranteed</td>\n      <td>collection</td>\n      <td>land</td>\n      <td>reply</td>\n    </tr>\n    <tr>\n      <th>8</th>\n      <td>win</td>\n      <td>code</td>\n      <td>stop</td>\n      <td>contact</td>\n      <td>landline</td>\n      <td>prize</td>\n    </tr>\n    <tr>\n      <th>9</th>\n      <td>text</td>\n      <td>contact</td>\n      <td>reply</td>\n      <td>draw</td>\n      <td>mobile</td>\n      <td>win</td>\n    </tr>\n    <tr>\n      <th>10</th>\n      <td>nokia</td>\n      <td>free</td>\n      <td>nokia</td>\n      <td>free</td>\n      <td>network</td>\n      <td>chat</td>\n    </tr>\n    <tr>\n      <th>11</th>\n      <td>urgent</td>\n      <td>ill</td>\n      <td>ppm</td>\n      <td>guaranteed</td>\n      <td>nokia</td>\n      <td>service</td>\n    </tr>\n    <tr>\n      <th>12</th>\n      <td>service</td>\n      <td>im</td>\n      <td>win</td>\n      <td>latest</td>\n      <td>operator</td>\n      <td>ringtone</td>\n    </tr>\n    <tr>\n      <th>13</th>\n      <td>ringtone</td>\n      <td>mobile</td>\n      <td>service</td>\n      <td>mobile</td>\n      <td>ppm</td>\n      <td>new</td>\n    </tr>\n    <tr>\n      <th>14</th>\n      <td>tone</td>\n      <td>new</td>\n      <td>awarded</td>\n      <td>nokia</td>\n      <td>prize</td>\n      <td>urgent</td>\n    </tr>\n    <tr>\n      <th>15</th>\n      <td>contact</td>\n      <td>nokia</td>\n      <td>text</td>\n      <td>per</td>\n      <td>reply</td>\n      <td>pmin</td>\n    </tr>\n    <tr>\n      <th>16</th>\n      <td>new</td>\n      <td>per</td>\n      <td>tone</td>\n      <td>pmin</td>\n      <td>ringtone</td>\n      <td>nokia</td>\n    </tr>\n    <tr>\n      <th>17</th>\n      <td>per</td>\n      <td>pmin</td>\n      <td>contact</td>\n      <td>ppm</td>\n      <td>shopping</td>\n      <td>per</td>\n    </tr>\n    <tr>\n      <th>18</th>\n      <td>guaranteed</td>\n      <td>pobox</td>\n      <td>cash</td>\n      <td>prize</td>\n      <td>stop</td>\n      <td>tones</td>\n    </tr>\n    <tr>\n      <th>19</th>\n      <td>chat</td>\n      <td>prize</td>\n      <td>box</td>\n      <td>reply</td>\n      <td>study</td>\n      <td>contact</td>\n    </tr>\n    <tr>\n      <th>20</th>\n      <td>apply</td>\n      <td>reply</td>\n      <td>draw</td>\n      <td>ringtone</td>\n      <td>take</td>\n      <td>apply</td>\n    </tr>\n    <tr>\n      <th>21</th>\n      <td>latest</td>\n      <td>ringtone</td>\n      <td>tcs</td>\n      <td>service</td>\n      <td>tell</td>\n      <td>tone</td>\n    </tr>\n    <tr>\n      <th>22</th>\n      <td>pmin</td>\n      <td>service</td>\n      <td>latest</td>\n      <td>stop</td>\n      <td>text</td>\n      <td>cash</td>\n    </tr>\n    <tr>\n      <th>23</th>\n      <td>awarded</td>\n      <td>stop</td>\n      <td>per</td>\n      <td>tcs</td>\n      <td>todays</td>\n      <td>sexy</td>\n    </tr>\n    <tr>\n      <th>24</th>\n      <td>box</td>\n      <td>text</td>\n      <td>code</td>\n      <td>text</td>\n      <td>tone</td>\n      <td>box</td>\n    </tr>\n    <tr>\n      <th>25</th>\n      <td>customer</td>\n      <td>tone</td>\n      <td>collection</td>\n      <td>tone</td>\n      <td>txt</td>\n      <td>pobox</td>\n    </tr>\n    <tr>\n      <th>26</th>\n      <td>draw</td>\n      <td>tones</td>\n      <td>shows</td>\n      <td>tones</td>\n      <td>ur</td>\n      <td>latest</td>\n    </tr>\n    <tr>\n      <th>27</th>\n      <td>tones</td>\n      <td>txt</td>\n      <td>mob</td>\n      <td>txt</td>\n      <td>urgent</td>\n      <td>video</td>\n    </tr>\n    <tr>\n      <th>28</th>\n      <td>ppm</td>\n      <td>urgent</td>\n      <td>pobox</td>\n      <td>urgent</td>\n      <td>whatever</td>\n      <td>services</td>\n    </tr>\n    <tr>\n      <th>29</th>\n      <td>video</td>\n      <td>win</td>\n      <td>landline</td>\n      <td>win</td>\n      <td>win</td>\n      <td>camera</td>\n    </tr>\n  </tbody>\n</table>\n</div>"
     },
     "execution_count": 159,
     "metadata": {},
     "output_type": "execute_result"
    }
   ],
   "source": [
    "pd.DataFrame(data={\n",
    "    \"my: Random Forest Classifier\": top_feats_rfc,\n",
    "    \"my: SVM-RFE\": top_feats_rfe,\n",
    "    \"my: Pearson correlation\": top_feats_corr,\n",
    "    \"lib: SelectKBest with chi2\": top_feats_chi2,\n",
    "    \"lib: SelectKBest with mutual_info_classif\": top_feats_mic,\n",
    "    \"lib: Logistic Regression\": top_feats_lr,\n",
    "})"
   ],
   "metadata": {
    "collapsed": false,
    "ExecuteTime": {
     "start_time": "2023-06-08T16:03:37.435306Z",
     "end_time": "2023-06-08T16:03:37.439964Z"
    }
   }
  },
  {
   "cell_type": "code",
   "execution_count": 166,
   "outputs": [],
   "source": [
    "import numpy as np\n",
    "\n",
    "X_train_my1 = pd.DataFrame(X_train, columns=np.array(top_feats_rfc))\n",
    "X_test_my1 = pd.DataFrame(X_test, columns=np.array(top_feats_rfc))\n",
    "\n",
    "X_train_my2 = pd.DataFrame(X_train, columns=np.array(top_feats_rfe))\n",
    "X_test_my2 = pd.DataFrame(X_test, columns=np.array(top_feats_rfe))\n",
    "\n",
    "X_train_my3 = pd.DataFrame(X_train, columns=np.array(top_feats_corr))\n",
    "X_test_my3 = pd.DataFrame(X_test, columns=np.array(top_feats_corr))\n",
    "\n",
    "X_train_lib1 = pd.DataFrame(X_train, columns=np.array(top_feats_chi2))\n",
    "X_test_lib1 = pd.DataFrame(X_test, columns=np.array(top_feats_chi2))\n",
    "\n",
    "X_train_lib2 = pd.DataFrame(X_train, columns=np.array(top_feats_mic))\n",
    "X_test_lib2 = pd.DataFrame(X_test, columns=np.array(top_feats_mic))\n",
    "\n",
    "X_train_lib3 = pd.DataFrame(X_train, columns=np.array(top_feats_lr))\n",
    "X_test_lib3 = pd.DataFrame(X_test, columns=np.array(top_feats_lr))"
   ],
   "metadata": {
    "collapsed": false,
    "ExecuteTime": {
     "start_time": "2023-06-08T16:23:32.743779Z",
     "end_time": "2023-06-08T16:23:32.767675Z"
    }
   }
  },
  {
   "cell_type": "code",
   "execution_count": 183,
   "outputs": [],
   "source": [
    "from sklearn.metrics import accuracy_score\n",
    "from sklearn.svm import SVC\n",
    "from sklearn.tree import DecisionTreeClassifier\n",
    "from sklearn.ensemble import RandomForestClassifier\n",
    "\n",
    "\n",
    "def compare(model, model_name):\n",
    "    print(model_name, \"accuracies:\")\n",
    "\n",
    "    model.fit(X_train, Y_train)\n",
    "    y_pred = model.predict(X_test)\n",
    "    print(\"all features:\")\n",
    "    print(accuracy_score(Y_test, y_pred))\n",
    "\n",
    "    model.fit(X_train_my1, Y_train)\n",
    "    y_pred = model.predict(X_test_my1)\n",
    "    print(\"my: Random Forest Classifier\")\n",
    "    print(accuracy_score(Y_test, y_pred))\n",
    "\n",
    "    model.fit(X_train_my2, Y_train)\n",
    "    y_pred = model.predict(X_test_my2)\n",
    "    print(\"my: SVM-RFE\")\n",
    "    print(accuracy_score(Y_test, y_pred))\n",
    "\n",
    "    model.fit(X_train_my3, Y_train)\n",
    "    y_pred = model.predict(X_test_my3)\n",
    "    print(\"my: Pearson correlation\")\n",
    "    print(accuracy_score(Y_test, y_pred))\n",
    "\n",
    "    model.fit(X_train_lib1, Y_train)\n",
    "    y_pred = model.predict(X_test_lib1)\n",
    "    print(\"lib: SelectKBest with chi2\")\n",
    "    print(accuracy_score(Y_test, y_pred))\n",
    "\n",
    "    model.fit(X_train_lib2, Y_train)\n",
    "    y_pred = model.predict(X_test_lib2)\n",
    "    print(\"lib: SelectKBest with mutual_info_classif\")\n",
    "    print(accuracy_score(Y_test, y_pred))\n",
    "\n",
    "    model.fit(X_train_lib3, Y_train)\n",
    "    y_pred = model.predict(X_test_lib3)\n",
    "    print(\"lib: Logistic Regression\")\n",
    "    print(accuracy_score(Y_test, y_pred))"
   ],
   "metadata": {
    "collapsed": false,
    "ExecuteTime": {
     "start_time": "2023-06-08T16:30:34.187420Z",
     "end_time": "2023-06-08T16:30:34.191409Z"
    }
   }
  },
  {
   "cell_type": "code",
   "execution_count": 184,
   "outputs": [
    {
     "name": "stdout",
     "output_type": "stream",
     "text": [
      "Decision Tree accuracies:\n",
      "all features:\n",
      "0.9659192825112107\n",
      "my: Random Forest Classifier\n",
      "0.9497757847533632\n",
      "my: SVM-RFE\n",
      "0.9497757847533632\n",
      "my: Pearson correlation\n",
      "0.9452914798206278\n",
      "lib: SelectKBest with chi2\n",
      "0.9452914798206278\n",
      "lib: SelectKBest with mutual_info_classif\n",
      "0.9452914798206278\n",
      "lib: Logistic Regression\n",
      "0.9515695067264573\n"
     ]
    }
   ],
   "source": [
    "compare(DecisionTreeClassifier(), \"Decision Tree\")"
   ],
   "metadata": {
    "collapsed": false,
    "ExecuteTime": {
     "start_time": "2023-06-08T16:30:37.269662Z",
     "end_time": "2023-06-08T16:30:38.431911Z"
    }
   }
  },
  {
   "cell_type": "code",
   "execution_count": 185,
   "outputs": [
    {
     "name": "stdout",
     "output_type": "stream",
     "text": [
      "Random Forest accuracies:\n",
      "all features:\n",
      "0.9748878923766816\n",
      "my: Random Forest Classifier\n",
      "0.9632286995515695\n",
      "my: SVM-RFE\n",
      "0.9596412556053812\n",
      "my: Pearson correlation\n",
      "0.9506726457399103\n",
      "lib: SelectKBest with chi2\n",
      "0.9542600896860987\n",
      "lib: SelectKBest with mutual_info_classif\n",
      "0.947085201793722\n",
      "lib: Logistic Regression\n",
      "0.9632286995515695\n"
     ]
    }
   ],
   "source": [
    "compare(RandomForestClassifier(), \"Random Forest\")"
   ],
   "metadata": {
    "collapsed": false,
    "ExecuteTime": {
     "start_time": "2023-06-08T16:30:38.444869Z",
     "end_time": "2023-06-08T16:30:42.100268Z"
    }
   }
  },
  {
   "cell_type": "code",
   "execution_count": 186,
   "outputs": [
    {
     "name": "stdout",
     "output_type": "stream",
     "text": [
      "SVC accuracies:\n",
      "all features:\n",
      "0.9802690582959641\n",
      "my: Random Forest Classifier\n",
      "0.95695067264574\n",
      "my: SVM-RFE\n",
      "0.9641255605381166\n",
      "my: Pearson correlation\n",
      "0.9524663677130045\n",
      "lib: SelectKBest with chi2\n",
      "0.9551569506726457\n",
      "lib: SelectKBest with mutual_info_classif\n",
      "0.9443946188340807\n",
      "lib: Logistic Regression\n",
      "0.9623318385650225\n"
     ]
    }
   ],
   "source": [
    "compare(SVC(), \"SVC\")"
   ],
   "metadata": {
    "collapsed": false,
    "ExecuteTime": {
     "start_time": "2023-06-08T16:30:42.100960Z",
     "end_time": "2023-06-08T16:30:48.386551Z"
    }
   }
  },
  {
   "cell_type": "code",
   "execution_count": null,
   "outputs": [],
   "source": [],
   "metadata": {
    "collapsed": false
   }
  }
 ],
 "metadata": {
  "kernelspec": {
   "display_name": "Python 3",
   "language": "python",
   "name": "python3"
  },
  "language_info": {
   "codemirror_mode": {
    "name": "ipython",
    "version": 2
   },
   "file_extension": ".py",
   "mimetype": "text/x-python",
   "name": "python",
   "nbconvert_exporter": "python",
   "pygments_lexer": "ipython2",
   "version": "2.7.6"
  }
 },
 "nbformat": 4,
 "nbformat_minor": 0
}
