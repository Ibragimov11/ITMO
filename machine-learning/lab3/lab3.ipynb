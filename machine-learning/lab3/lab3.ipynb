{
 "cells": [
  {
   "cell_type": "markdown",
   "source": [
    "Data preparing"
   ],
   "metadata": {
    "collapsed": false
   }
  },
  {
   "cell_type": "code",
   "execution_count": 1,
   "outputs": [],
   "source": [
    "def prepare(l: str):\n",
    "    s = l.strip().lower()\n",
    "\n",
    "    for numChar in ['0', '1', '2', '3', '4', '5', '6', '7', '8', '9']:\n",
    "        s = s.replace(numChar, '', -1)\n",
    "\n",
    "    for c in ['\"', \"'\", '(', ')', '*', ',', '-', ':', ]:\n",
    "        s = s.replace(c, '', -1)\n",
    "\n",
    "    for endChar in ['?', '!', ';']:\n",
    "        s = s.replace(endChar, '.', -1)\n",
    "\n",
    "    s = \" \".join(s.split())\n",
    "    return s.split('.')\n",
    "\n",
    "\n",
    "file = open('data/The Brothers Karamazov cropped.txt', encoding='UTF-8')\n",
    "text = ''\n",
    "sentences = []\n",
    "\n",
    "for line in file.readlines():\n",
    "    line_sentences = prepare(line)\n",
    "    for sentence in line_sentences:\n",
    "        striped = sentence.strip()\n",
    "        if len(striped) != 0:\n",
    "            text += striped + '.'\n",
    "            sentences.append(striped + '.')\n"
   ],
   "metadata": {
    "collapsed": false
   }
  },
  {
   "cell_type": "code",
   "execution_count": 2,
   "outputs": [
    {
     "name": "stdout",
     "output_type": "stream",
     "text": [
      "alphabet =  [' ', '.', 'a', 'b', 'c', 'd', 'e', 'f', 'g', 'h', 'i', 'j', 'k', 'l', 'm', 'n', 'o', 'p', 'q', 'r', 's', 't', 'u', 'v', 'w', 'x', 'y', 'z']\n",
      "alphabet size after preparing =  28\n",
      "sentences count =  4684\n",
      "doubled spaces count =  0\n"
     ]
    }
   ],
   "source": [
    "chars = sorted(set(text))\n",
    "alphabet_size = len(chars)\n",
    "print(\"alphabet = \", chars, sep=' ')\n",
    "print(\"alphabet size after preparing = \", alphabet_size)\n",
    "assert (text.count('.') == len(sentences))\n",
    "print(\"sentences count = \", len(sentences))\n",
    "print(\"doubled spaces count = \", text.count('  '))"
   ],
   "metadata": {
    "collapsed": false,
    "ExecuteTime": {
     "start_time": "2023-05-18T09:16:18.111147Z",
     "end_time": "2023-05-18T09:16:18.115279Z"
    }
   }
  },
  {
   "cell_type": "code",
   "execution_count": 3,
   "outputs": [
    {
     "data": {
      "text/plain": "['part i.',\n 'book i.',\n 'the history of a family.',\n 'chapter.',\n 'fyodor pavlovitch karamazov.',\n 'alexey fyodorovitch karamazov was the third son of fyodor pavlovitch karamazov a landowner well known in our district in his own day and still remembered among us owing to his gloomy and tragic death which happened thirteen years ago and which i shall describe in its proper place.',\n 'for the present i will only say that this landowner for so we used to call him although he hardly spent a day of his life on his own estate was a strange type yet one pretty frequently to be met with a type abject and vicious and at the same time senseless.',\n 'but he was one of those senseless persons who are very well capable of looking after their worldly affairs and apparently after nothing else.',\n 'fyodor pavlovitch for instance began with next to nothing.',\n 'his estate was of the smallest.',\n 'he ran to dine at other mens tables and fastened on them as a toady yet at his death it appeared that he had a hundred thousand roubles in hard cash.',\n 'at the same time he was all his life one of the most senseless fantastical fellows in the whole district.',\n 'i repeat it was not stupidity the majority of these fantastical fellows are shrewd and intelligent enough but just senselessness and a peculiar national form of it.',\n 'he was married twice and had three sons the eldest dmitri by his first wife and two ivan and alexey by his second.',\n 'fyodor pavlovitchs first wife adelaida ivanovna belonged to a fairly rich and distinguished noble family also landowners in our district the miusovs.',\n 'how it came to pass that an heiress who was also a beauty and moreover one of those vigorous intelligent girls so common in this generation but sometimes also to be found in the last could have married such a worthless puny weakling as we all called him i wont attempt to explain.',\n 'i knew a young lady of the last romantic generation who after some years of an enigmatic passion for a gentleman whom she might quite easily have married at any moment invented insuperable obstacles to their union and ended by throwing herself one stormy night into a rather deep and rapid river from a high bank almost a precipice and so perished entirely to satisfy her own caprice and to be like shakespeares ophelia.',\n 'indeed if this precipice a chosen and favourite spot of hers had been less picturesque if there had been a prosaic flat bank in its place most likely the suicide would never have taken place.',\n 'this is a fact and probably there have been not a few similar instances in the last two or three generations.',\n 'adelaida ivanovna miusovs action was similarly no doubt an echo of other peoples ideas and was due to the irritation caused by lack of mental freedom.',\n 'she wanted perhaps to show her feminine independence to override class distinctions and the despotism of her family.',\n 'and a pliable imagination persuaded her we must suppose for a brief moment that fyodor pavlovitch in spite of his parasitic position was one of the bold and ironical spirits of that progressive epoch though he was in fact an illnatured buffoon and nothing more.',\n 'what gave the marriage piquancy was that it was preceded by an elopement and this greatly captivated adelaida ivanovnas fancy.',\n 'fyodor pavlovitchs position at the time made him specially eager for any such enterprise for he was passionately anxious to make a career in one way or another.',\n 'to attach himself to a good family and obtain a dowry was an alluring prospect.',\n 'as for mutual love it did not exist apparently either in the bride or in him in spite of adelaida ivanovnas beauty.',\n 'this was perhaps a unique case of the kind in the life of fyodor pavlovitch who was always of a voluptuous temper and ready to run after any petticoat on the slightest encouragement.',\n 'she seems to have been the only woman who made no particular appeal to his senses.',\n 'immediatley after the elopement adelaida ivanovna discerned in a flash that she had no feeling for her husband but contempt.',\n 'the marriage accordingly showed itself in its true colours with extraordinary rapidity.',\n 'although the family accepted the event pretty quickly and apportioned the runaway bride her dowry the husband and wife began to lead a most disorderly life and there were everlasting scenes between them.',\n 'it was said that the young wife showed incomparably more generosity and dignity than fyodor pavlovitch who as is now known got hold of all her money up to twenty five thousand roubles as soon as she received it so that those thousands were lost to her forever.',\n 'the little village and the rather fine town house which formed part of her dowry he did his utmost for a long time to transfer to his name by means of some deed of conveyance.',\n 'he would probably have succeeded merely from her moral fatigue and desire to get rid of him and from the contempt and loathing he aroused by his persistent and shameless importunity.',\n 'but fortunately adelaida ivanovnas family intervened and circumvented his greediness.',\n 'it is known for a fact that frequent fights took place between the husband and wife but rumour had it that fyodor pavlovitch did not beat his wife but was beaten by her for she was a hottempered bold darkbrowed impatient woman possessed of remarkable physical strength.',\n 'finally she left the house and ran away from fyodor pavlovitch with a destitute divinity student leaving mitya a child of three years old in her husbands hands.',\n 'immediately fyodor pavlovitch introduced a regular harem into the house and abandoned himself to orgies of drunkenness.',\n 'in the intervals he used to drive all over the province complaining tearfully to each and all of adelaida ivanovnas having left him going into details too disgraceful for a husband to mention in regard to his own married life.',\n 'what seemed to gratify him and flatter his selflove most was to play the ridiculous part of the injured husband and to parade his woes with embellishments.',\n 'one would think that youd got a promotion fyodor pavlovitch you seem so pleased in spite of your sorrow scoffers said to him.',\n 'many even added that he was glad of a new comic part in which to play the buffoon and that it was simply to make it funnier that he pretended to be unaware of his ludicrous position.',\n 'but who knows it may have been simplicity.',\n 'at last he succeeded in getting on the track of his runaway wife.',\n 'the poor woman turned out to be in petersburg where she had gone with her divinity student and where she had thrown herself into a life of complete emancipation.',\n 'fyodor pavlovitch at once began bustling about making preparations to go to petersburg with what object he could not himself have said.',\n 'he would perhaps have really gone.',\n 'but having determined to do so he felt at once entitled to fortify himself for the journey by another bout of reckless drinking.',\n 'and just at that time his wifes family received the news of her death in petersburg.',\n 'she had died quite suddenly in a garret according to one story of typhus or as another version had it of starvation.',\n 'fyodor pavlovitch was drunk when he heard of his wifes death and the story is that he ran out into the street and began shouting with joy raising his hands to heaven.',\n 'lord now lettest thou thy servant depart in peace but others say he wept without restraint like a little child so much so that people were sorry for him in spite of the repulsion he inspired.',\n 'it is quite possible that both versions were true that he rejoiced at his release and at the same time wept for her who released him.',\n 'as a general rule people even the wicked are much more naive and simplehearted than we suppose.',\n 'and we ourselves are too.',\n 'chapter.',\n 'he gets rid of his eldest son.',\n 'you can easily imagine what a father such a man could be and how he would bring up his children.',\n 'his behaviour as a father was exactly what might be expected.',\n 'he completely abandoned the child of his marriage with adelaida ivanovna not from malice nor because of his matrimonial grievances but simply because he forgot him.',\n 'while he was wearying everyone with his tears and complaints and turning his house into a sink of debauchery a faithful servant of the family grigory took the threeyear old mitya into his care.',\n 'if he hadnt looked after him there would have been no one even to change the babys little shirt.',\n 'it happened moreover that the childs relations on his mothers side forgot him too at first.',\n 'his grandfather was no longer living his widow mityas grandmother had moved to moscow and was seriously ill while his daughters were married so that mitya remained for almost a whole year in old grigorys charge and lived with him in the servants cottage.',\n 'but if his father had remembered him he could not indeed have been altogether unaware of his existence he would have sent him back to the cottage as the child would only have been in the way of his debaucheries.',\n 'but a cousin of mityas mother pyotr alexandrovitch miusov happened to return from paris.',\n 'he lived for many years afterwards abroad but was at that time quite a young.',\n 'man and distinguished among the miusovs as a man of enlightened ideas and of european culture who had been in the capitals and abroad.',\n 'towards the end of his life he became a liberal of the type common in the forties and fifties.',\n 'in the course of his career he had come into contact with many of the most liberal men of his epoch both in russia and abroad.',\n 'he had known proudhon and bakunin personally and in his declining years was very fond of describing the three days of the paris revolution of february hinting that he himself had almost taken part in the fighting on the barricades.',\n 'this was one of the most grateful recollections of his youth.',\n 'he had an independent property of about a thousand souls to reckon in the old style.',\n 'his splendid estate lay on the outskirts of our little town and bordered on the lands of our famous monastery with which pyotr alexandrovitch began an endless lawsuit almost as soon as he came into the estate concerning the rights of fishing in the river or woodcutting in the forest i dont know exactly which.',\n 'he regarded it as his duty as a citizen and a man of culture to open an attack upon the clericals.',\n 'hearing all about adelaida ivanovna whom he of course remembered and in whom he had at one time been interested and learning of the existence of mitya he intervened in spite of all his youthful indignation and contempt for fyodor pavlovitch.',\n 'he made the latters acquaintance for the first time and told him directly that he wished to undertake the childs education.',\n 'he used long afterwards to tell as a characteristic touch that when he began to speak of mitya fyodor pavlovitch looked for some time as though he did not understand what child he was talking about and even as though he was surprised to hear that he had a little son in the house.',\n 'the story may have been exaggerated yet it must have been something like the truth.',\n 'fyodor pavlovitch was all his life fond of acting of suddenly playing an unexpected part sometimes without any motive for doing so and even to his own direct disadvantage as for instance in the present case.',\n 'this habit however is characteristic of a very great number of people some of them very clever ones not like fyodor pavlovitch.',\n 'pyotr alexandrovitch carried the business through vigorously and was appointed with fyodor pavlovitch joint guardian of the child who had a small property a house and land left him by his mother.',\n 'mitya did in fact pass into this cousins keeping but as the latter had no family of his own and after securing the revenues of his estates was in haste to return at once to paris he left the boy in charge of one of his cousins a lady living in moscow.',\n 'it came to pass that settling permanently in paris he too forgot the child especially when the revolution of february broke out making an impression on his mind that he remembered all the rest of his life.',\n 'the moscow lady died and mitya passed into the care of one of her married daughters.',\n 'i believe he changed his home a fourth time later on.',\n 'i wont enlarge upon that now as i shall have much to tell later of fyodor pavlovitchs firstborn and must confine myself now to the most essential facts about him without which i could not begin my story.',\n 'in the first place this mitya or rather dmitri fyodorovitch was the only one of fyodor pavlovitchs three sons who grew up in the belief that he had property and that he would be independent on coming of age.',\n 'he spent an irregular boyhood and youth.',\n 'he did not finish his studies at the gymnasium he got into a military school then went to the caucasus was promoted fought a duel and was degraded to the ranks earned promotion again led a wild life and spent a good deal of money.',\n 'he did not begin to receive any income from fyodor pavlovitch until he came of age and until then got into debt.',\n 'he saw and knew his father fyodor pavlovitch for the first time on coming of age when he visited our neighbourhood on purpose to settle with him about his property.',\n 'he seems not to have liked his father.',\n 'he did not stay long with him and made haste to get away having only succeeded in obtaining a sum of money and entering into an agreement for future payments from the estate of the revenues and value of which he was unable a fact worthy of note upon this occasion to get a statement from his father.',\n 'fyodor pavlovitch remarked for the first time then this too should be noted that mitya had a vague and exaggerated idea of his property.',\n 'fyodor pavlovitch was very well satisfied with this as it fell in with his own designs.',\n 'he gathered only that the young man was frivolous unruly of violent passions impatient and dissipated and that if he could only obtain ready money he would be satisfied although only of course a short time.',\n 'so fyodor pavlovitch began to take advantage of this fact sending him from time to time small doles instalments.',\n 'in the end when four years later mitya losing patience came a second time to our little town to settle up once for all with his father it turned out to his amazement that he had nothing that it was difficult to get an account even that he had received the whole value of his property in sums of money from fyodor pavlovitch and was perhaps even in debt to him that by various agreements into which he had of his own desire entered at various previous dates he had no right to expect anything more and so on and so on.',\n 'the young man was overwhelmed suspected deceit and cheating and was almost beside himself.',\n 'and indeed this circumstance led to the catastrophe the account of which forms the subject of my first introductory story or rather the external side of it.',\n 'but before i pass to that story i must say a little of fyodor pavlovitchs other two sons and of their origin.',\n 'chapter.',\n 'the second marriage and the second family.',\n 'very shortly after getting his fouryearold mitya off his hands fyodor pavlovitch married a second time.',\n 'his second marriage lasted eight years.',\n 'he took this second wife sofya ivanovna also a very young girl from another province where he had gone upon some small piece of business in company with a jew.',\n 'though fyodor pavlovitch was a drunkard and a vicious debauchee he never neglected investing his capital and managed his business affairs very successfully though no doubt not overscrupulously.',\n 'sofya ivanovna was the daughter of an obscure deacon and was left from childhood an orphan without relations.',\n 'she grew up in the house of a generals widow a wealthy old lady of good position who was at once her benefactress and tormentor.',\n 'i do not know the details but i have only heard that the orphan girl a meek and gentle creature was once cut down from a halter in which she was hanging from a nail in the loft so terrible were her sufferings from the caprice and everlasting nagging of this old woman who was apparently not badhearted but had become an insufferable tyrant through idleness.',\n 'fyodor pavlovitch made her an offer.',\n 'inquiries were made about him and he was refused.',\n 'but again as in his first marriage he proposed an elopement to the orphan girl.',\n 'there is very little doubt that she would not on any account have married him if she had known a little more about him in time.',\n 'but she lived in another province.',\n 'besides what could a little girl of sixteen know about it except that she would be better at the bottom of the river than remaining with her benefactress.',\n 'so the poor child exchanged a benefactress for a benefactor.',\n 'fyodor pavlovitch did not get a penny this time for the generals widow was furious.',\n 'she gave them nothing and cursed them both.',\n 'but he had not reckoned on a dowry.',\n 'what allured him was the remarkable beauty of the innocent girl above all her innocent appearance which had a peculiar attraction for a vicious profligate who had hitherto admired only the coarser types of feminine beauty.',\n 'those innocent eyes slit my soul up like a razor he used to say afterwards with his loathsome snigger.',\n 'in a man so depraved this might of course mean no more than sensual attraction.',\n 'as he had received no dowry with his wife and had so to speak taken her from the halter he did not stand on ceremony with her.',\n 'making her feel that she had wronged him he took advantage of her phenomenal meekness and submissiveness to trample on the elementary decencies of marriage.',\n 'he gathered loose women into his house and carried on orgies of debauchery in his wifes presence.',\n 'to show what a pass things had come to i may mention that grigory the gloomy stupid obstinate argumentative servant who had always hated his first mistress adelaida ivanovna took the side of his new mistress.',\n 'he championed her cause abusing fyodor pavlovitch in a manner little befitting a servant and on one occasion broke up the revels and drove all the disorderly women out of the house.',\n 'in the end this unhappy young woman kept in terror from her childhood fell into that kind of nervous disease which is most frequently found in peasant women who are said to be possessed by devils.',\n 'at times after terrible fits of hysterics she even lost her reason.',\n 'yet she bore fyodor pavlovitch two sons ivan and alexey the eldest in the first year of marriage and the second three years later.',\n 'when she died little alexey was in his fourth year and strange as it seems i know that he remembered his mother all his life like a dream of course.',\n 'at her death almost exactly the same thing happened to the two little boys as to their elder brother mitya.',\n 'they were completely forgotten and abandoned by their father.',\n 'they were looked after by the same grigory and lived in his cottage where they were found by the tyrannical old lady who had brought up their mother.',\n 'she was still alive and had not all those eight years forgotten the insult done her.',\n 'all that time she was obtaining exact information as to her sofyas manner of life and hearing of her illness and hideous surroundings she declared aloud two or three times to her retainers.',\n 'it serves her right.',\n 'god has punished her for her ingratitude.',\n 'exactly three months after sofya ivanovnas death the generals widow suddenly appeared in our town and went straight to fyodor pavlovitchs house.',\n 'she spent only half an hour in the town but she did a great deal.',\n 'it was evening.',\n 'fyodor pavlovitch whom she had not seen for those eight years came in to her drunk.',\n 'the story is that instantly upon seeing him without any sort of explanation she gave him two good resounding slaps on the face seized him by a tuft of hair and shook him three times up and down.',\n 'then without a word she went straight to the cottage to the two boys.',\n 'seeing at the first glance that they were unwashed and in dirty linen she promptly gave grigory too a box on the ear and announcing that she would carry off both the children she wrapped them just as they were in a rug put them in the carriage and drove off to her own town.',\n 'grigory accepted the blow like a devoted slave without a word and when he escorted the old lady to her carriage he made her a low bow and pronounced impressively that god would repay her for orphans.',\n 'you are a blockhead all the same the old lady shouted to him as she drove away.',\n 'fyodor pavlovitch thinking it over decided that it was a good thing and did not refuse the generals widow his formal consent to any proposition in regard to his childrens education.']"
     },
     "execution_count": 3,
     "metadata": {},
     "output_type": "execute_result"
    }
   ],
   "source": [
    "sentences[:150]"
   ],
   "metadata": {
    "collapsed": false,
    "ExecuteTime": {
     "start_time": "2023-05-18T09:16:18.116786Z",
     "end_time": "2023-05-18T09:16:18.119488Z"
    }
   }
  },
  {
   "cell_type": "code",
   "execution_count": 4,
   "outputs": [
    {
     "name": "stdout",
     "output_type": "stream",
     "text": [
      "part i.book i.the history of a family.chapter.fyodor pavlovitch karamazov.alexey fyodorovitch karamazov was the third son of fyodor pavlovitch karamazov a landowner well known in our district in his own day and still remembered among us owing to his gloomy and tragic death which happened thirteen years ago and which i shall describe in its proper place.for the present i will only say that this landowner for so we used to call him although he hardly spent a day of his life on his own estate was a strange type yet one pretty frequently to be met with a type abject and vicious and at the same time senseless.but he was one of those senseless persons who are very well capable of looking after their worldly affairs and apparently after nothing else.fyodor pavlovitch for instance began with next to nothing.his estate was of the smallest.he ran to dine at other mens tables and fastened on them as a toady yet at his death it appeared that he had a hundred thousand roubles in hard cash.at the same time he was all his life one of the most senseless fantastical fellows in the whole district.i repeat it was not stupidity the majority of these fantastical fellows are shrewd and intelligent enough but just senselessness and a peculiar national form of it.he was married twice and had three sons the eldest dmitri by his first wife and two ivan and alexey by his second.fyodor pavlovitchs first wife adelaida ivanovna belonged to a fairly rich and distinguished noble family also landowners in our district the miusovs.how it came to pass that an heiress who was also a beauty and moreover one of those vigorous intelligent girls so common in this generation but sometimes also to be found in the last could have married such a worthless puny weakling as we all called him i wont attempt to explain.i knew a young lady of the last romantic generation who after some years of an enigmatic passion for a gentleman whom she might quite easily have married at any moment invented insuperable obstacles to their union and ended by throwing herself one stormy night into a rather deep and rapid river from a high bank almost a precipice and so perished entirely to satisfy her own caprice and to be like shakespeares ophelia.indeed if this precipice a chosen and favourite spot of hers had been less picturesque if there had been a prosaic flat bank in its place most likely the suicide would never have taken place.this is a fact and probably there have been not a few similar instances in the last two or three generations.adelaida ivanovna miusovs action was similarly no doubt an echo of other peoples ideas and was due to the irritation caused by lack of mental freedom.she wanted perhaps to show her feminine independence to override class distinctions and the despotism of her family.and a pliable imagination persuaded her we must suppose for a brief moment that fyodor pavlovitch in spite of his parasitic position was one of the bold and ironical spirits of that progressive epoch though he was in fact an illnatured buffoon and nothing more.what gave the marriage piquancy was that it was preceded by an elopement and this greatly captivated adelaida ivanovnas fancy.fyodor pavlovitchs position at the time made him specially eager for any such enterprise for he was passionately anxious to make a career in one way or another.to attach himself to a good family and obtain a dowry was an alluring prospect.as for mutual love it did not exist apparently either in the bride or in him in spite of adelaida ivanovnas beauty.this was perhaps a unique case of the kind in the life of fyodor pavlovitch who was always of a voluptuous temper and ready to run after any petticoat on the slightest encouragement.she seems to have been the only woman who made no particular appeal to his senses.immediatley after the elopement adelaida ivanovna discerned in a flash that she had no feeling for her husband but contempt.the marriage accordingly showed itself in its true colours with extraordinary rapidity.although the family accepted the event pretty quickly and apportioned the runaway bride her dowry the husband and wife began to lead a most disorderly life and there were everlasting scenes between them.it was said that the young wife showed incomparably more generosity and dignity than fyodor pavlovitch who as is now known got hold of all her money up to twenty five thousand roubles as soon as she received it so that those thousands were lost to her forever.the little village and the rather fine town house which formed part of her dowry he did his utmost for a long time to transfer to his name by means of some deed of conveyance.he would probably have succeeded merely from her moral fatigue and desire to get rid of him and from the contempt and loathing he aroused by his persistent and shameless importunity.but fortunately adelaida ivanovnas family intervened and circumvented his greediness.it is known for a fact that frequent fights took place between the husband and wife but rumour had it that fyodor pavlovitch did not beat his wife but was beaten by her for she was a hottempered bold darkbrowed impatient woman possessed of remarkable physical strength.finally she left the house and ran away from fyodor pavlovitch with a destitute divinity student leaving mitya a child of three years old in her husbands hands.immediately fyodor pavlovitch introduced a regular harem into the house and abandoned himself to orgies of drunkenness.in the intervals he used to drive all over the province complaining tearfully to each and all of adelaida ivanovnas having left him going into details too disgraceful for a husband to mention in regard to his own married life.what seemed to gratify him and flatter his selflove most was to play the ridiculous part of the injured husband and to parade his woes with embellishments.one would think that youd got a promotion fyodor pavlovitch you seem so pleased in spite of your sorrow scoffers said to him.many even added that he was glad of a new comic part in which to play the buffoon and that it was simply to make it funnier that he pretended to be unaware of his ludicrous position.but who knows it may have been simplicity.at last he succeeded in getting on the track of his runaway wife.the poor woman turned out to be in petersburg where she had gone with her divinity student and where she had thrown herself into a life of complete emancipation.fyodor pavlovitch at once began bustling about making preparations to go to petersburg with what object he could not himself have said.he would perhaps have really gone.but having determined to do so he felt at once entitled to fortify himself for the journey by another bout of reckless drinking.and just at that time his wifes family received the news of her death in petersburg.she had died quite suddenly in a garret according to one story of typhus or as another version had it of starvation.fyodor pavlovitch was drunk when he heard of his wifes death and the story is that he ran out into the street and began shouting with joy raising his hands to heaven.lord now lettest thou thy servant depart in peace but others say he wept without restraint like a little child so much so that people were sorry for him in spite of the repulsion he inspired.it is quite possible that both versions were true that he rejoiced at his release and at the same time wept for her who released him.as a general rule people even the wicked are much more naive and simplehearted than we suppose.and we ourselves are too.chapter.he gets rid of his eldest son.you can easily imagine what a father such a man could be and how he would bring up his children.his behaviour as a father was exactly what might be expected.he completely abandoned the child of his marriage with adelaida ivanovna not from malice nor because of his matrimonial grievances but simply because he forgot him.while he was wearying everyone with his tears and complaints and turning his house into a sink of debauchery a faithful servant of the family grigory took the threeyear old mitya into his care.if he hadnt looked after him there would have been no one even to change the babys little shirt.it happened moreover that the childs relations on his mothers side forgot him too at first.his grandfather was no longer living his widow mityas grandmother had moved to moscow and was seriously ill while his daughters were married so that mitya remained for almost a whole year in old grigorys charge and lived with him in the servants cottage.but if his father had remembered him he could not indeed have been altogether unaware of his existence he would have sent him back to the cottage as the child would only have been in the way of his debaucheries.but a cousin of mityas mother pyotr alexandrovitch miusov happened to return from paris.he lived for many years afterwards abroad but was at that time quite a young.man and distinguished among the miusovs as a man of enlightened ideas and of european culture who had been in the capitals and abroad.towards the end of his life he became a liberal of the type common in the forties and fifties.in the course of his career he had come into contact with many of the most liberal men of his epoch both in russia and abroad.he had known proudhon and bakunin personally and in his declining years was very fond of describing the three days of the paris revolution of february hinting that he himself had almost taken part in the fighting on the barricades.this was one of the most grateful recollections of his youth.he had an independent property of about a thousand souls to reckon in the old style.his splendid estate lay on the outskirts of our little town and bordered on the lands of our famous monastery with which pyotr alexandrovitch began an endless lawsuit almost as soon as he came into the estate concerning the rights of fishing in the river or woodcutting in the forest i dont know exactly which.he regarded it as his duty as a citizen and a man of culture to open an attack upon the clericals.hearing all about adelaida ivanovna whom he of course remembered and in whom he had at one time been interested and learning of the existence of mitya he intervened in spite of all his youthful indignation and contempt for fyodor pavlovitch.he made the latters acquaintance for the first time and told him directly that he wished to undertake the childs education.he used long afterwards to tell as a characteristic touch that when he began to speak of mitya fyodor pavlovitch looked for some time as though he did not understand what child he was talking about and even as though he was surprised to hear that he had a little son in the house.the story may have been exaggerated yet it must have been something like the truth.fyodor pavlovitch was all his life fond of acting of suddenly playing an unexpected part sometimes without any motive for doing so and even to his own direct disadvantage as for instance in the present case.this habit however is characteristic of a very great number of people some of them very clever ones not like fyodor pavlovitch.pyotr alexandrovitch carried the business through vigorously and was appointed with fyodor pavlovitch joint guardian of the child who had a small property a house and land left him by his mother.mitya did in fact pass into this cousins keeping but as the latter had no family of his own and after securing the revenues of his estates was in haste to return at once to paris he left the boy in charge of one of his cousins a lady living in moscow.it came to pass that settling permanently in paris he too forgot the child especially when the revolution of february broke out making an impression on his mind that he remembered all the rest of his life.the moscow lady died and mitya passed into the care of one of her married daughters.i believe he changed his home a fourth time later on.i wont enlarge upon that now as i shall have much to tell later of fyodor pavlovitchs firstborn and must confine myself now to the most essential facts about him without which i could not begin my story.in the first place this mitya or rather dmitri fyodorovitch was the only one of fyodor pavlovitchs three sons who grew up in the belief that he had property and that he would be independent on coming of age.he spent an irregular boyhood and youth.he did not finish his studies at the gymnasium he got into a military school then went to the caucasus was promoted fought a duel and was degraded to the ranks earned promotion again led a wild life and spent a good deal of money.he did not begin to receive any income from fyodor pavlovitch until he came of age and until then got into debt.he saw and knew his father fyodor pavlovitch for the first time on coming of age when he visited our neighbourhood on purpose to settle with him about his property.he seems not to have liked his father.he did not stay long with him and made haste to get away having only succeeded in obtaining a sum of money and entering into an agreement for future payments from the estate of the revenues and value of which he was unable a fact worthy of note upon this occasion to get a statement from his father.fyodor pavlovitch remarked for the first time then this too should be noted that mitya had a vague and exaggerated idea of his property.fyodor pavlovitch was very well satisfied with this as it fell in with his own designs.he gathered only that the young man was frivolous unruly of violent passions impatient and dissipated and that if he could only obtain ready money he would be satisfied although only of course a short time.so fyodor pavlovitch began to take advantage of this fact sending him from time to time small doles instalments.in the end when four years later mitya losing patience came a second time to our little town to settle up once for all with his father it turned out to his amazement that he had nothing that it was difficult to get an account even that he had received the whole value of his property in sums of money from fyodor pavlovitch and was perhaps even in debt to him that by various agreements into which he had of his own desire entered at various previous dates he had no right to expect anything more and so on and so on.the young man was overwhelmed suspected deceit and cheating and was almost beside himself.and indeed this circumstance led to the catastrophe the account of which forms the subject of my first introductory story or rather the external side of it.but before i pass to that story i must say a little of fyodor pavlovitchs other two sons and of their origin.chapter.the second marriage and the second family.very shortly after getting his fouryearold mitya off his hands fyodor pavlovitch married a second time.his second marriage lasted eight years.he took this second wife sofya ivanovna also a very young girl from another province where he had gone upon some small piece of business in company with a jew.though fyodor pavlovitch was a drunkard and a vicious debauchee he never neglected investing his capital and managed his business affairs very successfully though no doubt not overscrupulously.sofya ivanovna was the daughter of an obscure deacon and was left from childhood an orphan without relations.she grew up in the house of a generals widow a wealthy old lady of good position who was at once her benefactress and tormentor.i do not know the details but i have only heard that the orphan girl a meek and gentle creature was once cut down from a halter in which she was hanging from a nail in the loft so terrible were her sufferings from the caprice and everlasting nagging of this old woman who was apparently not badhearted but had become an insufferable tyrant through idleness.fyodor pavlovitch made her an offer.inquiries were made about him and he was refused.but again as in his first marriage he proposed an elopement to the orphan girl.there is very little doubt that she would not on any account have married him if she had known a little more about him in time.but she lived in another province.besides what could a little girl of sixteen know about it except that she would be better at the bottom of the river than remaining with her benefactress.so the poor child exchanged a benefactress for a benefactor.fyodor pavlovitch did not get a penny this time for the generals widow was furious.she gave them nothing and cursed them both.but he had not reckoned on a dowry.what allured him was the remarkable beauty of the innocent girl above all her innocent appearance which had a peculiar attraction for a vicious profligate who had hitherto admired only the coarser types of feminine beauty.those innocent eyes slit my soul up like a razor he used to say afterwards with his loathsome snigger.in a man so depraved this might of course mean no more than sensual attraction.as he had received no dowry with his wife and had so to speak taken her from the halter he did not stand on ceremony with her.making her feel that she had wronged him he took advantage of her phenomenal meekness and submissiveness to trample on the elementary decencies of marriage.he gathered loose women into his house and carried on orgies of debauchery in his wifes presence.to show what a pass things had come to i may mention that grigory the gloomy stupid obstinate argumentative servant who had always hated his first mistress adelaida ivanovna took the side of his new mistress.he championed her cause abusing fyodor pavlovitch in a manner little befitting a servant and on one occasion broke up the revels and drove all the disorderly women out of the house.in the end this unhappy young woman kept in terror from her childhood fell into that kind of nervous disease which is most frequently found in peasant women who are said to be possessed by devils.at times after terrible fits of hysterics she even lost her reason.yet she bore fyodor pavlovitch two sons ivan and alexey the eldest in the first year of marriage and the second three years later.when she died little alexey was in his fourth year and strange as it seems i know that he remembered his mother all his life like a dream of course.at her death almost exactly the same thing happened to the two little boys as to their elder brother mitya.they were completely forgotten and abandoned by their father.they were looked after by the same grigory and lived in his cottage where they were found by the tyrannical old lady who had brought up their mother.she was still alive and had not all those eight years forgotten the insult done her.all that time she was obtaining exact information as to her sofyas manner of life and hearing of her illness and hideous surroundings she declared aloud two or three times to her retainers.it serves her right.god has punished her for her ingratitude.exactly three months after sofya ivanovnas death the generals widow suddenly appeared in our town and went straight to fyodor pavlovitchs house.she spent only half an hour in the town but she did a great deal.it was evening.fyodor pavlovitch whom she had not seen for those eight years came in to her drunk.the story is that instantly upon seeing him without any sort of explanation she gave him two good resounding slaps on the face seized him by a tuft of hair and shook him three times up and down.then without a word she went straight to the cottage to the two boys.seeing at the first glance that they were unwashed and in dirty linen she promptly gave grigory too a box on the ear and announcing that she would carry off both the children she wrapped them just as they were in a rug put them in the carriage and drove off to her own town.grigory accepted the blow like a devoted slave without a word and when he escorted the old lady to her carriage he made her a low bow and pronounced impressively that god would repay her for orphans.you are a blockhead all the same the old lady shouted to him as she drove away.fyodor pavlovitch thinking it over decided that it was a good thing and did not refuse the generals widow his formal consent to any proposition in regard to his childrens education.as for the slaps she had given him he drove all over the town telling the story.it happened that the old lady died soon after this but she left the boys in her will a thousand roubles each for their instruction and so that all be spent on them exclusively with the condition that it be so portioned out as to last till they are twentyone for it is more than adequate provision for such children.if other people think fit to throw away their money let them.i have not read the will myself but i heard there was something queer of the sort very whimsically expressed.the principal heir yefim petrovitch polenov the marshal of nobility of the province turned out however to be an honest man.writing to fyodor pavlovitch and discerning at once that he could extract nothing from him for his childrens education though the latter never directly refused but only procrastinated as he always did in such cases and was indeed at times effusively sentimental yefim petrovitch took a personal interest in the orphans.he became especially fond of the younger alexey who lived for a long while as one of his family.i beg the reader to note this from the beginning.and to yefim petrovitch a man of a generosity and humanity rarely to be met with the young people were more indebted for their education and bringing up than to anyone.he kept the two thousand roubles left to them by the generals widow intact so that by the time they came of age their portions had been doubled by the accumulation of interest.he educated them both at his own expense and certainly spent far more than a thousand roubles upon each of them.i wont enter into a detailed account of their boyhood and youth but will only mention a few of the most important events.of the elder ivan i will only say that he grew into a somewhat morose and reserved though far from timid boy.at ten years old he had realised that they were living not in their own home but on other peoples charity and that their father was a man of whom it was disgraceful to speak.this boy began very early almost in his infancy so they say at least to show a brilliant and unusual aptitude for learning.i dont know precisely why but he left the family of yefim petrovitch when he was hardly thirteen entering a moscow gymnasium and boarding with an experienced and celebrated teacher an old friend of yefim petrovitch.ivan used to declare afterwards that this was all due to the ardour for good works of yefim petrovitch who was captivated by the idea that the boys genius should be trained by a teacher of genius.but neither yefim petrovitch nor this teacher was living when the young man finished at the gymnasium and entered the university.as yefim petrovitch had made no provision for the payment of the tyrannical old ladys legacy which had grown from one thousand to two it was delayed owing to formalities inevitable in russia and the young man was in great straits for the first two years at the university as he was forced to keep himself all the time he was studying.it must be noted that he did not even attempt to communicate with his father perhaps from pride from contempt for him or perhaps from his cool common sense which told him that from such a father he would get no real assistance.however that may have been the young man was by no means despondent and succeeded in getting work at first giving sixpenny lessons and afterwards getting paragraphs on street incidents into the newspapers under the signature of.eyewitness.these paragraphs it was said were so interesting and piquant that they were soon taken.this alone showed the young mans practical and intellectual superiority over the masses of needy and unfortunate students of both sexes who hang about the offices of the newspapers and journals unable to think of anything better than everlasting entreaties for copying and translations from the french.having once got into touch with the editors ivan fyodorovitch always kept up his connection with them and in his latter years at the university he published brilliant reviews of books upon various special subjects so that he became well known in literary circles.but only in his last year he suddenly succeeded in attracting the attention of a far wider circle of readers so that a great many people noticed and remembered him.it was rather a curious incident.when he had just left the university and was preparing to go abroad upon his two thousand roubles ivan fyodorovitch published in one of the more important journals a strange article which attracted general notice on a subject of which he might have been supposed to know nothing as he was a student of natural science.the article dealt with a subject which was being debated everywhere at the time the position of the ecclesiastical courts.after discussing several opinions on the subject he went on to explain his own view.what was most striking about the article was its tone and its unexpected conclusion.many of the church party regarded him unquestioningly as on their side.and yet not only the secularists but even atheists joined them in their applause.finally some sagacious persons opined that the article was nothing but an impudent satirical burlesque.i mention this incident particularly because this article penetrated into the famous monastery in our neighbourhood where the inmates being particularly interested in question of the ecclesiastical courts were completely bewildered by it.learning the authors name they were interested in his being a native of the town and the son of that fyodor pavlovitch.and just then it was that the author himself made his appearance among us.why ivan fyodorovitch had come amongst us i remember asking myself at the time with a certain uneasiness.this fateful visit which was the first step leading to so many consequences i never fully explained to myself.it seemed strange on the face of it that a young man so learned so proud and apparently so cautious should suddenly visit such an infamous house and a father who had ignored him all his life hardly knew him never thought of him and would not under any circumstances have given him money though he was always afraid that his sons ivan and alexey would also come to ask him for it.and here the young man was staying in the house of such a father had been living with him for two months and they were on the best possible terms.this last fact was a special cause of wonder to many others as well as to me.pyotr alexandrovitch miusov of whom we have spoken already the cousin of fyodor pavlovitchs first wife happened to be in the neighbourhood again on a visit to his estate.he had come from paris which was his permanent home.i remember that he was more surprised than anyone when he made the acquaintance of the young man who interested him extremely and with whom he sometimes argued and not without inner pang compared himself in acquirements.he is proud he used to say he will never be in want of pence.he has got money enough to go abroad now.what does he want here.everyone can see that he hasnt come for money for his father would never give him any.he has no taste for drink and dissipation and yet his father cant do without him.they get on so well together.that was the truth.the young man had an unmistakable influence over his father who positively appeared to be behaving more decently and even seemed at times ready to obey his son though often extremely and even spitefully perverse.it was only later that we learned that ivan had come partly at the request of and in the interests of his elder brother dmitri whom he saw for the first time on this very visit though he had before leaving moscow been in correspondence with him about an important matter of more concern to dmitri than himself.what that business was the reader will learn fully in due time.yet even when i did know of this special circumstance i still felt ivan fyodorovitch to be an enigmatic figure and thought his visit rather mysterious.i may add that ivan appeared at the time in the light of a mediator between his father and his elder brother dmitri who was in open quarrel with his father and even planning to bring an action against him.the family i repeat was now united for the first time and some of its members met for the first time in their lives.the younger brother alexey had been a year already among us having been the first of the three to arrive.it is of that brother alexey i find it most difficult to speak in this introduction.yet i must give some preliminary account of him if only to explain one queer fact which is that i have to introduce my hero to the reader wearing the cassock of a novice.yes he had been for the last year in our monastery and seemed willing to be cloistered there for the rest of his life.chapter.the third son alyosha.he was only twenty his brother ivan was in his twentyfourth year at the time while their elder brother dmitri was twentyseven.first of all i must explain that this young man alyosha was not a fanatic and in my opinion at least was not even a mystic.i may as well give my full opinion from the beginning.he was simply an early lover of humanity and that he adopted the monastic life was simply because at that time it struck him so to say as the ideal escape for his soul struggling from the darkness of worldly wickedness to the light of love.and the reason this life struck him in this way was that he found in it at that time as he thought an extrordinary being our celebrated elder zossima to whom he became attached with all the warm first love of his ardent heart.but i do not dispute that he was very strange even at that time and had been so indeed from his cradle.i have mentioned already by the way that though he lost his mother in his fourth year he remembered her all his life her face her caresses as though she stood living before me.such memories may persist as everyone knows from an even earlier age even from two years old but scarcely standing out through a whole lifetime like spots of light out of darkness like a corner torn out of a huge picture which has all faded and disappeared except that fragment.that is how it was with him.he remembered one still summer evening an open window the slanting rays of the setting sun that he recalled most vividly of all.in a corner of the room the holy image before it a lighted lamp and on her knees before the image his mother sobbing hysterically with cries and moans snatching him up in both arms squeezing him close till it hurt and praying for him to the mother of god holding him out in both arms to the image as though to put him under the mothers protection.and suddenly a nurse runs in and snatches him from her in terror.that was the picture.and alyosha remembered his mothers face at that minute.he used to say that it was frenzied but beautiful as he remembered.but he rarely cared to speak of this memory to anyone.in his childhood and youth he was by no means expansive and talked little indeed but not from shyness or a sullen unsociability.quite the contrary from something different from a sort of inner preoccupation entirely personal and unconcerned with other people but so important to him that he seemed as it were to forget others on account of it.but he was fond of people he seemed throughout his life to put implicit trust in people yet no one ever looked on him as a simpleton or naive person.there was something about him which made one feel at once and it was so all his life afterwards that he did not care to be a judge of others that he would never take it upon himself to criticise and would never condemn anyone for anything.he seemed indeed to accept everything without the least condemnation though often grieving bitterly and this was so much so that no one could surprise or frighten him even in his earliest youth.coming at twenty to his fathers house which was a very sink of filthy debauchery he chaste and pure as he was simply withdrew in silence when to look on was unbearable but without the slightest sign of contempt or condemnation.his father who had once been in a dependent position and so was sensitive and ready to take offence met him at first with distrust and sullenness.he does not say much he used to say and thinks the more.but soon within a fortnight indeed he took to embracing him and kissing him terribly often with drunken tears with sottish sentimentality yet he evidently felt a real and deep affection for him such as he had never been capable of feeling for anyone before.everyone indeed loved this young man wherever he went and it was so from his earliest childhood.when he entered the household of his patron and benefactor yefim petrovitch polenov he gained the hearts of all the family so that they looked on him quite as their own child.yet he entered the house at such a tender age that he could not have acted from design nor artfulness in winning affection.so that the gift of making himself loved directly and unconsciously was inherent in him in his very nature so to speak.it was the same at school though he seemed to be just one of those children who are distrusted sometimes ridiculed and even disliked by their schoolfellows.he was dreamy for instance and rather solitary.from his earliest childhood he was fond of creeping into a corner to read and yet he was a general favourite all the while he was at school.he was rarely playful or merry but anyone could see at the first glance that this was not from any sullenness.on the contrary he was bright and goodtempered.he never tried to show off among his schoolfellows.perhaps because of this he was never afraid of anyone yet the boys immediately understood that he was not proud of his fearlessness and seemed to be unaware that he was bold and courageous.he never resented an insult.it would happen that an hour after the offence he would address the offender or answer some question with as trustful and candid an expression as though nothing had happened between them.and it was not that he seemed to have forgotten or intentionally forgiven the affront but simply that he did not regard it as an affront and this completely conquered and captivated the boys.he had one characteristic which made all his schoolfellows from the bottom class to the top want to mock at him not from malice but because it amused them.this characteristic was a wild fanatical modesty and chastity.he could not bear to hear certain words and certain conversations about women.there are certain words and conversations unhappily impossible to eradicate in schools.boys pure in mind and heart almost children are fond of talking in school among themselves and even aloud of things pictures and images of which even soldiers would sometimes hesitate to speak.more than that much that soldiers have no knowledge or conception of is familiar to quite young children of our intellectual and higher classes.there is no moral depravity no real corrupt inner cynicism in it but there is the appearance of it and it is often looked upon among them as something refined subtle daring and worthy of imitation.seeing that alyosha karamazov put his fingers in his ears when they talked of that they used sometimes to crowd round him pull his hands away and shout nastiness into both ears while he struggled slipped to the floor tried to hide himself without uttering one word of abuse enduring their insults in silence.but at last they left him alone and gave up taunting him with being a regular girl and whats more they looked upon it with compassion as a weakness.he was always one of the best in the class but was never first.at the time of yefim petrovitchs death alyosha had two more years to complete at the provincial gymnasium.the inconsolable widow went almost immediately after his death for a long visit to italy with her whole family which consisted only of women and girls.alyosha went to live in the house of two distant relations of yefim petrovitch ladies whom he had never seen before.on what terms she lived with them he did not know himself.it was very characteristic of him indeed that he never cared at whose expense he was living.in that respect he was a striking contrast to his elder brother ivan who struggled with poverty for his first two years in the university maintained himself by his own efforts and had from childhood been bitterly conscious of living at the expense of his benefactor.but this strange trait in alyoshas character must not i think criticised too severely for at the slightest acquaintance with him anyone would have perceived that alyosha was one of those youths almost of the type of religious enthusiast who if they were suddenly to come into possession of a large fortune would not hesitate to give it away for the asking either for good works or perhaps to a clever rogue.in general he seemed scarcely to know the value of money not of course in a literal sense.when he was given pocketmoney which he never asked for he was either terribly careless of it so that it was gone in a moment or he kept it for weeks together not knowing what to do with it.in later years pyotr alexandrovitch miusov a man very sensitive on the score of money and bourgeois honesty pronounced the following judgment after getting to know alyosha.here is perhaps the one man in the world whom you might leave alone without a penny in the centre of an unknown town of a million inhabitants and he would not come to harm he would not die of cold and hunger for he would be fed and sheltered at once.and if he were not he would find a shelter for himself and it would cost him no effort or humiliation.and to shelter him would be no burden but on the contrary would probably be looked on as a pleasure.he did not finish his studies at the gymnasium.a year before the end of the course he suddenly announced to the ladies that he was going to see his father about a plan which had occurred to him.they were sorry and unwilling to let him go.the journey was not an expensive one and the ladies would not let him pawn his watch a parting present from his benefactors family.they provided him liberally with money and even fitted him out with new clothes and linen.but he returned half the money they gave him saying that he intended to go third class.on his arrival in the town he made no answer to his fathers first inquiry why he had come before completing his studies and seemed so they say unusually thoughtful.it soon became apparent that he was looking for his mothers tomb.he practically acknowledged at the time that that was the only object of his visit.but it can hardly have been the whole reason of it.it is more probable that he himself did not understand and could not explain what had suddenly arisen in his soul and drawn him irresistibly into a new unknown but inevitable path.fyodor pavlovitch could not show him where his second wife was buried for he had never visited her grave since he had thrown earth upon her coffin and in the course of years had entirely forgotten where she was buried.fyodor pavlovitch by the way had for some time previously not been living in our town.three or four years after his wifes death he had gone to the south of russia and finally turned up in odessa where he spent several years.he made the acquaintance at first in his own words of a lot of low jews jewesses and jewkins and ended by being received by jews high and low alike.it may be presumed that at this period he developed a peculiar faculty for making and hoarding money.he finally returned to our town only three years before alyoshas arrival.his former acquaintances found him looking terribly aged although he was by no means an old man.he behaved not exactly with more dignity but with more effrontery.the former buffoon showed an insolent propensity for making buffoons of others.his depravity with women was not as it used to be but even more revolting.in a short time he opened a great number of new taverns in the distri\n"
     ]
    }
   ],
   "source": [
    "print(text[:40_000])"
   ],
   "metadata": {
    "collapsed": false,
    "ExecuteTime": {
     "start_time": "2023-05-18T09:16:18.119343Z",
     "end_time": "2023-05-18T09:16:18.123811Z"
    }
   }
  },
  {
   "cell_type": "markdown",
   "source": [
    "LSTM"
   ],
   "metadata": {
    "collapsed": false
   }
  },
  {
   "cell_type": "code",
   "execution_count": 5,
   "outputs": [
    {
     "data": {
      "text/plain": "{' ': 0,\n '.': 1,\n 'a': 2,\n 'b': 3,\n 'c': 4,\n 'd': 5,\n 'e': 6,\n 'f': 7,\n 'g': 8,\n 'h': 9,\n 'i': 10,\n 'j': 11,\n 'k': 12,\n 'l': 13,\n 'm': 14,\n 'n': 15,\n 'o': 16,\n 'p': 17,\n 'q': 18,\n 'r': 19,\n 's': 20,\n 't': 21,\n 'u': 22,\n 'v': 23,\n 'w': 24,\n 'x': 25,\n 'y': 26,\n 'z': 27}"
     },
     "execution_count": 5,
     "metadata": {},
     "output_type": "execute_result"
    }
   ],
   "source": [
    "char_to_int = dict((c, i) for i, c in enumerate(chars))\n",
    "int_to_char = dict((i, c) for i, c in enumerate(chars))\n",
    "\n",
    "char_to_int"
   ],
   "metadata": {
    "collapsed": false,
    "ExecuteTime": {
     "start_time": "2023-05-18T09:16:18.123955Z",
     "end_time": "2023-05-18T09:16:18.126082Z"
    }
   }
  },
  {
   "cell_type": "code",
   "execution_count": 6,
   "outputs": [
    {
     "data": {
      "text/plain": "{0: ' ',\n 1: '.',\n 2: 'a',\n 3: 'b',\n 4: 'c',\n 5: 'd',\n 6: 'e',\n 7: 'f',\n 8: 'g',\n 9: 'h',\n 10: 'i',\n 11: 'j',\n 12: 'k',\n 13: 'l',\n 14: 'm',\n 15: 'n',\n 16: 'o',\n 17: 'p',\n 18: 'q',\n 19: 'r',\n 20: 's',\n 21: 't',\n 22: 'u',\n 23: 'v',\n 24: 'w',\n 25: 'x',\n 26: 'y',\n 27: 'z'}"
     },
     "execution_count": 6,
     "metadata": {},
     "output_type": "execute_result"
    }
   ],
   "source": [
    "int_to_char"
   ],
   "metadata": {
    "collapsed": false,
    "ExecuteTime": {
     "start_time": "2023-05-18T09:16:18.126916Z",
     "end_time": "2023-05-18T09:16:18.129445Z"
    }
   }
  },
  {
   "cell_type": "code",
   "execution_count": 7,
   "outputs": [
    {
     "name": "stdout",
     "output_type": "stream",
     "text": [
      "p  ->  [0, 0, 0, 0, 0, 0, 0, 0, 0, 0, 0, 0, 0, 0, 0, 0, 0, 1, 0, 0, 0, 0, 0, 0, 0, 0, 0, 0]\n",
      "a  ->  [0, 0, 1, 0, 0, 0, 0, 0, 0, 0, 0, 0, 0, 0, 0, 0, 0, 0, 0, 0, 0, 0, 0, 0, 0, 0, 0, 0]\n",
      "r  ->  [0, 0, 0, 0, 0, 0, 0, 0, 0, 0, 0, 0, 0, 0, 0, 0, 0, 0, 0, 1, 0, 0, 0, 0, 0, 0, 0, 0]\n",
      "t  ->  [0, 0, 0, 0, 0, 0, 0, 0, 0, 0, 0, 0, 0, 0, 0, 0, 0, 0, 0, 0, 0, 1, 0, 0, 0, 0, 0, 0]\n"
     ]
    }
   ],
   "source": [
    "def char_one_hot(char):\n",
    "    return [int(i == char_to_int[char]) for i in range(alphabet_size)]\n",
    "\n",
    "\n",
    "def line_one_hot(sent):\n",
    "    return [char_one_hot(char) for char in sent]\n",
    "\n",
    "\n",
    "text_one_hot = [line_one_hot(sent) for sent in sentences]\n",
    "\n",
    "print(sentences[0][0], \" -> \", text_one_hot[0][0])\n",
    "print(sentences[0][1], \" -> \", text_one_hot[0][1])\n",
    "print(sentences[0][2], \" -> \", text_one_hot[0][2])\n",
    "print(sentences[0][3], \" -> \", text_one_hot[0][3])"
   ],
   "metadata": {
    "collapsed": false,
    "ExecuteTime": {
     "start_time": "2023-05-18T09:16:18.213173Z",
     "end_time": "2023-05-18T09:16:18.858510Z"
    }
   }
  },
  {
   "cell_type": "code",
   "execution_count": 8,
   "outputs": [
    {
     "name": "stdout",
     "output_type": "stream",
     "text": [
      "(146219, 50, 28) (146219, 28)\n"
     ]
    }
   ],
   "source": [
    "import numpy as np\n",
    "\n",
    "window_size = 50\n",
    "dataX = []\n",
    "dataY = []\n",
    "\n",
    "for sent in text_one_hot:\n",
    "    if len(sent) > window_size:\n",
    "        for i in range(0, len(sent) - window_size):\n",
    "            dataX.append(sent[i:i + window_size])\n",
    "            dataY.append(sent[i + window_size])\n",
    "\n",
    "X, Y = np.array(dataX), np.array(dataY)\n",
    "print(X.shape, Y.shape)"
   ],
   "metadata": {
    "collapsed": false,
    "ExecuteTime": {
     "start_time": "2023-05-18T09:16:18.858767Z",
     "end_time": "2023-05-18T09:16:24.930700Z"
    }
   }
  },
  {
   "cell_type": "code",
   "execution_count": 9,
   "outputs": [],
   "source": [
    "import tensorflow as tf\n",
    "\n",
    "model_lstm = tf.keras.models.Sequential([\n",
    "    tf.keras.layers.LSTM(128, input_shape=(window_size, alphabet_size)),\n",
    "    tf.keras.layers.Dropout(0.2),\n",
    "    tf.keras.layers.Dense(alphabet_size, activation='softmax')\n",
    "])\n",
    "\n",
    "model_lstm.compile(loss='categorical_crossentropy', optimizer='adam')"
   ],
   "metadata": {
    "collapsed": false,
    "ExecuteTime": {
     "start_time": "2023-05-18T09:16:24.929933Z",
     "end_time": "2023-05-18T09:16:27.129772Z"
    }
   }
  },
  {
   "cell_type": "code",
   "execution_count": 10,
   "outputs": [
    {
     "name": "stdout",
     "output_type": "stream",
     "text": [
      "Epoch 1/10\n",
      "4570/4570 [==============================] - 93s 20ms/step - loss: 2.2296\n",
      "Epoch 2/10\n",
      "4570/4570 [==============================] - 91s 20ms/step - loss: 1.8894\n",
      "Epoch 3/10\n",
      "4570/4570 [==============================] - 91s 20ms/step - loss: 1.7567\n",
      "Epoch 4/10\n",
      "4570/4570 [==============================] - 90s 20ms/step - loss: 1.6678\n",
      "Epoch 5/10\n",
      "4570/4570 [==============================] - 91s 20ms/step - loss: 1.6057\n",
      "Epoch 6/10\n",
      "4570/4570 [==============================] - 91s 20ms/step - loss: 1.5568\n",
      "Epoch 7/10\n",
      "4570/4570 [==============================] - 93s 20ms/step - loss: 1.5180\n",
      "Epoch 8/10\n",
      "4570/4570 [==============================] - 94s 21ms/step - loss: 1.4844\n",
      "Epoch 9/10\n",
      "4570/4570 [==============================] - 95s 21ms/step - loss: 1.4576\n",
      "Epoch 10/10\n",
      "4570/4570 [==============================] - 94s 21ms/step - loss: 1.4313\n"
     ]
    },
    {
     "data": {
      "text/plain": "<keras.src.callbacks.History at 0x3068d7b90>"
     },
     "execution_count": 10,
     "metadata": {},
     "output_type": "execute_result"
    }
   ],
   "source": [
    "model_lstm.fit(X, Y, epochs=10)"
   ],
   "metadata": {
    "collapsed": false,
    "ExecuteTime": {
     "start_time": "2023-05-18T09:16:27.129083Z",
     "end_time": "2023-05-18T09:31:50.742033Z"
    }
   }
  },
  {
   "cell_type": "code",
   "execution_count": 199,
   "outputs": [],
   "source": [
    "import random\n",
    "\n",
    "\n",
    "def random_lstm_predict():\n",
    "    start_index = random.randint(0, len(text) - window_size - 1)\n",
    "    string = text[start_index:start_index + window_size]\n",
    "    string = line_one_hot(string)\n",
    "    return lstm_predict(string)\n",
    "\n",
    "\n",
    "def lstm_predict(string):\n",
    "    while True:\n",
    "        predictions = model_lstm.predict(np.array([string]))[0]\n",
    "        predictions = np.exp(np.log(predictions))\n",
    "        predictions = predictions / np.sum(predictions)\n",
    "        p = np.random.multinomial(1, predictions, 1)\n",
    "        index = np.argmax(p)\n",
    "        char = int_to_char[index]\n",
    "        if char == '.':\n",
    "            result = \"\"\n",
    "            for char in string:\n",
    "                for i in range(alphabet_size):\n",
    "                    if char[i] == 1:\n",
    "                        result += int_to_char[i]\n",
    "            return result\n",
    "        else:\n",
    "            string.append(char_one_hot(char))\n"
   ],
   "metadata": {
    "collapsed": false,
    "ExecuteTime": {
     "start_time": "2023-05-18T16:52:09.161001Z",
     "end_time": "2023-05-18T16:52:09.164522Z"
    }
   }
  },
  {
   "cell_type": "code",
   "execution_count": 200,
   "outputs": [
    {
     "name": "stdout",
     "output_type": "stream",
     "text": [
      "1/1 [==============================] - 0s 11ms/step\n",
      "1/1 [==============================] - 0s 9ms/step\n",
      "1/1 [==============================] - 0s 10ms/step\n",
      "1/1 [==============================] - 0s 9ms/step\n",
      "1/1 [==============================] - 0s 10ms/step\n",
      "1/1 [==============================] - 0s 10ms/step\n",
      "1/1 [==============================] - 0s 9ms/step\n",
      "1/1 [==============================] - 0s 10ms/step\n",
      "1/1 [==============================] - 0s 9ms/step\n",
      "1/1 [==============================] - 0s 9ms/step\n",
      "1/1 [==============================] - 0s 9ms/step\n",
      "1/1 [==============================] - 0s 9ms/step\n",
      "1/1 [==============================] - 0s 9ms/step\n",
      "1/1 [==============================] - 0s 9ms/step\n",
      "1/1 [==============================] - 0s 9ms/step\n",
      "1/1 [==============================] - 0s 9ms/step\n",
      "1/1 [==============================] - 0s 9ms/step\n",
      "1/1 [==============================] - 0s 9ms/step\n",
      "1/1 [==============================] - 0s 9ms/step\n",
      "1/1 [==============================] - 0s 9ms/step\n",
      "1/1 [==============================] - 0s 9ms/step\n",
      "1/1 [==============================] - 0s 9ms/step\n",
      "1/1 [==============================] - 0s 10ms/step\n",
      "1/1 [==============================] - 0s 10ms/step\n",
      "1/1 [==============================] - 0s 10ms/step\n",
      "1/1 [==============================] - 0s 10ms/step\n",
      "1/1 [==============================] - 0s 10ms/step\n",
      "1/1 [==============================] - 0s 10ms/step\n",
      "1/1 [==============================] - 0s 9ms/step\n",
      "1/1 [==============================] - 0s 10ms/step\n",
      "1/1 [==============================] - 0s 9ms/step\n",
      "1/1 [==============================] - 0s 9ms/step\n",
      "1/1 [==============================] - 0s 9ms/step\n",
      "1/1 [==============================] - 0s 9ms/step\n",
      "1/1 [==============================] - 0s 9ms/step\n",
      "1/1 [==============================] - 0s 9ms/step\n",
      "1/1 [==============================] - 0s 10ms/step\n",
      "1/1 [==============================] - 0s 9ms/step\n",
      "1/1 [==============================] - 0s 10ms/step\n",
      "1/1 [==============================] - 0s 10ms/step\n",
      "1/1 [==============================] - 0s 11ms/step\n",
      "1/1 [==============================] - 0s 10ms/step\n",
      "1/1 [==============================] - 0s 10ms/step\n",
      "1/1 [==============================] - 0s 10ms/step\n",
      "1/1 [==============================] - 0s 10ms/step\n",
      "1/1 [==============================] - 0s 10ms/step\n",
      "1/1 [==============================] - 0s 10ms/step\n",
      "1/1 [==============================] - 0s 11ms/step\n",
      "1/1 [==============================] - 0s 11ms/step\n",
      "1/1 [==============================] - 0s 11ms/step\n",
      "1/1 [==============================] - 0s 10ms/step\n",
      "1/1 [==============================] - 0s 10ms/step\n",
      "1/1 [==============================] - 0s 10ms/step\n",
      "1/1 [==============================] - 0s 11ms/step\n",
      "1/1 [==============================] - 0s 11ms/step\n",
      "1/1 [==============================] - 0s 11ms/step\n",
      "1/1 [==============================] - 0s 10ms/step\n",
      "1/1 [==============================] - 0s 11ms/step\n",
      "1/1 [==============================] - 0s 11ms/step\n",
      "1/1 [==============================] - 0s 11ms/step\n",
      "1/1 [==============================] - 0s 11ms/step\n",
      "1/1 [==============================] - 0s 11ms/step\n",
      "1/1 [==============================] - 0s 12ms/step\n",
      "1/1 [==============================] - 0s 11ms/step\n",
      "1/1 [==============================] - 0s 10ms/step\n",
      "1/1 [==============================] - 0s 11ms/step\n",
      "1/1 [==============================] - 0s 11ms/step\n",
      "1/1 [==============================] - 0s 11ms/step\n",
      "1/1 [==============================] - 0s 10ms/step\n"
     ]
    },
    {
     "data": {
      "text/plain": "'ill you get out of me.it must be noted again that iven his dere you tinch pithors emendeal obsilation of the eldersthe'"
     },
     "execution_count": 200,
     "metadata": {},
     "output_type": "execute_result"
    }
   ],
   "source": [
    "random_lstm_predict()"
   ],
   "metadata": {
    "collapsed": false,
    "ExecuteTime": {
     "start_time": "2023-05-18T16:52:09.478169Z",
     "end_time": "2023-05-18T16:52:11.000885Z"
    }
   }
  },
  {
   "cell_type": "markdown",
   "source": [
    "Markov chain"
   ],
   "metadata": {
    "collapsed": false
   }
  },
  {
   "cell_type": "code",
   "execution_count": 174,
   "outputs": [],
   "source": [
    "last_n = 8\n",
    "\n",
    "graph = dict()\n",
    "for i in range(len(text) - last_n - 1):\n",
    "    l = text[i: i + last_n]\n",
    "    r = text[i + 1: i + last_n + 1]\n",
    "    if l not in graph:\n",
    "        graph[l] = dict()\n",
    "    if r not in graph[l]:\n",
    "        graph[l][r] = 1\n",
    "    else:\n",
    "        graph[l][r] += 1\n"
   ],
   "metadata": {
    "collapsed": false,
    "ExecuteTime": {
     "start_time": "2023-05-18T16:37:35.701359Z",
     "end_time": "2023-05-18T16:37:35.860445Z"
    }
   }
  },
  {
   "cell_type": "code",
   "execution_count": 175,
   "outputs": [
    {
     "data": {
      "text/plain": "{'ovitch k': 3,\n 'ovitch f': 3,\n 'ovitch i': 7,\n 'ovitch w': 29,\n 'ovitch d': 8,\n 'ovitch y': 2,\n 'ovitch a': 17,\n 'ovitch l': 4,\n 'ovitch j': 2,\n 'ovitch u': 4,\n 'ovitch r': 2,\n 'ovitch b': 7,\n 'ovitch m': 5,\n 'ovitch t': 6,\n 'ovitch c': 8,\n 'ovitch s': 12,\n 'ovitch h': 9,\n 'ovitch o': 3,\n 'ovitch g': 2,\n 'ovitch p': 5,\n 'ovitch n': 1,\n 'ovitch e': 1}"
     },
     "execution_count": 175,
     "metadata": {},
     "output_type": "execute_result"
    }
   ],
   "source": [
    "graph[list(graph.keys())[56]]"
   ],
   "metadata": {
    "collapsed": false,
    "ExecuteTime": {
     "start_time": "2023-05-18T16:37:35.865272Z",
     "end_time": "2023-05-18T16:37:35.867513Z"
    }
   }
  },
  {
   "cell_type": "code",
   "execution_count": 176,
   "outputs": [],
   "source": [
    "probabilities = dict()\n",
    "for key, value in graph.items():\n",
    "    count = 0\n",
    "    probabilities[key] = dict()\n",
    "    for k, v in value.items():\n",
    "        count += v\n",
    "    for k, v in value.items():\n",
    "        probabilities[key][k] = v / count\n"
   ],
   "metadata": {
    "collapsed": false,
    "ExecuteTime": {
     "start_time": "2023-05-18T16:37:36.130853Z",
     "end_time": "2023-05-18T16:37:36.242394Z"
    }
   }
  },
  {
   "cell_type": "code",
   "execution_count": 177,
   "outputs": [
    {
     "data": {
      "text/plain": "{'ovitch k': 0.02142857142857143,\n 'ovitch f': 0.02142857142857143,\n 'ovitch i': 0.05,\n 'ovitch w': 0.20714285714285716,\n 'ovitch d': 0.05714285714285714,\n 'ovitch y': 0.014285714285714285,\n 'ovitch a': 0.12142857142857143,\n 'ovitch l': 0.02857142857142857,\n 'ovitch j': 0.014285714285714285,\n 'ovitch u': 0.02857142857142857,\n 'ovitch r': 0.014285714285714285,\n 'ovitch b': 0.05,\n 'ovitch m': 0.03571428571428571,\n 'ovitch t': 0.04285714285714286,\n 'ovitch c': 0.05714285714285714,\n 'ovitch s': 0.08571428571428572,\n 'ovitch h': 0.06428571428571428,\n 'ovitch o': 0.02142857142857143,\n 'ovitch g': 0.014285714285714285,\n 'ovitch p': 0.03571428571428571,\n 'ovitch n': 0.007142857142857143,\n 'ovitch e': 0.007142857142857143}"
     },
     "execution_count": 177,
     "metadata": {},
     "output_type": "execute_result"
    }
   ],
   "source": [
    "probabilities[list(probabilities.keys())[56]]"
   ],
   "metadata": {
    "collapsed": false,
    "ExecuteTime": {
     "start_time": "2023-05-18T16:37:36.562874Z",
     "end_time": "2023-05-18T16:37:36.567394Z"
    }
   }
  },
  {
   "cell_type": "code",
   "execution_count": 181,
   "outputs": [],
   "source": [
    "def random_markov_chain_predict():\n",
    "    start_index = random.randint(0, len(text) - last_n - 1)\n",
    "    string = text[start_index:start_index + last_n]\n",
    "    return markov_chain_predict(string)\n",
    "\n",
    "\n",
    "def markov_chain_predict(string):\n",
    "    result = string\n",
    "    while True:\n",
    "        string = string[-last_n:]\n",
    "        if string not in probabilities:\n",
    "            return result + '.'\n",
    "        prediction = max(probabilities[string], key=probabilities[string].get)\n",
    "        new_char = prediction[-1]\n",
    "        result += new_char\n",
    "        if new_char == '.':\n",
    "            return result\n",
    "        string += prediction\n"
   ],
   "metadata": {
    "collapsed": false,
    "ExecuteTime": {
     "start_time": "2023-05-18T16:38:42.491647Z",
     "end_time": "2023-05-18T16:38:42.495294Z"
    }
   }
  },
  {
   "cell_type": "code",
   "execution_count": 182,
   "outputs": [
    {
     "data": {
      "text/plain": "'fyodor pavlovitch was a divinity student leaving mitya a child of three years old in her hands before the inmates being a regular roman nose he used to say that i should be no sin in it if i had only just because i spoke of eating gudgeon a day and happy faces.'"
     },
     "execution_count": 182,
     "metadata": {},
     "output_type": "execute_result"
    }
   ],
   "source": [
    "markov_chain_predict(\"fyodor pavlovitch\")"
   ],
   "metadata": {
    "collapsed": false,
    "ExecuteTime": {
     "start_time": "2023-05-18T16:38:42.765314Z",
     "end_time": "2023-05-18T16:38:42.767418Z"
    }
   }
  },
  {
   "cell_type": "code",
   "execution_count": 188,
   "outputs": [
    {
     "data": {
      "text/plain": "' where the inmates being a regular roman nose he used to say that i should be no sin in it if i had only just because i spoke of eating gudgeon a day and happy faces.'"
     },
     "execution_count": 188,
     "metadata": {},
     "output_type": "execute_result"
    }
   ],
   "source": [
    "random_markov_chain_predict()"
   ],
   "metadata": {
    "collapsed": false,
    "ExecuteTime": {
     "start_time": "2023-05-18T16:39:01.375230Z",
     "end_time": "2023-05-18T16:39:01.379606Z"
    }
   }
  },
  {
   "cell_type": "code",
   "execution_count": null,
   "outputs": [],
   "source": [],
   "metadata": {
    "collapsed": false
   }
  }
 ],
 "metadata": {
  "kernelspec": {
   "display_name": "Python 3",
   "language": "python",
   "name": "python3"
  },
  "language_info": {
   "codemirror_mode": {
    "name": "ipython",
    "version": 2
   },
   "file_extension": ".py",
   "mimetype": "text/x-python",
   "name": "python",
   "nbconvert_exporter": "python",
   "pygments_lexer": "ipython2",
   "version": "2.7.6"
  }
 },
 "nbformat": 4,
 "nbformat_minor": 0
}
